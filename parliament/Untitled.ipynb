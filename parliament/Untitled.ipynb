{
 "cells": [
  {
   "cell_type": "code",
   "execution_count": 1,
   "metadata": {},
   "outputs": [
    {
     "data": {
      "text/html": [
       "\n",
       "    <div class=\"bk-root\">\n",
       "        <a href=\"https://bokeh.pydata.org\" target=\"_blank\" class=\"bk-logo bk-logo-small bk-logo-notebook\"></a>\n",
       "        <span id=\"1001\">Loading BokehJS ...</span>\n",
       "    </div>"
      ]
     },
     "metadata": {},
     "output_type": "display_data"
    },
    {
     "data": {
      "application/javascript": [
       "\n",
       "(function(root) {\n",
       "  function now() {\n",
       "    return new Date();\n",
       "  }\n",
       "\n",
       "  var force = true;\n",
       "\n",
       "  if (typeof (root._bokeh_onload_callbacks) === \"undefined\" || force === true) {\n",
       "    root._bokeh_onload_callbacks = [];\n",
       "    root._bokeh_is_loading = undefined;\n",
       "  }\n",
       "\n",
       "  var JS_MIME_TYPE = 'application/javascript';\n",
       "  var HTML_MIME_TYPE = 'text/html';\n",
       "  var EXEC_MIME_TYPE = 'application/vnd.bokehjs_exec.v0+json';\n",
       "  var CLASS_NAME = 'output_bokeh rendered_html';\n",
       "\n",
       "  /**\n",
       "   * Render data to the DOM node\n",
       "   */\n",
       "  function render(props, node) {\n",
       "    var script = document.createElement(\"script\");\n",
       "    node.appendChild(script);\n",
       "  }\n",
       "\n",
       "  /**\n",
       "   * Handle when an output is cleared or removed\n",
       "   */\n",
       "  function handleClearOutput(event, handle) {\n",
       "    var cell = handle.cell;\n",
       "\n",
       "    var id = cell.output_area._bokeh_element_id;\n",
       "    var server_id = cell.output_area._bokeh_server_id;\n",
       "    // Clean up Bokeh references\n",
       "    if (id != null && id in Bokeh.index) {\n",
       "      Bokeh.index[id].model.document.clear();\n",
       "      delete Bokeh.index[id];\n",
       "    }\n",
       "\n",
       "    if (server_id !== undefined) {\n",
       "      // Clean up Bokeh references\n",
       "      var cmd = \"from bokeh.io.state import curstate; print(curstate().uuid_to_server['\" + server_id + \"'].get_sessions()[0].document.roots[0]._id)\";\n",
       "      cell.notebook.kernel.execute(cmd, {\n",
       "        iopub: {\n",
       "          output: function(msg) {\n",
       "            var id = msg.content.text.trim();\n",
       "            if (id in Bokeh.index) {\n",
       "              Bokeh.index[id].model.document.clear();\n",
       "              delete Bokeh.index[id];\n",
       "            }\n",
       "          }\n",
       "        }\n",
       "      });\n",
       "      // Destroy server and session\n",
       "      var cmd = \"import bokeh.io.notebook as ion; ion.destroy_server('\" + server_id + \"')\";\n",
       "      cell.notebook.kernel.execute(cmd);\n",
       "    }\n",
       "  }\n",
       "\n",
       "  /**\n",
       "   * Handle when a new output is added\n",
       "   */\n",
       "  function handleAddOutput(event, handle) {\n",
       "    var output_area = handle.output_area;\n",
       "    var output = handle.output;\n",
       "\n",
       "    // limit handleAddOutput to display_data with EXEC_MIME_TYPE content only\n",
       "    if ((output.output_type != \"display_data\") || (!output.data.hasOwnProperty(EXEC_MIME_TYPE))) {\n",
       "      return\n",
       "    }\n",
       "\n",
       "    var toinsert = output_area.element.find(\".\" + CLASS_NAME.split(' ')[0]);\n",
       "\n",
       "    if (output.metadata[EXEC_MIME_TYPE][\"id\"] !== undefined) {\n",
       "      toinsert[toinsert.length - 1].firstChild.textContent = output.data[JS_MIME_TYPE];\n",
       "      // store reference to embed id on output_area\n",
       "      output_area._bokeh_element_id = output.metadata[EXEC_MIME_TYPE][\"id\"];\n",
       "    }\n",
       "    if (output.metadata[EXEC_MIME_TYPE][\"server_id\"] !== undefined) {\n",
       "      var bk_div = document.createElement(\"div\");\n",
       "      bk_div.innerHTML = output.data[HTML_MIME_TYPE];\n",
       "      var script_attrs = bk_div.children[0].attributes;\n",
       "      for (var i = 0; i < script_attrs.length; i++) {\n",
       "        toinsert[toinsert.length - 1].firstChild.setAttribute(script_attrs[i].name, script_attrs[i].value);\n",
       "      }\n",
       "      // store reference to server id on output_area\n",
       "      output_area._bokeh_server_id = output.metadata[EXEC_MIME_TYPE][\"server_id\"];\n",
       "    }\n",
       "  }\n",
       "\n",
       "  function register_renderer(events, OutputArea) {\n",
       "\n",
       "    function append_mime(data, metadata, element) {\n",
       "      // create a DOM node to render to\n",
       "      var toinsert = this.create_output_subarea(\n",
       "        metadata,\n",
       "        CLASS_NAME,\n",
       "        EXEC_MIME_TYPE\n",
       "      );\n",
       "      this.keyboard_manager.register_events(toinsert);\n",
       "      // Render to node\n",
       "      var props = {data: data, metadata: metadata[EXEC_MIME_TYPE]};\n",
       "      render(props, toinsert[toinsert.length - 1]);\n",
       "      element.append(toinsert);\n",
       "      return toinsert\n",
       "    }\n",
       "\n",
       "    /* Handle when an output is cleared or removed */\n",
       "    events.on('clear_output.CodeCell', handleClearOutput);\n",
       "    events.on('delete.Cell', handleClearOutput);\n",
       "\n",
       "    /* Handle when a new output is added */\n",
       "    events.on('output_added.OutputArea', handleAddOutput);\n",
       "\n",
       "    /**\n",
       "     * Register the mime type and append_mime function with output_area\n",
       "     */\n",
       "    OutputArea.prototype.register_mime_type(EXEC_MIME_TYPE, append_mime, {\n",
       "      /* Is output safe? */\n",
       "      safe: true,\n",
       "      /* Index of renderer in `output_area.display_order` */\n",
       "      index: 0\n",
       "    });\n",
       "  }\n",
       "\n",
       "  // register the mime type if in Jupyter Notebook environment and previously unregistered\n",
       "  if (root.Jupyter !== undefined) {\n",
       "    var events = require('base/js/events');\n",
       "    var OutputArea = require('notebook/js/outputarea').OutputArea;\n",
       "\n",
       "    if (OutputArea.prototype.mime_types().indexOf(EXEC_MIME_TYPE) == -1) {\n",
       "      register_renderer(events, OutputArea);\n",
       "    }\n",
       "  }\n",
       "\n",
       "  \n",
       "  if (typeof (root._bokeh_timeout) === \"undefined\" || force === true) {\n",
       "    root._bokeh_timeout = Date.now() + 5000;\n",
       "    root._bokeh_failed_load = false;\n",
       "  }\n",
       "\n",
       "  var NB_LOAD_WARNING = {'data': {'text/html':\n",
       "     \"<div style='background-color: #fdd'>\\n\"+\n",
       "     \"<p>\\n\"+\n",
       "     \"BokehJS does not appear to have successfully loaded. If loading BokehJS from CDN, this \\n\"+\n",
       "     \"may be due to a slow or bad network connection. Possible fixes:\\n\"+\n",
       "     \"</p>\\n\"+\n",
       "     \"<ul>\\n\"+\n",
       "     \"<li>re-rerun `output_notebook()` to attempt to load from CDN again, or</li>\\n\"+\n",
       "     \"<li>use INLINE resources instead, as so:</li>\\n\"+\n",
       "     \"</ul>\\n\"+\n",
       "     \"<code>\\n\"+\n",
       "     \"from bokeh.resources import INLINE\\n\"+\n",
       "     \"output_notebook(resources=INLINE)\\n\"+\n",
       "     \"</code>\\n\"+\n",
       "     \"</div>\"}};\n",
       "\n",
       "  function display_loaded() {\n",
       "    var el = document.getElementById(\"1001\");\n",
       "    if (el != null) {\n",
       "      el.textContent = \"BokehJS is loading...\";\n",
       "    }\n",
       "    if (root.Bokeh !== undefined) {\n",
       "      if (el != null) {\n",
       "        el.textContent = \"BokehJS \" + root.Bokeh.version + \" successfully loaded.\";\n",
       "      }\n",
       "    } else if (Date.now() < root._bokeh_timeout) {\n",
       "      setTimeout(display_loaded, 100)\n",
       "    }\n",
       "  }\n",
       "\n",
       "\n",
       "  function run_callbacks() {\n",
       "    try {\n",
       "      root._bokeh_onload_callbacks.forEach(function(callback) { callback() });\n",
       "    }\n",
       "    finally {\n",
       "      delete root._bokeh_onload_callbacks\n",
       "    }\n",
       "    console.info(\"Bokeh: all callbacks have finished\");\n",
       "  }\n",
       "\n",
       "  function load_libs(js_urls, callback) {\n",
       "    root._bokeh_onload_callbacks.push(callback);\n",
       "    if (root._bokeh_is_loading > 0) {\n",
       "      console.log(\"Bokeh: BokehJS is being loaded, scheduling callback at\", now());\n",
       "      return null;\n",
       "    }\n",
       "    if (js_urls == null || js_urls.length === 0) {\n",
       "      run_callbacks();\n",
       "      return null;\n",
       "    }\n",
       "    console.log(\"Bokeh: BokehJS not loaded, scheduling load and callback at\", now());\n",
       "    root._bokeh_is_loading = js_urls.length;\n",
       "    for (var i = 0; i < js_urls.length; i++) {\n",
       "      var url = js_urls[i];\n",
       "      var s = document.createElement('script');\n",
       "      s.src = url;\n",
       "      s.async = false;\n",
       "      s.onreadystatechange = s.onload = function() {\n",
       "        root._bokeh_is_loading--;\n",
       "        if (root._bokeh_is_loading === 0) {\n",
       "          console.log(\"Bokeh: all BokehJS libraries loaded\");\n",
       "          run_callbacks()\n",
       "        }\n",
       "      };\n",
       "      s.onerror = function() {\n",
       "        console.warn(\"failed to load library \" + url);\n",
       "      };\n",
       "      console.log(\"Bokeh: injecting script tag for BokehJS library: \", url);\n",
       "      document.getElementsByTagName(\"head\")[0].appendChild(s);\n",
       "    }\n",
       "  };var element = document.getElementById(\"1001\");\n",
       "  if (element == null) {\n",
       "    console.log(\"Bokeh: ERROR: autoload.js configured with elementid '1001' but no matching script tag was found. \")\n",
       "    return false;\n",
       "  }\n",
       "\n",
       "  var js_urls = [\"https://cdn.pydata.org/bokeh/release/bokeh-1.0.2.min.js\", \"https://cdn.pydata.org/bokeh/release/bokeh-widgets-1.0.2.min.js\", \"https://cdn.pydata.org/bokeh/release/bokeh-tables-1.0.2.min.js\", \"https://cdn.pydata.org/bokeh/release/bokeh-gl-1.0.2.min.js\"];\n",
       "\n",
       "  var inline_js = [\n",
       "    function(Bokeh) {\n",
       "      Bokeh.set_log_level(\"info\");\n",
       "    },\n",
       "    \n",
       "    function(Bokeh) {\n",
       "      \n",
       "    },\n",
       "    function(Bokeh) {\n",
       "      console.log(\"Bokeh: injecting CSS: https://cdn.pydata.org/bokeh/release/bokeh-1.0.2.min.css\");\n",
       "      Bokeh.embed.inject_css(\"https://cdn.pydata.org/bokeh/release/bokeh-1.0.2.min.css\");\n",
       "      console.log(\"Bokeh: injecting CSS: https://cdn.pydata.org/bokeh/release/bokeh-widgets-1.0.2.min.css\");\n",
       "      Bokeh.embed.inject_css(\"https://cdn.pydata.org/bokeh/release/bokeh-widgets-1.0.2.min.css\");\n",
       "      console.log(\"Bokeh: injecting CSS: https://cdn.pydata.org/bokeh/release/bokeh-tables-1.0.2.min.css\");\n",
       "      Bokeh.embed.inject_css(\"https://cdn.pydata.org/bokeh/release/bokeh-tables-1.0.2.min.css\");\n",
       "    }\n",
       "  ];\n",
       "\n",
       "  function run_inline_js() {\n",
       "    \n",
       "    if ((root.Bokeh !== undefined) || (force === true)) {\n",
       "      for (var i = 0; i < inline_js.length; i++) {\n",
       "        inline_js[i].call(root, root.Bokeh);\n",
       "      }if (force === true) {\n",
       "        display_loaded();\n",
       "      }} else if (Date.now() < root._bokeh_timeout) {\n",
       "      setTimeout(run_inline_js, 100);\n",
       "    } else if (!root._bokeh_failed_load) {\n",
       "      console.log(\"Bokeh: BokehJS failed to load within specified timeout.\");\n",
       "      root._bokeh_failed_load = true;\n",
       "    } else if (force !== true) {\n",
       "      var cell = $(document.getElementById(\"1001\")).parents('.cell').data().cell;\n",
       "      cell.output_area.append_execute_result(NB_LOAD_WARNING)\n",
       "    }\n",
       "\n",
       "  }\n",
       "\n",
       "  if (root._bokeh_is_loading === 0) {\n",
       "    console.log(\"Bokeh: BokehJS loaded, going straight to plotting\");\n",
       "    run_inline_js();\n",
       "  } else {\n",
       "    load_libs(js_urls, function() {\n",
       "      console.log(\"Bokeh: BokehJS plotting callback run at\", now());\n",
       "      run_inline_js();\n",
       "    });\n",
       "  }\n",
       "}(window));"
      ],
      "application/vnd.bokehjs_load.v0+json": "\n(function(root) {\n  function now() {\n    return new Date();\n  }\n\n  var force = true;\n\n  if (typeof (root._bokeh_onload_callbacks) === \"undefined\" || force === true) {\n    root._bokeh_onload_callbacks = [];\n    root._bokeh_is_loading = undefined;\n  }\n\n  \n\n  \n  if (typeof (root._bokeh_timeout) === \"undefined\" || force === true) {\n    root._bokeh_timeout = Date.now() + 5000;\n    root._bokeh_failed_load = false;\n  }\n\n  var NB_LOAD_WARNING = {'data': {'text/html':\n     \"<div style='background-color: #fdd'>\\n\"+\n     \"<p>\\n\"+\n     \"BokehJS does not appear to have successfully loaded. If loading BokehJS from CDN, this \\n\"+\n     \"may be due to a slow or bad network connection. Possible fixes:\\n\"+\n     \"</p>\\n\"+\n     \"<ul>\\n\"+\n     \"<li>re-rerun `output_notebook()` to attempt to load from CDN again, or</li>\\n\"+\n     \"<li>use INLINE resources instead, as so:</li>\\n\"+\n     \"</ul>\\n\"+\n     \"<code>\\n\"+\n     \"from bokeh.resources import INLINE\\n\"+\n     \"output_notebook(resources=INLINE)\\n\"+\n     \"</code>\\n\"+\n     \"</div>\"}};\n\n  function display_loaded() {\n    var el = document.getElementById(\"1001\");\n    if (el != null) {\n      el.textContent = \"BokehJS is loading...\";\n    }\n    if (root.Bokeh !== undefined) {\n      if (el != null) {\n        el.textContent = \"BokehJS \" + root.Bokeh.version + \" successfully loaded.\";\n      }\n    } else if (Date.now() < root._bokeh_timeout) {\n      setTimeout(display_loaded, 100)\n    }\n  }\n\n\n  function run_callbacks() {\n    try {\n      root._bokeh_onload_callbacks.forEach(function(callback) { callback() });\n    }\n    finally {\n      delete root._bokeh_onload_callbacks\n    }\n    console.info(\"Bokeh: all callbacks have finished\");\n  }\n\n  function load_libs(js_urls, callback) {\n    root._bokeh_onload_callbacks.push(callback);\n    if (root._bokeh_is_loading > 0) {\n      console.log(\"Bokeh: BokehJS is being loaded, scheduling callback at\", now());\n      return null;\n    }\n    if (js_urls == null || js_urls.length === 0) {\n      run_callbacks();\n      return null;\n    }\n    console.log(\"Bokeh: BokehJS not loaded, scheduling load and callback at\", now());\n    root._bokeh_is_loading = js_urls.length;\n    for (var i = 0; i < js_urls.length; i++) {\n      var url = js_urls[i];\n      var s = document.createElement('script');\n      s.src = url;\n      s.async = false;\n      s.onreadystatechange = s.onload = function() {\n        root._bokeh_is_loading--;\n        if (root._bokeh_is_loading === 0) {\n          console.log(\"Bokeh: all BokehJS libraries loaded\");\n          run_callbacks()\n        }\n      };\n      s.onerror = function() {\n        console.warn(\"failed to load library \" + url);\n      };\n      console.log(\"Bokeh: injecting script tag for BokehJS library: \", url);\n      document.getElementsByTagName(\"head\")[0].appendChild(s);\n    }\n  };var element = document.getElementById(\"1001\");\n  if (element == null) {\n    console.log(\"Bokeh: ERROR: autoload.js configured with elementid '1001' but no matching script tag was found. \")\n    return false;\n  }\n\n  var js_urls = [\"https://cdn.pydata.org/bokeh/release/bokeh-1.0.2.min.js\", \"https://cdn.pydata.org/bokeh/release/bokeh-widgets-1.0.2.min.js\", \"https://cdn.pydata.org/bokeh/release/bokeh-tables-1.0.2.min.js\", \"https://cdn.pydata.org/bokeh/release/bokeh-gl-1.0.2.min.js\"];\n\n  var inline_js = [\n    function(Bokeh) {\n      Bokeh.set_log_level(\"info\");\n    },\n    \n    function(Bokeh) {\n      \n    },\n    function(Bokeh) {\n      console.log(\"Bokeh: injecting CSS: https://cdn.pydata.org/bokeh/release/bokeh-1.0.2.min.css\");\n      Bokeh.embed.inject_css(\"https://cdn.pydata.org/bokeh/release/bokeh-1.0.2.min.css\");\n      console.log(\"Bokeh: injecting CSS: https://cdn.pydata.org/bokeh/release/bokeh-widgets-1.0.2.min.css\");\n      Bokeh.embed.inject_css(\"https://cdn.pydata.org/bokeh/release/bokeh-widgets-1.0.2.min.css\");\n      console.log(\"Bokeh: injecting CSS: https://cdn.pydata.org/bokeh/release/bokeh-tables-1.0.2.min.css\");\n      Bokeh.embed.inject_css(\"https://cdn.pydata.org/bokeh/release/bokeh-tables-1.0.2.min.css\");\n    }\n  ];\n\n  function run_inline_js() {\n    \n    if ((root.Bokeh !== undefined) || (force === true)) {\n      for (var i = 0; i < inline_js.length; i++) {\n        inline_js[i].call(root, root.Bokeh);\n      }if (force === true) {\n        display_loaded();\n      }} else if (Date.now() < root._bokeh_timeout) {\n      setTimeout(run_inline_js, 100);\n    } else if (!root._bokeh_failed_load) {\n      console.log(\"Bokeh: BokehJS failed to load within specified timeout.\");\n      root._bokeh_failed_load = true;\n    } else if (force !== true) {\n      var cell = $(document.getElementById(\"1001\")).parents('.cell').data().cell;\n      cell.output_area.append_execute_result(NB_LOAD_WARNING)\n    }\n\n  }\n\n  if (root._bokeh_is_loading === 0) {\n    console.log(\"Bokeh: BokehJS loaded, going straight to plotting\");\n    run_inline_js();\n  } else {\n    load_libs(js_urls, function() {\n      console.log(\"Bokeh: BokehJS plotting callback run at\", now());\n      run_inline_js();\n    });\n  }\n}(window));"
     },
     "metadata": {},
     "output_type": "display_data"
    }
   ],
   "source": [
    "import geopandas as gpd\n",
    "import pandas as pd\n",
    "import numpy as np\n",
    "import seaborn as sns\n",
    "import matplotlib.pyplot as plt\n",
    "import matplotlib.patheffects as PathEffects\n",
    "%matplotlib inline\n",
    "\n",
    "from sklearn.preprocessing import OneHotEncoder\n",
    "\n",
    "from bokeh.io import show, output_notebook, push_notebook\n",
    "from bokeh.plotting import figure\n",
    "from bokeh.models import ColumnDataSource, HoverTool\n",
    "from bokeh.palettes import d3\n",
    "import bokeh.models as bmo\n",
    "import bokeh.plotting as bpl\n",
    "output_notebook()"
   ]
  },
  {
   "cell_type": "code",
   "execution_count": 2,
   "metadata": {
    "scrolled": true
   },
   "outputs": [
    {
     "name": "stderr",
     "output_type": "stream",
     "text": [
      "/Users/dianaow/anaconda3/lib/python3.7/site-packages/ipykernel_launcher.py:3: UserWarning: Geometry is in a geographic CRS. Results from 'centroid' are likely incorrect. Use 'GeoSeries.to_crs()' to re-project geometries to a projected CRS before this operation.\n",
      "\n",
      "  This is separate from the ipykernel package so we can avoid doing imports until\n"
     ]
    }
   ],
   "source": [
    "df = gpd.read_file('/Users/dianaow/Documents/singapore_stories/parliament/data/electoral-boundary-2020.json')\n",
    "#Find the center point\n",
    "df['Center_point'] = df['geometry'].centroid\n",
    "#Extract lat and lon from the centerpoint\n",
    "df[\"lat\"] = df.Center_point.map(lambda p: p.x)\n",
    "df[\"long\"] = df.Center_point.map(lambda p: p.y)"
   ]
  },
  {
   "cell_type": "code",
   "execution_count": 3,
   "metadata": {
    "scrolled": true
   },
   "outputs": [
    {
     "data": {
      "text/html": [
       "<div>\n",
       "<style scoped>\n",
       "    .dataframe tbody tr th:only-of-type {\n",
       "        vertical-align: middle;\n",
       "    }\n",
       "\n",
       "    .dataframe tbody tr th {\n",
       "        vertical-align: top;\n",
       "    }\n",
       "\n",
       "    .dataframe thead th {\n",
       "        text-align: right;\n",
       "    }\n",
       "</style>\n",
       "<table border=\"1\" class=\"dataframe\">\n",
       "  <thead>\n",
       "    <tr style=\"text-align: right;\">\n",
       "      <th></th>\n",
       "      <th>Name</th>\n",
       "      <th>description</th>\n",
       "      <th>altitudeMode</th>\n",
       "      <th>id</th>\n",
       "      <th>FID</th>\n",
       "      <th>ED_DESC</th>\n",
       "      <th>Field_1</th>\n",
       "      <th>geometry</th>\n",
       "      <th>Center_point</th>\n",
       "      <th>lat</th>\n",
       "      <th>long</th>\n",
       "    </tr>\n",
       "  </thead>\n",
       "  <tbody>\n",
       "    <tr>\n",
       "      <th>0</th>\n",
       "      <td>TANJONG PAGAR</td>\n",
       "      <td>None</td>\n",
       "      <td>clampToGround</td>\n",
       "      <td>TP</td>\n",
       "      <td>2</td>\n",
       "      <td>TANJONG PAGAR</td>\n",
       "      <td>TANJONG PAGAR</td>\n",
       "      <td>MULTIPOLYGON (((103.84580 1.26163, 103.84640 1...</td>\n",
       "      <td>POINT (103.82306 1.30169)</td>\n",
       "      <td>103.823059</td>\n",
       "      <td>1.301685</td>\n",
       "    </tr>\n",
       "    <tr>\n",
       "      <th>1</th>\n",
       "      <td>JALAN BESAR</td>\n",
       "      <td>None</td>\n",
       "      <td>clampToGround</td>\n",
       "      <td>JB</td>\n",
       "      <td>3</td>\n",
       "      <td>JALAN BESAR</td>\n",
       "      <td>JALAN BESAR</td>\n",
       "      <td>MULTIPOLYGON (((103.87383 1.28217, 103.87385 1...</td>\n",
       "      <td>POINT (103.85724 1.30020)</td>\n",
       "      <td>103.857243</td>\n",
       "      <td>1.300203</td>\n",
       "    </tr>\n",
       "    <tr>\n",
       "      <th>2</th>\n",
       "      <td>PIONEER</td>\n",
       "      <td>None</td>\n",
       "      <td>clampToGround</td>\n",
       "      <td>PI</td>\n",
       "      <td>5</td>\n",
       "      <td>PIONEER</td>\n",
       "      <td>PIONEER</td>\n",
       "      <td>MULTIPOLYGON (((103.70830 1.34003, 103.70895 1...</td>\n",
       "      <td>POINT (103.70086 1.33820)</td>\n",
       "      <td>103.700861</td>\n",
       "      <td>1.338201</td>\n",
       "    </tr>\n",
       "    <tr>\n",
       "      <th>3</th>\n",
       "      <td>YUHUA</td>\n",
       "      <td>None</td>\n",
       "      <td>clampToGround</td>\n",
       "      <td>YH</td>\n",
       "      <td>7</td>\n",
       "      <td>YUHUA</td>\n",
       "      <td>YUHUA</td>\n",
       "      <td>MULTIPOLYGON (((103.73730 1.34596, 103.73681 1...</td>\n",
       "      <td>POINT (103.73820 1.33945)</td>\n",
       "      <td>103.738196</td>\n",
       "      <td>1.339454</td>\n",
       "    </tr>\n",
       "    <tr>\n",
       "      <th>4</th>\n",
       "      <td>MARYMOUNT</td>\n",
       "      <td>None</td>\n",
       "      <td>clampToGround</td>\n",
       "      <td>MR</td>\n",
       "      <td>12</td>\n",
       "      <td>MARYMOUNT</td>\n",
       "      <td>MARYMOUNT</td>\n",
       "      <td>MULTIPOLYGON (((103.85226 1.36033, 103.85194 1...</td>\n",
       "      <td>POINT (103.84275 1.35775)</td>\n",
       "      <td>103.842752</td>\n",
       "      <td>1.357749</td>\n",
       "    </tr>\n",
       "  </tbody>\n",
       "</table>\n",
       "</div>"
      ],
      "text/plain": [
       "            Name description   altitudeMode  id FID        ED_DESC  \\\n",
       "0  TANJONG PAGAR        None  clampToGround  TP   2  TANJONG PAGAR   \n",
       "1    JALAN BESAR        None  clampToGround  JB   3    JALAN BESAR   \n",
       "2        PIONEER        None  clampToGround  PI   5        PIONEER   \n",
       "3          YUHUA        None  clampToGround  YH   7          YUHUA   \n",
       "4      MARYMOUNT        None  clampToGround  MR  12      MARYMOUNT   \n",
       "\n",
       "         Field_1                                           geometry  \\\n",
       "0  TANJONG PAGAR  MULTIPOLYGON (((103.84580 1.26163, 103.84640 1...   \n",
       "1    JALAN BESAR  MULTIPOLYGON (((103.87383 1.28217, 103.87385 1...   \n",
       "2        PIONEER  MULTIPOLYGON (((103.70830 1.34003, 103.70895 1...   \n",
       "3          YUHUA  MULTIPOLYGON (((103.73730 1.34596, 103.73681 1...   \n",
       "4      MARYMOUNT  MULTIPOLYGON (((103.85226 1.36033, 103.85194 1...   \n",
       "\n",
       "                Center_point         lat      long  \n",
       "0  POINT (103.82306 1.30169)  103.823059  1.301685  \n",
       "1  POINT (103.85724 1.30020)  103.857243  1.300203  \n",
       "2  POINT (103.70086 1.33820)  103.700861  1.338201  \n",
       "3  POINT (103.73820 1.33945)  103.738196  1.339454  \n",
       "4  POINT (103.84275 1.35775)  103.842752  1.357749  "
      ]
     },
     "execution_count": 3,
     "metadata": {},
     "output_type": "execute_result"
    }
   ],
   "source": [
    "df.head()"
   ]
  },
  {
   "cell_type": "code",
   "execution_count": 4,
   "metadata": {},
   "outputs": [
    {
     "name": "stderr",
     "output_type": "stream",
     "text": [
      "/Users/dianaow/anaconda3/lib/python3.7/site-packages/ipykernel_launcher.py:3: UserWarning: Geometry is in a geographic CRS. Results from 'centroid' are likely incorrect. Use 'GeoSeries.to_crs()' to re-project geometries to a projected CRS before this operation.\n",
      "\n",
      "  This is separate from the ipykernel package so we can avoid doing imports until\n"
     ]
    }
   ],
   "source": [
    "df_ward = gpd.read_file('/Users/dianaow/Documents/singapore_stories/parliament/data/GE2020.json')\n",
    "#Find the center point\n",
    "df_ward['Center_point'] = df_ward['geometry'].centroid\n",
    "#Extract lat and lon from the centerpoint\n",
    "df_ward[\"lat\"] = df_ward.Center_point.map(lambda p: p.x)\n",
    "df_ward[\"long\"] = df_ward.Center_point.map(lambda p: p.y)"
   ]
  },
  {
   "cell_type": "code",
   "execution_count": 5,
   "metadata": {},
   "outputs": [
    {
     "data": {
      "text/html": [
       "<div>\n",
       "<style scoped>\n",
       "    .dataframe tbody tr th:only-of-type {\n",
       "        vertical-align: middle;\n",
       "    }\n",
       "\n",
       "    .dataframe tbody tr th {\n",
       "        vertical-align: top;\n",
       "    }\n",
       "\n",
       "    .dataframe thead th {\n",
       "        text-align: right;\n",
       "    }\n",
       "</style>\n",
       "<table border=\"1\" class=\"dataframe\">\n",
       "  <thead>\n",
       "    <tr style=\"text-align: right;\">\n",
       "      <th></th>\n",
       "      <th>Name</th>\n",
       "      <th>Description</th>\n",
       "      <th>geometry</th>\n",
       "      <th>Center_point</th>\n",
       "      <th>lat</th>\n",
       "      <th>long</th>\n",
       "    </tr>\n",
       "  </thead>\n",
       "  <tbody>\n",
       "    <tr>\n",
       "      <th>0</th>\n",
       "      <td>MOUNTBATTEN SMC</td>\n",
       "      <td>GRC/SMC: Single Member Constituency&lt;br&gt;Member ...</td>\n",
       "      <td>POLYGON Z ((103.90455 1.29702 0.00000, 103.903...</td>\n",
       "      <td>POINT (103.88395 1.29795)</td>\n",
       "      <td>103.883951</td>\n",
       "      <td>1.297949</td>\n",
       "    </tr>\n",
       "    <tr>\n",
       "      <th>1</th>\n",
       "      <td>Marine Parade_3</td>\n",
       "      <td>GRC/SMC: MARINE PARADE GRC&lt;br&gt;Member of Parlia...</td>\n",
       "      <td>POLYGON Z ((103.91000 1.30547 0.00000, 103.908...</td>\n",
       "      <td>POINT (103.90716 1.30685)</td>\n",
       "      <td>103.907155</td>\n",
       "      <td>1.306847</td>\n",
       "    </tr>\n",
       "    <tr>\n",
       "      <th>2</th>\n",
       "      <td>Geylang Serai_2</td>\n",
       "      <td>GRC/SMC: MARINE PARADE GRC&lt;br&gt;Member of Parlia...</td>\n",
       "      <td>POLYGON Z ((103.89621 1.33776 0.00000, 103.895...</td>\n",
       "      <td>POINT (103.89268 1.32820)</td>\n",
       "      <td>103.892684</td>\n",
       "      <td>1.328197</td>\n",
       "    </tr>\n",
       "    <tr>\n",
       "      <th>3</th>\n",
       "      <td>Braddell Heights_1</td>\n",
       "      <td>GRC/SMC: MARINE PARADE GRC&lt;br&gt;Member of Parlia...</td>\n",
       "      <td>POLYGON Z ((103.88018 1.34885 0.00000, 103.879...</td>\n",
       "      <td>POINT (103.87097 1.34847)</td>\n",
       "      <td>103.870966</td>\n",
       "      <td>1.348472</td>\n",
       "    </tr>\n",
       "    <tr>\n",
       "      <th>4</th>\n",
       "      <td>MACPHERSON SMC</td>\n",
       "      <td>GRC/SMC: Single Member Constituency&lt;br&gt;Member ...</td>\n",
       "      <td>POLYGON Z ((103.88910 1.33247 0.00000, 103.888...</td>\n",
       "      <td>POINT (103.88609 1.32399)</td>\n",
       "      <td>103.886086</td>\n",
       "      <td>1.323992</td>\n",
       "    </tr>\n",
       "  </tbody>\n",
       "</table>\n",
       "</div>"
      ],
      "text/plain": [
       "                 Name                                        Description  \\\n",
       "0     MOUNTBATTEN SMC  GRC/SMC: Single Member Constituency<br>Member ...   \n",
       "1     Marine Parade_3  GRC/SMC: MARINE PARADE GRC<br>Member of Parlia...   \n",
       "2     Geylang Serai_2  GRC/SMC: MARINE PARADE GRC<br>Member of Parlia...   \n",
       "3  Braddell Heights_1  GRC/SMC: MARINE PARADE GRC<br>Member of Parlia...   \n",
       "4      MACPHERSON SMC  GRC/SMC: Single Member Constituency<br>Member ...   \n",
       "\n",
       "                                            geometry  \\\n",
       "0  POLYGON Z ((103.90455 1.29702 0.00000, 103.903...   \n",
       "1  POLYGON Z ((103.91000 1.30547 0.00000, 103.908...   \n",
       "2  POLYGON Z ((103.89621 1.33776 0.00000, 103.895...   \n",
       "3  POLYGON Z ((103.88018 1.34885 0.00000, 103.879...   \n",
       "4  POLYGON Z ((103.88910 1.33247 0.00000, 103.888...   \n",
       "\n",
       "                Center_point         lat      long  \n",
       "0  POINT (103.88395 1.29795)  103.883951  1.297949  \n",
       "1  POINT (103.90716 1.30685)  103.907155  1.306847  \n",
       "2  POINT (103.89268 1.32820)  103.892684  1.328197  \n",
       "3  POINT (103.87097 1.34847)  103.870966  1.348472  \n",
       "4  POINT (103.88609 1.32399)  103.886086  1.323992  "
      ]
     },
     "execution_count": 5,
     "metadata": {},
     "output_type": "execute_result"
    }
   ],
   "source": [
    "df_ward.head()"
   ]
  },
  {
   "cell_type": "code",
   "execution_count": 6,
   "metadata": {
    "scrolled": true
   },
   "outputs": [],
   "source": [
    "wards = pd.read_csv(\"/Users/dianaow/Documents/singapore_stories/parliament/data/Singapore Members of Parliament - Wards.csv\")\n",
    "constituencies = pd.read_csv(\"/Users/dianaow/Documents/singapore_stories/parliament/data/Singapore Members of Parliament - Consituencies.csv\")\n",
    "designation = pd.read_csv(\"/Users/dianaow/Documents/singapore_stories/parliament/data/Singapore Members of Parliament - 14th_Parliament.csv\")"
   ]
  },
  {
   "cell_type": "code",
   "execution_count": 7,
   "metadata": {
    "scrolled": true
   },
   "outputs": [],
   "source": [
    "constituencies['Division'] = constituencies['Division'].str.upper() \n",
    "constituencies = pd.merge(constituencies, df.rename(columns={\"Name\": 'Division'})\\\n",
    "                          [['Division', 'lat', 'long']], on='Division', how='left')\n",
    "\n",
    "constituencies = pd.merge(constituencies, wards, on='Name', how='left')\n",
    "constituencies = pd.merge(constituencies, df_ward.rename(columns={\"Name\": 'Ward', 'lat': 'lat_ward', 'long': 'lon_ward'})\\\n",
    "                          [['Ward', 'lat_ward', 'lon_ward']], on='Ward', how='left')\n",
    "\n",
    "constituencies['Ward'] = constituencies['Ward'].apply(lambda x: x.split('_')[0])\n",
    "constituencies['newName'] = constituencies['Name'].apply(lambda x : x.replace(' ', '_'))\n",
    "\n",
    "constituencies = pd.merge(constituencies, designation.rename(columns={'Type': 'Title'}), on='Name', how='left')"
   ]
  },
  {
   "cell_type": "code",
   "execution_count": 8,
   "metadata": {},
   "outputs": [],
   "source": [
    "constituencies['First_Occupation'] = constituencies['First_Occupation'].apply(lambda x: x.strip())\n",
    "constituencies['Previous_Occupation'] = constituencies['Previous_Occupation'].apply(lambda x: x.strip())"
   ]
  },
  {
   "cell_type": "code",
   "execution_count": 9,
   "metadata": {
    "scrolled": true
   },
   "outputs": [],
   "source": [
    "constituencies['Title_1'] = constituencies['Title_1'].replace('Deputy Prime Minister', 'Senior Minister')\n",
    "constituencies['Title_1'] = constituencies['Title_1'].replace('Minister i/c of Social Services Integration', 'Minister')\n",
    "\n",
    "constituencies['Title_2'] = constituencies['Title_1'].replace('Deputy Prime Minister', 'Senior Minister')\n",
    "constituencies['Title_2'] = constituencies['Title_1'].replace('Senior Minister of State', 'Minister of State')\n",
    "constituencies['Title_2'] = constituencies['Title_1'].replace('Senior Parliamentary Secretary', 'Parliamentary Secretaries')"
   ]
  },
  {
   "cell_type": "code",
   "execution_count": 10,
   "metadata": {
    "scrolled": true
   },
   "outputs": [],
   "source": [
    "for i,row in constituencies.iterrows():\n",
    "    if(constituencies.loc[i, \"Age\"] <= 35):\n",
    "        constituencies.loc[i, \"Age_group\"] = 'Less than 35'\n",
    "    elif((constituencies.loc[i, \"Age\"] > 35) & (constituencies.loc[i, \"Age\"] <= 40)):\n",
    "        constituencies.loc[i, \"Age_group\"] = '35 - 40'\n",
    "    elif((constituencies.loc[i, \"Age\"] > 40) & (constituencies.loc[i, \"Age\"] <= 45)):\n",
    "        constituencies.loc[i, \"Age_group\"] = '40 - 45'\n",
    "    elif((constituencies.loc[i, \"Age\"] > 45) & (constituencies.loc[i, \"Age\"] <= 50)):\n",
    "        constituencies.loc[i, \"Age_group\"] = '45 - 50'\n",
    "    elif((constituencies.loc[i, \"Age\"] > 50) & (constituencies.loc[i, \"Age\"] <= 55)):\n",
    "        constituencies.loc[i, \"Age_group\"] = '50 - 55'\n",
    "    elif((constituencies.loc[i, \"Age\"] > 55) & (constituencies.loc[i, \"Age\"] <= 60)):\n",
    "        constituencies.loc[i, \"Age_group\"] = '55 - 60'\n",
    "    elif((constituencies.loc[i, \"Age\"] > 60) & (constituencies.loc[i, \"Age\"] <= 65)):\n",
    "        constituencies.loc[i, \"Age_group\"] = '60 - 65'\n",
    "    elif(constituencies.loc[i, \"Age\"] > 65):\n",
    "        constituencies.loc[i, \"Age_group\"] = 'More than 65'"
   ]
  },
  {
   "cell_type": "code",
   "execution_count": 11,
   "metadata": {},
   "outputs": [
    {
     "data": {
      "text/plain": [
       "Index(['Division', 'Type', 'Name', 'lat', 'long', 'Ward', 'lat_ward',\n",
       "       'lon_ward', 'newName', 'Party', 'Age', 'Years_In_Politics', 'Ethnicity',\n",
       "       'Gender', 'Grassroots_Experience', 'First_Occupation',\n",
       "       'Previous_Occupation', 'Previous/Current_Role', 'Previous_Employer',\n",
       "       'Title', 'Parliament', 'Type.1', 'Ministry_1', 'Ministry_2',\n",
       "       'Ministry_3', 'Title_1', 'Title_2', 'Title_3', 'Defence',\n",
       "       'Foreign Affairs', 'Health', 'Transport',\n",
       "       'Sustainability and the Environment', 'Social & Family Development',\n",
       "       'Communications & Information', 'Culture, Community and Youth',\n",
       "       'Education', 'Trade and Industry', 'Manpower', 'Finance', 'PMO', 'Law',\n",
       "       'National Development', 'Home Affairs', 'Age_group'],\n",
       "      dtype='object')"
      ]
     },
     "execution_count": 11,
     "metadata": {},
     "output_type": "execute_result"
    }
   ],
   "source": [
    "constituencies.columns"
   ]
  },
  {
   "cell_type": "code",
   "execution_count": 12,
   "metadata": {
    "scrolled": true
   },
   "outputs": [
    {
     "data": {
      "text/plain": [
       "Division                               0\n",
       "Type                                   1\n",
       "Name                                   0\n",
       "lat                                    0\n",
       "long                                   0\n",
       "Ward                                   0\n",
       "lat_ward                               0\n",
       "lon_ward                               0\n",
       "newName                                0\n",
       "Party                                  0\n",
       "Age                                    0\n",
       "Years_In_Politics                      0\n",
       "Ethnicity                              0\n",
       "Gender                                 0\n",
       "Grassroots_Experience                  0\n",
       "First_Occupation                       0\n",
       "Previous_Occupation                    0\n",
       "Previous/Current_Role                  2\n",
       "Previous_Employer                      4\n",
       "Title                                  0\n",
       "Parliament                             0\n",
       "Type.1                                 0\n",
       "Ministry_1                            56\n",
       "Ministry_2                            69\n",
       "Ministry_3                            90\n",
       "Title_1                                0\n",
       "Title_2                                0\n",
       "Title_3                               90\n",
       "Defence                                0\n",
       "Foreign Affairs                        0\n",
       "Health                                 0\n",
       "Transport                              0\n",
       "Sustainability and the Environment     0\n",
       "Social & Family Development            0\n",
       "Communications & Information           0\n",
       "Culture, Community and Youth           0\n",
       "Education                              0\n",
       "Trade and Industry                     0\n",
       "Manpower                               0\n",
       "Finance                                0\n",
       "PMO                                    0\n",
       "Law                                    0\n",
       "National Development                   0\n",
       "Home Affairs                           0\n",
       "Age_group                              0\n",
       "dtype: int64"
      ]
     },
     "execution_count": 12,
     "metadata": {},
     "output_type": "execute_result"
    }
   ],
   "source": [
    "constituencies.isnull().sum()"
   ]
  },
  {
   "cell_type": "code",
   "execution_count": 50,
   "metadata": {
    "scrolled": true
   },
   "outputs": [],
   "source": [
    "X_subset = constituencies[['Age_group', 'Years_In_Politics', 'Ethnicity', 'Gender', 'Title_1', \\\n",
    "                           'First_Occupation', 'Previous_Occupation']]\n",
    "\n",
    "#X_subset = constituencies[['Age_group', 'Years_In_Politics', 'Ethnicity', 'Gender', 'Title_1', \\\n",
    "                           #'First_Occupation', 'Previous_Occupation', 'Defence', 'Foreign Affairs', 'Health', \\\n",
    "                           #'Transport', 'Sustainability and the Environment', 'Social & Family Development', \\\n",
    "                           #'Communications & Information', 'Culture, Community and Youth', 'Education', \\\n",
    "                           #'Trade and Industry', 'Manpower', 'Finance', 'PMO', 'Law', 'National Development', 'Home Affairs' ]]"
   ]
  },
  {
   "cell_type": "code",
   "execution_count": 51,
   "metadata": {
    "scrolled": true
   },
   "outputs": [],
   "source": [
    "enc = OneHotEncoder(handle_unknown='ignore')\n",
    "X_enc = enc.fit_transform(X_subset).toarray()\n",
    "enc_cols = enc.get_feature_names(X_subset.columns)\n",
    "df_X = pd.DataFrame(X_enc, columns=enc_cols)"
   ]
  },
  {
   "cell_type": "code",
   "execution_count": 52,
   "metadata": {},
   "outputs": [],
   "source": [
    "from sklearn.manifold import TSNE\n",
    "\n",
    "RS = 123\n",
    "tsne_features = TSNE(random_state=RS, perplexity=50.0, n_iter=5000, learning_rate=10).fit_transform(X_enc)\n",
    "\n",
    "# Make X, Y columns \n",
    "constituencies['X'] = tsne_features[:, 0]\n",
    "constituencies['Y'] = tsne_features[:, 1]"
   ]
  },
  {
   "cell_type": "code",
   "execution_count": 48,
   "metadata": {},
   "outputs": [
    {
     "data": {
      "text/plain": [
       "Index(['Division', 'Type', 'Name', 'lat', 'long', 'Ward', 'lat_ward',\n",
       "       'lon_ward', 'newName', 'Party', 'Age', 'Years_In_Politics', 'Ethnicity',\n",
       "       'Gender', 'Grassroots_Experience', 'First_Occupation',\n",
       "       'Previous_Occupation', 'Previous/Current_Role', 'Previous_Employer',\n",
       "       'Title', 'Parliament', 'Type.1', 'Ministry_1', 'Ministry_2',\n",
       "       'Ministry_3', 'Title_1', 'Title_2', 'Title_3', 'Defence',\n",
       "       'Foreign Affairs', 'Health', 'Transport',\n",
       "       'Sustainability and the Environment', 'Social & Family Development',\n",
       "       'Communications & Information', 'Culture, Community and Youth',\n",
       "       'Education', 'Trade and Industry', 'Manpower', 'Finance', 'PMO', 'Law',\n",
       "       'National Development', 'Home Affairs', 'Age_group', 'X', 'Y', 'color',\n",
       "       'color1', 'color2', 'color4', 'color3', 'X1', 'Y1', 'code'],\n",
       "      dtype='object')"
      ]
     },
     "execution_count": 48,
     "metadata": {},
     "output_type": "execute_result"
    }
   ],
   "source": [
    "constituencies.columns"
   ]
  },
  {
   "cell_type": "code",
   "execution_count": 17,
   "metadata": {
    "scrolled": true
   },
   "outputs": [],
   "source": [
    "for i,row in constituencies.iterrows():\n",
    "    if(constituencies.loc[i, \"Previous_Occupation\"] == 'Public Service (Labour)'):\n",
    "        constituencies.loc[i, \"color\"] = 'rgb(199,21,133)'\n",
    "    elif(constituencies.loc[i, \"Previous_Occupation\"] == 'IT/Engineering'):\n",
    "        constituencies.loc[i, \"color\"] = 'rgb(139,0,0)'\n",
    "    elif(constituencies.loc[i, \"Previous_Occupation\"] == 'Infrastructure (Transport/Telecomms/Real Estate)'):\n",
    "        constituencies.loc[i, \"color\"] = 'rgb(255,69,0)'\n",
    "    elif(constituencies.loc[i, \"Previous_Occupation\"] == 'Public Service (Multiple Stat Boards)'):\n",
    "        constituencies.loc[i, \"color\"] = 'rgb(255,215,0)'\n",
    "    elif(constituencies.loc[i, \"Previous_Occupation\"] == 'Social Enterprise/Charity'):\n",
    "        constituencies.loc[i, \"color\"] = 'rgb(0,100,0)'\n",
    "    elif(constituencies.loc[i, \"Previous_Occupation\"] == 'SAF/SPF/SCDF'):\n",
    "        constituencies.loc[i, \"color\"] = 'rgb(50,205,50)'\n",
    "    elif(constituencies.loc[i, \"Previous_Occupation\"] == 'Law'):\n",
    "        constituencies.loc[i, \"color\"] = 'rgb(0,128,128)'\n",
    "    elif(constituencies.loc[i, \"Previous_Occupation\"] == 'Education'):\n",
    "        constituencies.loc[i, \"color\"] = 'rgb(255,228,225)' \n",
    "    elif(constituencies.loc[i, \"Previous_Occupation\"] == 'Finance'):\n",
    "        constituencies.loc[i, \"color\"] = 'rgb(47,79,79)' \n",
    "    elif(constituencies.loc[i, \"Previous_Occupation\"] == 'Entrepreneur'):\n",
    "        constituencies.loc[i, \"color\"] = 'rgb(0,0,0)' \n",
    "    elif(constituencies.loc[i, \"Previous_Occupation\"] == 'Public Service (Finance)'):\n",
    "        constituencies.loc[i, \"color\"] = 'rgb(255, 105, 180)' \n",
    "    elif(constituencies.loc[i, \"Previous_Occupation\"] == 'Biz Dev'):\n",
    "        constituencies.loc[i, \"color\"] = 'rgb(255,0,0)' \n",
    "    elif(constituencies.loc[i, \"Previous_Occupation\"] == 'Specialist - Healthcare'):\n",
    "        constituencies.loc[i, \"color\"] = 'rgb(0,255,0)' \n",
    "    elif(constituencies.loc[i, \"Previous_Occupation\"] == 'Public Service (Social/Healthcare)'):\n",
    "        constituencies.loc[i, \"color\"] = 'rgb(0,0,255)' \n",
    "    elif(constituencies.loc[i, \"Previous_Occupation\"] == 'Public Service / Govt-linked (Biz Dev)'):\n",
    "        constituencies.loc[i, \"color\"] = 'rgb(188,143,143)' \n",
    "    else:\n",
    "        constituencies.loc[i, \"color\"] = 'rgb(128,0,128)' "
   ]
  },
  {
   "cell_type": "code",
   "execution_count": 18,
   "metadata": {},
   "outputs": [],
   "source": [
    "for i,row in constituencies.iterrows():\n",
    "    if(constituencies.loc[i, 'Grassroots_Experience'] == 'Yes'):\n",
    "        constituencies.loc[i, \"color1\"] = 'rgb(199,21,133)'\n",
    "    elif(constituencies.loc[i, 'Grassroots_Experience'] == 'No'):\n",
    "        constituencies.loc[i, \"color1\"] = 'rgb(139,0,0)'"
   ]
  },
  {
   "cell_type": "code",
   "execution_count": 19,
   "metadata": {},
   "outputs": [],
   "source": [
    "for i,row in constituencies.iterrows():\n",
    "    if(constituencies.loc[i, 'Gender'] == 'Male'):\n",
    "        constituencies.loc[i, \"color2\"] = 'rgb(199,21,133)'\n",
    "    elif(constituencies.loc[i, 'Gender'] == 'Female'):\n",
    "        constituencies.loc[i, \"color2\"] = 'rgb(139,0,0)'"
   ]
  },
  {
   "cell_type": "code",
   "execution_count": 20,
   "metadata": {},
   "outputs": [],
   "source": [
    "for i,row in constituencies.iterrows():\n",
    "    if(constituencies.loc[i, 'Party'] == \"People's Action Party\"):\n",
    "        constituencies.loc[i, \"color4\"] = 'rgb(199,21,133)'\n",
    "    elif(constituencies.loc[i, 'Party'] == \"Workers' Party\"):\n",
    "        constituencies.loc[i, \"color4\"] = 'rgb(139,0,0)'"
   ]
  },
  {
   "cell_type": "code",
   "execution_count": 21,
   "metadata": {},
   "outputs": [],
   "source": [
    "for i,row in constituencies.iterrows():\n",
    "    if(constituencies.loc[i, \"Ethnicity\"] == 'Chinese'):\n",
    "        constituencies.loc[i, \"color3\"] = 'rgb(0,0,255)'\n",
    "    elif(constituencies.loc[i, \"Ethnicity\"] == 'Malay'):\n",
    "        constituencies.loc[i, \"color3\"] = 'rgb(0,255,0)'\n",
    "    elif(constituencies.loc[i, \"Ethnicity\"] == 'Indian'):\n",
    "        constituencies.loc[i, \"color3\"] = 'rgb(255,0,0)'\n",
    "    elif(constituencies.loc[i, \"Ethnicity\"] == 'Eurasian'):\n",
    "        constituencies.loc[i, \"color3\"] = 'rgb(0,255,255)'"
   ]
  },
  {
   "cell_type": "code",
   "execution_count": 22,
   "metadata": {
    "scrolled": true
   },
   "outputs": [
    {
     "data": {
      "text/html": [
       "<div style=\"display: table;\"><div style=\"display: table-row;\"><div style=\"display: table-cell;\"><b title=\"bokeh.models.renderers.GlyphRenderer\">GlyphRenderer</b>(</div><div style=\"display: table-cell;\">id&nbsp;=&nbsp;'1040', <span id=\"1043\" style=\"cursor: pointer;\">&hellip;)</span></div></div><div class=\"1042\" style=\"display: none;\"><div style=\"display: table-cell;\"></div><div style=\"display: table-cell;\">data_source&nbsp;=&nbsp;ColumnDataSource(id='1002', ...),</div></div><div class=\"1042\" style=\"display: none;\"><div style=\"display: table-cell;\"></div><div style=\"display: table-cell;\">glyph&nbsp;=&nbsp;Scatter(id='1038', ...),</div></div><div class=\"1042\" style=\"display: none;\"><div style=\"display: table-cell;\"></div><div style=\"display: table-cell;\">hover_glyph&nbsp;=&nbsp;None,</div></div><div class=\"1042\" style=\"display: none;\"><div style=\"display: table-cell;\"></div><div style=\"display: table-cell;\">js_event_callbacks&nbsp;=&nbsp;{},</div></div><div class=\"1042\" style=\"display: none;\"><div style=\"display: table-cell;\"></div><div style=\"display: table-cell;\">js_property_callbacks&nbsp;=&nbsp;{},</div></div><div class=\"1042\" style=\"display: none;\"><div style=\"display: table-cell;\"></div><div style=\"display: table-cell;\">level&nbsp;=&nbsp;'glyph',</div></div><div class=\"1042\" style=\"display: none;\"><div style=\"display: table-cell;\"></div><div style=\"display: table-cell;\">muted&nbsp;=&nbsp;False,</div></div><div class=\"1042\" style=\"display: none;\"><div style=\"display: table-cell;\"></div><div style=\"display: table-cell;\">muted_glyph&nbsp;=&nbsp;None,</div></div><div class=\"1042\" style=\"display: none;\"><div style=\"display: table-cell;\"></div><div style=\"display: table-cell;\">name&nbsp;=&nbsp;None,</div></div><div class=\"1042\" style=\"display: none;\"><div style=\"display: table-cell;\"></div><div style=\"display: table-cell;\">nonselection_glyph&nbsp;=&nbsp;Scatter(id='1039', ...),</div></div><div class=\"1042\" style=\"display: none;\"><div style=\"display: table-cell;\"></div><div style=\"display: table-cell;\">selection_glyph&nbsp;=&nbsp;None,</div></div><div class=\"1042\" style=\"display: none;\"><div style=\"display: table-cell;\"></div><div style=\"display: table-cell;\">subscribed_events&nbsp;=&nbsp;[],</div></div><div class=\"1042\" style=\"display: none;\"><div style=\"display: table-cell;\"></div><div style=\"display: table-cell;\">tags&nbsp;=&nbsp;[],</div></div><div class=\"1042\" style=\"display: none;\"><div style=\"display: table-cell;\"></div><div style=\"display: table-cell;\">view&nbsp;=&nbsp;CDSView(id='1041', ...),</div></div><div class=\"1042\" style=\"display: none;\"><div style=\"display: table-cell;\"></div><div style=\"display: table-cell;\">visible&nbsp;=&nbsp;True,</div></div><div class=\"1042\" style=\"display: none;\"><div style=\"display: table-cell;\"></div><div style=\"display: table-cell;\">x_range_name&nbsp;=&nbsp;'default',</div></div><div class=\"1042\" style=\"display: none;\"><div style=\"display: table-cell;\"></div><div style=\"display: table-cell;\">y_range_name&nbsp;=&nbsp;'default')</div></div></div>\n",
       "<script>\n",
       "(function() {\n",
       "  var expanded = false;\n",
       "  var ellipsis = document.getElementById(\"1043\");\n",
       "  ellipsis.addEventListener(\"click\", function() {\n",
       "    var rows = document.getElementsByClassName(\"1042\");\n",
       "    for (var i = 0; i < rows.length; i++) {\n",
       "      var el = rows[i];\n",
       "      el.style.display = expanded ? \"none\" : \"table-row\";\n",
       "    }\n",
       "    ellipsis.innerHTML = expanded ? \"&hellip;)\" : \"&lsaquo;&lsaquo;&lsaquo;\";\n",
       "    expanded = !expanded;\n",
       "  });\n",
       "})();\n",
       "</script>\n"
      ],
      "text/plain": [
       "GlyphRenderer(id='1040', ...)"
      ]
     },
     "execution_count": 22,
     "metadata": {},
     "output_type": "execute_result"
    }
   ],
   "source": [
    "# Make a source and a scatter plot  \n",
    "source = ColumnDataSource(constituencies)\n",
    "\n",
    "plot = figure(x_axis_label = 'T-SNE 1', \n",
    "              y_axis_label = 'T-SNE 2', \n",
    "              width = 500, height = 400)\n",
    "\n",
    "\n",
    "plot.scatter(\n",
    "    \"X\", \"Y\", \n",
    "    source = source, \n",
    "    size = 10, \n",
    "    color='color', \n",
    "    alpha = .5)"
   ]
  },
  {
   "cell_type": "code",
   "execution_count": 23,
   "metadata": {},
   "outputs": [],
   "source": [
    "# Create a HoverTool object\n",
    "hover = HoverTool(tooltips = [('Name', '@Name')])\n",
    "plot.add_tools(hover)"
   ]
  },
  {
   "cell_type": "code",
   "execution_count": 24,
   "metadata": {},
   "outputs": [
    {
     "data": {
      "text/html": [
       "\n",
       "\n",
       "\n",
       "\n",
       "\n",
       "\n",
       "  <div class=\"bk-root\" id=\"156f838e-77fc-45a3-a96e-b235b1be1349\"></div>\n"
      ]
     },
     "metadata": {},
     "output_type": "display_data"
    },
    {
     "data": {
      "application/javascript": [
       "(function(root) {\n",
       "  function embed_document(root) {\n",
       "    \n",
       "  var docs_json = {\"afd0e772-ade1-41be-9365-ff0de09d0829\":{\"roots\":{\"references\":[{\"attributes\":{\"below\":[{\"id\":\"1012\",\"type\":\"LinearAxis\"}],\"left\":[{\"id\":\"1017\",\"type\":\"LinearAxis\"}],\"plot_height\":400,\"plot_width\":500,\"renderers\":[{\"id\":\"1012\",\"type\":\"LinearAxis\"},{\"id\":\"1016\",\"type\":\"Grid\"},{\"id\":\"1017\",\"type\":\"LinearAxis\"},{\"id\":\"1021\",\"type\":\"Grid\"},{\"id\":\"1030\",\"type\":\"BoxAnnotation\"},{\"id\":\"1040\",\"type\":\"GlyphRenderer\"}],\"title\":{\"id\":\"1046\",\"type\":\"Title\"},\"toolbar\":{\"id\":\"1028\",\"type\":\"Toolbar\"},\"x_range\":{\"id\":\"1004\",\"type\":\"DataRange1d\"},\"x_scale\":{\"id\":\"1008\",\"type\":\"LinearScale\"},\"y_range\":{\"id\":\"1006\",\"type\":\"DataRange1d\"},\"y_scale\":{\"id\":\"1010\",\"type\":\"LinearScale\"}},\"id\":\"1003\",\"subtype\":\"Figure\",\"type\":\"Plot\"},{\"attributes\":{},\"id\":\"1023\",\"type\":\"WheelZoomTool\"},{\"attributes\":{\"plot\":{\"id\":\"1003\",\"subtype\":\"Figure\",\"type\":\"Plot\"},\"ticker\":{\"id\":\"1013\",\"type\":\"BasicTicker\"}},\"id\":\"1016\",\"type\":\"Grid\"},{\"attributes\":{\"fill_alpha\":{\"value\":0.5},\"fill_color\":{\"field\":\"color\"},\"line_alpha\":{\"value\":0.5},\"line_color\":{\"field\":\"color\"},\"size\":{\"units\":\"screen\",\"value\":10},\"x\":{\"field\":\"X\"},\"y\":{\"field\":\"Y\"}},\"id\":\"1038\",\"type\":\"Scatter\"},{\"attributes\":{},\"id\":\"1049\",\"type\":\"BasicTickFormatter\"},{\"attributes\":{},\"id\":\"1022\",\"type\":\"PanTool\"},{\"attributes\":{\"callback\":null,\"data\":{\"Age\":[39,40,62,53,49,38,50,46,44,43,54,44,49,60,49,52,42,44,50,43,36,51,41,54,61,45,56,42,56,33,37,59,59,44,57,44,47,54,53,52,61,48,47,68,49,56,57,51,33,41,46,55,43,57,48,39,47,45,52,52,30,61,48,50,48,44,44,47,26,40,58,46,58,38,45,56,41,55,51,43,55,45,65,63,36,42,59,41,35,44,43,45,39],\"Age_group\":[\"35 - 40\",\"35 - 40\",\"60 - 65\",\"50 - 55\",\"45 - 50\",\"35 - 40\",\"45 - 50\",\"45 - 50\",\"40 - 45\",\"40 - 45\",\"50 - 55\",\"40 - 45\",\"45 - 50\",\"55 - 60\",\"45 - 50\",\"50 - 55\",\"40 - 45\",\"40 - 45\",\"45 - 50\",\"40 - 45\",\"35 - 40\",\"50 - 55\",\"40 - 45\",\"50 - 55\",\"60 - 65\",\"40 - 45\",\"55 - 60\",\"40 - 45\",\"55 - 60\",\"Less than 35\",\"35 - 40\",\"55 - 60\",\"55 - 60\",\"40 - 45\",\"55 - 60\",\"40 - 45\",\"45 - 50\",\"50 - 55\",\"50 - 55\",\"50 - 55\",\"60 - 65\",\"45 - 50\",\"45 - 50\",\"More than 65\",\"45 - 50\",\"55 - 60\",\"55 - 60\",\"50 - 55\",\"Less than 35\",\"40 - 45\",\"45 - 50\",\"50 - 55\",\"40 - 45\",\"55 - 60\",\"45 - 50\",\"35 - 40\",\"45 - 50\",\"40 - 45\",\"50 - 55\",\"50 - 55\",\"Less than 35\",\"60 - 65\",\"45 - 50\",\"45 - 50\",\"45 - 50\",\"40 - 45\",\"40 - 45\",\"45 - 50\",\"Less than 35\",\"35 - 40\",\"55 - 60\",\"45 - 50\",\"55 - 60\",\"35 - 40\",\"40 - 45\",\"55 - 60\",\"40 - 45\",\"50 - 55\",\"50 - 55\",\"40 - 45\",\"50 - 55\",\"40 - 45\",\"60 - 65\",\"60 - 65\",\"35 - 40\",\"40 - 45\",\"55 - 60\",\"40 - 45\",\"Less than 35\",\"40 - 45\",\"40 - 45\",\"40 - 45\",\"35 - 40\"],\"Communications & Information\":[0,0,0,0,0,0,0,0,0,0,0,0,0,0,0,0,0,0,0,0,0,0,0,0,0,0,0,0,0,0,0,0,0,0,0,0,1,0,0,0,0,0,0,0,0,0,0,0,0,0,0,0,0,0,0,0,0,0,0,0,0,0,0,0,0,0,0,0,0,0,1,0,0,0,1,0,0,0,0,0,0,0,0,0,0,0,0,0,0,0,0,0,0],\"Culture, Community and Youth\":[0,1,0,0,0,0,0,0,0,0,0,0,0,0,0,0,0,0,0,0,0,1,1,0,0,0,0,0,0,0,0,0,0,0,0,0,0,0,0,0,0,0,0,0,0,0,0,0,0,0,1,0,0,0,0,0,0,0,0,0,0,0,0,0,0,0,0,0,0,0,0,0,0,0,0,0,0,0,0,0,0,0,0,0,0,0,0,0,0,0,0,0,0],\"Defence\":[0,0,0,0,0,0,0,0,0,0,0,0,0,0,0,0,0,0,0,0,0,0,0,0,0,0,0,0,0,0,0,1,0,0,0,0,0,0,0,0,0,0,0,0,0,0,0,0,0,0,0,0,0,0,0,0,0,0,0,0,0,1,0,0,0,0,0,0,0,0,0,0,0,0,0,0,0,0,0,0,0,0,0,0,0,0,0,0,0,0,0,1,0],\"Division\":[\"MARSILING-YEW TEE\",\"TANJONG PAGAR\",\"HONG KAH NORTH\",\"WEST COAST\",\"TAMPINES\",\"NEE SOON\",\"TANJONG PAGAR\",\"BISHAN-TOA PAYOH\",\"TAMPINES\",\"EAST COAST\",\"BISHAN-TOA PAYOH\",\"HOLLAND-BUKIT TIMAH\",\"ANG MO KIO\",\"JALAN BESAR\",\"HOUGANG\",\"NEE SOON\",\"TAMPINES\",\"WEST COAST\",\"PASIR RIS-PUNGGOL\",\"CHUA CHU KANG\",\"HOLLAND-BUKIT TIMAH\",\"MARINE PARADE\",\"TANJONG PAGAR\",\"WEST COAST\",\"CHUA CHU KANG\",\"MARYMOUNT\",\"ANG MO KIO\",\"ALJUNIED\",\"YUHUA\",\"MARSILING-YEW TEE\",\"SENGKANG\",\"JALAN BESAR\",\"EAST COAST\",\"KEBUN BARU\",\"TANJONG PAGAR\",\"SENGKANG\",\"PASIR RIS-PUNGGOL\",\"EAST COAST\",\"TANJONG PAGAR\",\"JALAN BESAR\",\"NEE SOON\",\"TAMPINES\",\"MARSILING-YEW TEE\",\"ANG MO KIO\",\"ALJUNIED\",\"BUKIT PANJANG\",\"MOUNTBATTEN\",\"SEMBAWANG\",\"SENGKANG\",\"NEE SOON\",\"CHUA CHU KANG\",\"EAST COAST\",\"SEMBAWANG\",\"TAMPINES\",\"RADIN MAS\",\"PASIR RIS-PUNGGOL\",\"MARINE PARADE\",\"ALJUNIED\",\"NEE SOON\",\"BUKIT BATOK\",\"ANG MO KIO\",\"BISHAN-TOA PAYOH\",\"ANG MO KIO\",\"SEMBAWANG\",\"PIONEER\",\"SEMBAWANG\",\"ALJUNIED\",\"WEST COAST\",\"SENGKANG\",\"JURONG\",\"WEST COAST\",\"BISHAN-TOA PAYOH\",\"MARINE PARADE\",\"JURONG\",\"HOLLAND-BUKIT TIMAH\",\"POTONG PASIR\",\"PUNGGOL WEST\",\"ALJUNIED\",\"MARINE PARADE\",\"EAST COAST\",\"MARINE PARADE\",\"JURONG\",\"PASIR RIS-PUNGGOL\",\"JURONG\",\"MACPHERSON\",\"SEMBAWANG\",\"HOLLAND-BUKIT TIMAH\",\"JALAN BESAR\",\"JURONG\",\"PASIR RIS-PUNGGOL\",\"YIO CHU KANG\",\"MARSILING-YEW TEE\",\"CHUA CHU KANG\"],\"Education\":[0,0,0,0,0,0,0,0,0,0,0,0,0,0,0,0,0,0,0,0,0,0,0,0,0,1,0,0,0,0,0,0,0,0,0,0,0,0,0,0,0,0,1,0,0,0,0,0,0,0,0,1,0,0,0,0,0,0,0,0,0,0,0,0,0,0,0,0,0,0,0,0,0,0,0,0,1,0,0,0,0,0,0,0,0,0,0,0,0,0,0,0,0],\"Ethnicity\":[\"Chinese\",\"Chinese\",\"Chinese\",\"Chinese\",\"Chinese\",\"Chinese\",\"Chinese\",\"Chinese\",\"Chinese\",\"Chinese\",\"Chinese\",\"Eurasian\",\"Indian\",\"Chinese\",\"Chinese\",\"Chinese\",\"Chinese\",\"Chinese\",\"Chinese\",\"Chinese\",\"Chinese\",\"Chinese\",\"Chinese\",\"Chinese\",\"Chinese\",\"Chinese\",\"Chinese\",\"Chinese\",\"Chinese\",\"Chinese\",\"Chinese\",\"Chinese\",\"Chinese\",\"Chinese\",\"Indian\",\"Chinese\",\"Indian\",\"Chinese\",\"Eurasian\",\"Chinese\",\"Indian\",\"Chinese\",\"Chinese\",\"Chinese\",\"Eurasian\",\"Chinese\",\"Chinese\",\"Chinese\",\"Chinese\",\"Chinese\",\"Chinese\",\"Malay\",\"Malay\",\"Malay\",\"Chinese\",\"Malay\",\"Malay\",\"Malay\",\"Malay\",\"Indian\",\"Malay\",\"Chinese\",\"Chinese\",\"Chinese\",\"Chinese\",\"Chinese\",\"Indian\",\"Chinese\",\"Malay\",\"Malay\",\"Indian\",\"Malay\",\"Chinese\",\"Chinese\",\"Chinese\",\"Chinese\",\"Chinese\",\"Chinese\",\"Chinese\",\"Chinese\",\"Chinese\",\"Chinese\",\"Chinese\",\"Indian\",\"Chinese\",\"Indian\",\"Indian\",\"Malay\",\"Chinese\",\"Chinese\",\"Chinese\",\"Malay\",\"Malay\"],\"Finance\":[0,0,0,0,0,0,0,0,0,0,0,0,0,0,0,0,0,0,0,0,0,0,0,0,0,0,0,0,0,0,0,0,1,0,1,0,0,0,0,0,0,0,1,0,0,0,0,0,0,0,0,0,0,0,0,0,0,0,0,0,0,0,0,0,0,0,0,0,0,0,0,0,0,0,0,0,0,0,0,0,0,0,0,0,0,0,0,0,0,0,0,0,0],\"First_Occupation\":[\"Public Service (Labour)\",\"Other(HR/Management)\",\"Education\",\"SAF/SPF/SCDF\",\"Public Service (Multiple Stat Boards)\",\"Other(HR/Management)\",\"SAF/SPF/SCDF\",\"Public Service (Multiple Stat Boards)\",\"IT/Engineering\",\"IT/Engineering\",\"Infrastructure (Transport/Telecomms/Real Estate)\",\"Law\",\"Other(HR/Management)\",\"Entrepreneur\",\"Law\",\"Finance\",\"SAF/SPF/SCDF\",\"Law\",\"SAF/SPF/SCDF\",\"Finance\",\"Entrepreneur\",\"Law\",\"SAF/SPF/SCDF\",\"Finance\",\"IT/Engineering\",\"SAF/SPF/SCDF\",\"Finance\",\"IT/Engineering\",\"Infrastructure (Transport/Telecomms/Real Estate)\",\"Law\",\"Law\",\"SAF/SPF/SCDF\",\"SAF/SPF/SCDF\",\"Biz Dev\",\"Law\",\"Finance\",\"Specialist - Healthcare\",\"Other(HR/Management)\",\"Public Service (Social/Healthcare)\",\"Public Service / Govt-linked (Biz Dev)\",\"Law\",\"Specialist - Healthcare\",\"Public Service (Multiple Stat Boards)\",\"Public Service (Multiple Stat Boards)\",\"Biz Dev\",\"Finance\",\"Law\",\"Specialist - Healthcare\",\"Finance\",\"Social Enterprise/Charity\",\"Biz Dev\",\"Education\",\"Other(HR/Management)\",\"Infrastructure (Transport/Telecomms/Real Estate)\",\"SAF/SPF/SCDF\",\"IT/Engineering\",\"SAF/SPF/SCDF\",\"Law\",\"Education\",\"Law\",\"Law\",\"Specialist - Healthcare\",\"Finance\",\"Public Service (Multiple Stat Boards)\",\"SAF/SPF/SCDF\",\"SAF/SPF/SCDF\",\"SAF/SPF/SCDF\",\"Social Enterprise/Charity\",\"Social Enterprise/Charity\",\"Law\",\"Public Service / Govt-linked (Biz Dev)\",\"Finance\",\"Public Service (Labour)\",\"SAF/SPF/SCDF\",\"Public Service (Multiple Stat Boards)\",\"Finance\",\"Public Service / Govt-linked (Biz Dev)\",\"Law\",\"SAF/SPF/SCDF\",\"Public Service (Social/Healthcare)\",\"Entrepreneur\",\"Specialist - Healthcare\",\"SAF/SPF/SCDF\",\"Public Service (Finance)\",\"Biz Dev\",\"Law\",\"Specialist - Healthcare\",\"Education\",\"Biz Dev\",\"Public Service / Govt-linked (Biz Dev)\",\"Education\",\"Biz Dev\",\"Law\"],\"Foreign Affairs\":[0,0,0,0,0,0,0,1,0,0,0,0,0,0,0,0,0,0,0,0,0,0,0,0,0,0,0,0,0,0,0,0,0,0,0,0,0,0,0,0,0,0,0,0,0,0,0,0,0,0,0,1,0,0,0,0,0,0,0,0,0,0,0,0,0,0,0,0,0,0,0,0,0,0,0,0,0,0,0,0,0,0,0,0,0,0,1,0,0,0,0,0,0],\"Gender\":[\"Male\",\"Male\",\"Female\",\"Male\",\"Male\",\"Female\",\"Male\",\"Male\",\"Female\",\"Female\",\"Male\",\"Male\",\"Male\",\"Female\",\"Male\",\"Male\",\"Male\",\"Male\",\"Male\",\"Male\",\"Male\",\"Male\",\"Male\",\"Female\",\"Male\",\"Female\",\"Male\",\"Male\",\"Female\",\"Female\",\"Female\",\"Male\",\"Male\",\"Male\",\"Female\",\"Male\",\"Male\",\"Female\",\"Female\",\"Female\",\"Male\",\"Male\",\"Male\",\"Male\",\"Male\",\"Male\",\"Male\",\"Male\",\"Male\",\"Male\",\"Female\",\"Male\",\"Female\",\"Male\",\"Male\",\"Male\",\"Male\",\"Male\",\"Male\",\"Male\",\"Female\",\"Male\",\"Female\",\"Male\",\"Male\",\"Female\",\"Male\",\"Female\",\"Female\",\"Female\",\"Male\",\"Male\",\"Male\",\"Male\",\"Female\",\"Male\",\"Female\",\"Female\",\"Male\",\"Male\",\"Male\",\"Male\",\"Male\",\"Male\",\"Female\",\"Male\",\"Male\",\"Male\",\"Male\",\"Female\",\"Male\",\"Male\",\"Male\"],\"Grassroots_Experience\":[\"Yes\",\"Yes\",\"Yes\",\"No\",\"No\",\"No\",\"No\",\"No\",\"Yes\",\"Yes\",\"Yes\",\"No\",\"Yes\",\"Yes\",\"No\",\"Yes\",\"No\",\"No\",\"Yes\",\"Yes\",\"No\",\"No\",\"Yes\",\"No\",\"Yes\",\"No\",\"Yes\",\"Yes\",\"No\",\"Yes\",\"Yes\",\"No\",\"No\",\"Yes\",\"No\",\"No\",\"No\",\"No\",\"Yes\",\"No\",\"No\",\"No\",\"No\",\"No\",\"Yes\",\"Yes\",\"Yes\",\"No\",\"No\",\"Yes\",\"No\",\"No\",\"No\",\"No\",\"Yes\",\"No\",\"No\",\"Yes\",\"Yes\",\"Yes\",\"Yes\",\"No\",\"Yes\",\"No\",\"Yes\",\"Yes\",\"Yes\",\"Yes\",\"Yes\",\"Yes\",\"No\",\"Yes\",\"Yes\",\"Yes\",\"No\",\"Yes\",\"No\",\"No\",\"No\",\"No\",\"Yes\",\"Yes\",\"No\",\"No\",\"Yes\",\"No\",\"No\",\"Yes\",\"Yes\",\"No\",\"No\",\"No\",\"No\"],\"Health\":[0,0,0,0,0,0,0,0,0,0,0,0,0,0,0,0,0,0,0,0,0,0,0,0,1,0,0,0,0,0,0,0,0,0,0,0,1,0,0,0,0,1,0,0,0,0,0,0,0,0,0,0,0,1,0,0,0,0,0,0,0,0,0,0,0,0,0,0,0,1,0,0,0,0,0,0,0,0,0,0,0,0,0,0,0,0,0,0,0,0,0,0,0],\"Home Affairs\":[0,0,0,0,0,0,0,0,0,0,0,0,0,0,0,0,0,0,1,0,0,0,0,0,0,0,0,0,0,0,0,0,0,0,0,0,0,0,0,1,1,0,0,0,0,0,0,0,0,0,0,0,0,0,0,0,0,0,1,0,0,0,0,0,0,0,0,0,0,0,0,0,0,0,0,0,0,0,0,0,0,0,0,0,0,0,0,0,0,0,0,0,0],\"Law\":[0,0,0,0,0,0,0,0,0,0,0,0,0,0,0,0,0,0,0,0,0,1,0,0,0,0,0,0,0,0,0,0,0,0,0,0,0,0,0,0,1,0,0,0,0,0,0,0,0,0,0,0,0,0,0,0,0,0,0,0,0,0,0,0,0,0,0,0,0,0,0,0,0,0,0,0,0,0,0,0,0,0,0,0,0,0,0,0,0,0,0,0,0],\"Manpower\":[0,0,0,0,0,0,0,0,0,0,0,0,0,0,0,0,0,0,0,0,0,0,0,0,0,1,0,0,0,0,0,0,0,0,0,0,0,0,0,1,0,0,0,0,0,0,0,0,0,0,0,0,0,0,0,0,0,0,0,0,0,0,0,0,0,0,0,0,0,0,0,0,0,0,0,0,0,0,0,0,1,0,0,0,0,0,0,0,0,0,0,1,0],\"Ministry_1\":[\"NaN\",\"Culture, Community and Youth\",\"Sustainability and the Environment\",\"NaN\",\"Transport\",\"NaN\",\"Trade and Industry\",\"Foreign Affairs\",\"NaN\",\"NaN\",\"NaN\",\"NaN\",\"NaN\",\"NaN\",\"NaN\",\"NaN\",\"NaN\",\"Social & Family Development\",\"Sustainability and the Environment\",\"NaN\",\"NaN\",\"Culture, Community and Youth\",\"Culture, Community and Youth\",\"NaN\",\"Health\",\"Education\",\"NaN\",\"NaN\",\"Sustainability and the Environment\",\"NaN\",\"NaN\",\"Defence\",\"PMO\",\"NaN\",\"PMO\",\"NaN\",\"Communications & Information\",\"NaN\",\"NaN\",\"Manpower\",\"Law\",\"Health\",\"Education\",\"PMO\",\"NaN\",\"NaN\",\"NaN\",\"NaN\",\"NaN\",\"NaN\",\"Culture, Community and Youth\",\"PMO\",\"NaN\",\"Social & Family Development\",\"NaN\",\"NaN\",\"NaN\",\"NaN\",\"Home Affairs\",\"NaN\",\"NaN\",\"Defence\",\"NaN\",\"Transport\",\"NaN\",\"NaN\",\"NaN\",\"NaN\",\"NaN\",\"Health\",\"Communications & Information\",\"NaN\",\"NaN\",\"NaN\",\"Communications & Information\",\"NaN\",\"Education\",\"NaN\",\"NaN\",\"PMO\",\"PMO\",\"NaN\",\"PMO\",\"PMO\",\"NaN\",\"NaN\",\"Foreign Affairs\",\"NaN\",\"NaN\",\"NaN\",\"NaN\",\"Manpower\",\"NaN\"],\"Ministry_2\":[\"NaN\",\"Trade and Industry\",\"Transport\",\"NaN\",\"NaN\",\"NaN\",\"NaN\",\"Transport\",\"NaN\",\"NaN\",\"NaN\",\"NaN\",\"NaN\",\"NaN\",\"NaN\",\"NaN\",\"NaN\",\"National Development\",\"Home Affairs\",\"NaN\",\"NaN\",\"Law\",\"Social & Family Development\",\"NaN\",\"NaN\",\"Manpower\",\"NaN\",\"NaN\",\"NaN\",\"NaN\",\"NaN\",\"NaN\",\"Finance\",\"NaN\",\"National Development\",\"NaN\",\"Health\",\"NaN\",\"NaN\",\"Home Affairs\",\"Home Affairs\",\"NaN\",\"Finance\",\"NaN\",\"NaN\",\"NaN\",\"NaN\",\"NaN\",\"NaN\",\"NaN\",\"Trade and Industry\",\"Education\",\"NaN\",\"Health\",\"NaN\",\"NaN\",\"NaN\",\"NaN\",\"National Development\",\"NaN\",\"NaN\",\"NaN\",\"NaN\",\"NaN\",\"NaN\",\"NaN\",\"NaN\",\"NaN\",\"NaN\",\"NaN\",\"Trade and Industry\",\"NaN\",\"NaN\",\"NaN\",\"National Development\",\"NaN\",\"Social & Family Development\",\"NaN\",\"NaN\",\"National Development\",\"Manpower\",\"NaN\",\"NaN\",\"NaN\",\"NaN\",\"NaN\",\"NaN\",\"NaN\",\"NaN\",\"NaN\",\"NaN\",\"Defence\",\"NaN\"],\"Ministry_3\":[\"NaN\",\"NaN\",\"NaN\",\"NaN\",\"NaN\",\"NaN\",\"NaN\",\"NaN\",\"NaN\",\"NaN\",\"NaN\",\"NaN\",\"NaN\",\"NaN\",\"NaN\",\"NaN\",\"NaN\",\"NaN\",\"NaN\",\"NaN\",\"NaN\",\"NaN\",\"NaN\",\"NaN\",\"NaN\",\"NaN\",\"NaN\",\"NaN\",\"NaN\",\"NaN\",\"NaN\",\"NaN\",\"NaN\",\"NaN\",\"Finance\",\"NaN\",\"NaN\",\"NaN\",\"NaN\",\"NaN\",\"NaN\",\"NaN\",\"NaN\",\"NaN\",\"NaN\",\"NaN\",\"NaN\",\"NaN\",\"NaN\",\"NaN\",\"NaN\",\"Foreign Affairs\",\"NaN\",\"NaN\",\"NaN\",\"NaN\",\"NaN\",\"NaN\",\"NaN\",\"NaN\",\"NaN\",\"NaN\",\"NaN\",\"NaN\",\"NaN\",\"NaN\",\"NaN\",\"NaN\",\"NaN\",\"NaN\",\"NaN\",\"NaN\",\"NaN\",\"NaN\",\"NaN\",\"NaN\",\"NaN\",\"NaN\",\"NaN\",\"NaN\",\"Trade and Industry\",\"NaN\",\"NaN\",\"NaN\",\"NaN\",\"NaN\",\"NaN\",\"NaN\",\"NaN\",\"NaN\",\"NaN\",\"NaN\",\"NaN\"],\"Name\":[\"Alex Yam\",\"Alvin Tan\",\"Amy Khor\",\"Ang Wei Neng\",\"Baey Yam Keng\",\"Carrie Tan\",\"Chan Chun Sing\",\"Chee Hong Tat\",\"Cheng Li Hui\",\"Cheryl Chan\",\"Chong Kee Hiong\",\"Christopher de Souza\",\"Darryl David\",\"Denise Phua\",\"Dennis Tan\",\"Derrick Goh\",\"Desmond Choo\",\"Desmond Lee\",\"Desmond Tan\",\"Don Wee\",\"Edward Chia\",\"Edwin Tong\",\"Eric Chua\",\"Foo Mee Har\",\"Gan Kim Yong\",\"Gan Siow Huang\",\"Gan Thiam Poh\",\"Gerald Giam\",\"Grace Fu\",\"Hany Soh\",\"He Ting Ru\",\"Heng Chee How\",\"Heng Swee Keat\",\"Henry Kwek\",\"Indranee Rajah\",\"Jamus Lim\",\"Janil Puthucheary\",\"Jessica Tan\",\"Joan Pereira\",\"Josephine Teo\",\"K. Shanmugam\",\"Koh Poh Koon\",\"Lawrence Wong\",\"Lee Hsien Loong\",\"Leon Perera\",\"Liang Eng Hwa\",\"Lim Biow Chuan\",\"Lim Wee Kiak\",\"Louis Chua\",\"Louis Ng\",\"Low Yen Ling\",\"Maliki Osman\",\"Mariam Jaafar\",\"Masagos Zulkifli\",\"Melvin Yong\",\"Mohamed Sharael Taha\",\"Mohd Fahmi Aliman\",\"Muhamad Faisal Manap\",\"Muhammad Faishal Ibrahim\",\"Murali Pillai\",\"Nadia Ahmad Samdin\",\"Ng Eng Hen\",\"Ng Ling Ling\",\"Ong Ye Kung\",\"Patrick Tay\",\"Poh Li San\",\"Pritam Singh\",\"Rachel Ong\",\"Raeesah Khan\",\"Rahayu Mahzam\",\"S. Iswaran\",\"Saktiandi Supaat\",\"Seah Kian Peng\",\"Shawn Huang\",\"Sim Ann\",\"Sitoh Yih Pin\",\"Sun Xueling\",\"Sylvia Lim\",\"Tan Chuan-Jin\",\"Tan Kiat How\",\"Tan See Leng\",\"Tan Wu Meng\",\"Teo Chee Hean\",\"Tharman Shanmugaratnam\",\"Tin Pei Ling\",\"Vikram Nair\",\"Vivian Balakrishnan\",\"Wan Rizal\",\"Xie Yao Quan\",\"Yeo Wan Ling\",\"Yip Hon Weng\",\"Zaqy Mohamad\",\"Zhulkarnain Abdul Rahim\"],\"National Development\":[0,0,0,0,0,0,0,0,0,0,0,0,0,0,0,0,0,1,0,0,0,0,0,0,0,0,0,0,0,0,0,0,0,0,1,0,0,0,0,0,0,0,0,0,0,0,0,0,0,0,0,0,0,0,0,0,0,0,1,0,0,0,0,0,0,0,0,0,0,0,0,0,0,0,1,0,0,0,0,1,0,0,0,0,0,0,0,0,0,0,0,0,0],\"PMO\":[0,0,0,0,0,0,0,0,0,0,0,0,0,0,0,0,0,0,0,0,0,0,0,0,0,0,0,0,0,0,0,0,1,0,1,0,0,0,0,0,0,0,0,1,0,0,0,0,0,0,0,1,0,0,0,0,0,0,0,0,0,0,0,0,0,0,0,0,0,0,0,0,0,0,0,0,0,0,0,1,1,0,1,1,0,0,0,0,0,0,0,0,0],\"Parliament\":[14,14,14,14,14,14,14,14,14,14,14,14,14,14,14,14,14,14,14,14,14,14,14,14,14,14,14,14,14,14,14,14,14,14,14,14,14,14,14,14,14,14,14,14,14,14,14,14,14,14,14,14,14,14,14,14,14,14,14,14,14,14,14,14,14,14,14,14,14,14,14,14,14,14,14,14,14,14,14,14,14,14,14,14,14,14,14,14,14,14,14,14,14],\"Party\":[\"People's Action Party\",\"People's Action Party\",\"People's Action Party\",\"People's Action Party\",\"People's Action Party\",\"People's Action Party\",\"People's Action Party\",\"People's Action Party\",\"People's Action Party\",\"People's Action Party\",\"People's Action Party\",\"People's Action Party\",\"People's Action Party\",\"People's Action Party\",\"Workers' Party\",\"People's Action Party\",\"People's Action Party\",\"People's Action Party\",\"People's Action Party\",\"People's Action Party\",\"People's Action Party\",\"People's Action Party\",\"People's Action Party\",\"People's Action Party\",\"People's Action Party\",\"People's Action Party\",\"People's Action Party\",\"Workers' Party\",\"People's Action Party\",\"People's Action Party\",\"Workers' Party\",\"People's Action Party\",\"People's Action Party\",\"People's Action Party\",\"People's Action Party\",\"Workers' Party\",\"People's Action Party\",\"People's Action Party\",\"People's Action Party\",\"People's Action Party\",\"People's Action Party\",\"People's Action Party\",\"People's Action Party\",\"People's Action Party\",\"Workers' Party\",\"People's Action Party\",\"People's Action Party\",\"People's Action Party\",\"Workers' Party\",\"People's Action Party\",\"People's Action Party\",\"People's Action Party\",\"People's Action Party\",\"People's Action Party\",\"People's Action Party\",\"People's Action Party\",\"People's Action Party\",\"Workers' Party\",\"People's Action Party\",\"People's Action Party\",\"People's Action Party\",\"People's Action Party\",\"People's Action Party\",\"People's Action Party\",\"People's Action Party\",\"People's Action Party\",\"Workers' Party\",\"People's Action Party\",\"Workers' Party\",\"People's Action Party\",\"People's Action Party\",\"People's Action Party\",\"People's Action Party\",\"People's Action Party\",\"People's Action Party\",\"People's Action Party\",\"People's Action Party\",\"Workers' Party\",\"People's Action Party\",\"People's Action Party\",\"People's Action Party\",\"People's Action Party\",\"People's Action Party\",\"People's Action Party\",\"People's Action Party\",\"People's Action Party\",\"People's Action Party\",\"People's Action Party\",\"People's Action Party\",\"People's Action Party\",\"People's Action Party\",\"People's Action Party\",\"People's Action Party\"],\"Previous/Current_Role\":[\"Senior Management\",\"Senior Management\",\"Senior Management\",\"CEO\",\"Senior Management\",\"CEO\",\"Brigadier-General.\",\"Senior Management\",\"CEO\",\"Senior Management\",\"CEO\",\"Partner\",\"Senior Management\",\"CEO\",\"Partner\",\"Senior Management\",\"Senior Management\",\"Senior Management\",\"Brigadier-General.\",\"Senior Management\",\"CEO\",\"Partner\",\"Colonel\",\"Senior Management\",\"CEO\",\"Brigadier-General.\",\"Senior Management\",\"CTO\",\"Senior Management\",\"Director\",\"Senior Management\",\"Senior Management\",\"Director\",\"Director\",\"Director\",\"Economist\",\"Paediatrician\",\"Senior Management\",\"Senior Management\",\"Senior Management\",\"Partner, Senior Counsel\",\"Colorectal Surgeon\",\"Senior Management\",\"Senior Management\",\"CEO\",\"Senior Management\",\"Partner\",\"Opthalmologist\",\"Equity Research Analyst\",\"Founder\",\"Senior Management\",\"Assistant Professor\",\"Senior Management\",\"CEO\",\"Assistant Commissioner of Police\",\"Senior Management\",\"Colonel\",\"NaN\",\"Assistant Professor\",\"Partner\",\"Partner\",\"Colorectal Surgeon\",\"Senior Management\",\"Senior Management\",\"Senior Management\",\"Senior Management\",\"NaN\",\"CEO\",\"CEO\",\"Partner\",\"Senior Management\",\"Senior Management\",\"CEO\",\"Lieutenant-Colonel\",\"Senior Management\",\"Founder\",\"Senior Management\",\"Professor\",\"Brigadier-General.\",\"CEO\",\"CEO\",\"Oncologist\",\"Chief of Navy\",\"Director\",\"Senior Associate\",\"Partner\",\"Opthalmologist\",\"Senior Lecturer\",\"Senior Management\",\"CEO\",\"Senior Management\",\"Senior Management\",\"Partner\"],\"Previous_Employer\":[\"NTUC\",\"LinkedIn\",\"Knight Frank\",\"SBS Transit\",\"NaN\",\"Daughters of Tomorrow\",\"SAF\",\"NaN\",\"Hai Leck Holdings\",\"Linde plc (Gas & Engineering).\",\"Suntec Real Estate Investment Trust\",\"Lee & Lee\",\"Temasek Polytechnic\",\"Autism Resource Centre\",\"DennisMathiew\",\"DBS\",\"NTUC\",\"NTUC\",\"SAF\",\"DBS\",\"Timbr\",\"Allen & Gledhill LLP\",\"SCDF\",\"Standard Chartered\",\"NatSteel\",\"SAF\",\"DBS\",\"-\",\"PSA Corporation\",\"MSC Law Corporation\",\"-\",\"NTUC\",\"Monetary Authority of Singapore\",\"Foodtraco Supplies\",\"Drew & Napier\",\"Thirdrock\",\"KK Women's and Children's Hospital\",\"Microsoft\",\"Temasek Cares\",\"NTUC\",\"Allen & Gledhill LLP,  Supreme Court\",\"Mount Elizabeth Medical Centre, Singapore General Hospital\",\"NaN\",\"NaN\",\"Spire Research and Consulting Group\",\"DBS\",\"Derrick Wong & Lim BC LLP\",\"Eagle Eye Centre\",\"-\",\"ACRES\",\"EDB\",\"National University of Singapore\",\"Boston Consulting Group\",\"SingTel Global Offices\",\"SPF\",\"Singapore Aero Engine Services (Rolls-Royce Centre of Excellence in the Asia-Pacific)\",\"SAF\",\"-\",\"National University of Singapore\",\"Rajah & Tann Singapore LLP\",\"TSMP Law Corporation\",\"Mount Elizabeth Hospital\",\"Ministry of Health\",\"NTUC\",\"NTUC\",\"Changi Airport Group\",\"Donaldson & Burkinshaw,\",\"ROHEI\",\"Reyna Movement\",\"Heng, Leong & Srinivasan\",\"Temasek Holdings\",\"Maybank\",\"NTUC Enterprise\",\"SAF\",\"International Enterprise Singapore\",\"Nexia TS Public Accounting\",\"Temasek International,\",\"Temasek Polytechnic\",\"SAF\",\"IMDA\",\"Healthway Medical Group\",\"Singapore General Hospital\",\"SAF\",\"Monetary Authority of Singapore\",\"Ernst & Young\",\"Rajah & Tann\",\"National University Hospital\",\"Republic Polytechnic\",\"Alexandra Hospital\",\"Caregiver Asia\",\"Ministry of Health\",\"Solutions Avanade\",\"Dentons Rodyk and Davidson\"],\"Previous_Occupation\":[\"Public Service (Labour)\",\"Other(HR/Management)\",\"Infrastructure (Transport/Telecomms/Real Estate)\",\"Infrastructure (Transport/Telecomms/Real Estate)\",\"Public Service (Multiple Stat Boards)\",\"Social Enterprise/Charity\",\"SAF/SPF/SCDF\",\"Public Service (Multiple Stat Boards)\",\"IT/Engineering\",\"IT/Engineering\",\"Infrastructure (Transport/Telecomms/Real Estate)\",\"Law\",\"Education\",\"Social Enterprise/Charity\",\"Law\",\"Finance\",\"Public Service (Labour)\",\"Law\",\"Public Service (Social/Healthcare)\",\"Finance\",\"Entrepreneur\",\"Law\",\"SAF/SPF/SCDF\",\"Finance\",\"IT/Engineering\",\"SAF/SPF/SCDF\",\"Finance\",\"Entrepreneur\",\"Infrastructure (Transport/Telecomms/Real Estate)\",\"Law\",\"Law\",\"Public Service (Labour)\",\"Public Service (Finance)\",\"Biz Dev\",\"Law\",\"Education\",\"Education\",\"Other(HR/Management)\",\"Public Service (Social/Healthcare)\",\"Public Service (Labour)\",\"Law\",\"Education\",\"Public Service (Multiple Stat Boards)\",\"Public Service (Multiple Stat Boards)\",\"Biz Dev\",\"Finance\",\"Law\",\"Specialist - Healthcare\",\"Finance\",\"Social Enterprise/Charity\",\"Public Service / Govt-linked (Biz Dev)\",\"Education\",\"Other(HR/Management)\",\"Infrastructure (Transport/Telecomms/Real Estate)\",\"SAF/SPF/SCDF\",\"IT/Engineering\",\"SAF/SPF/SCDF\",\"Law\",\"Education\",\"Law\",\"Law\",\"Specialist - Healthcare\",\"Public Service (Social/Healthcare)\",\"Public Service (Labour)\",\"Public Service (Labour)\",\"Infrastructure (Transport/Telecomms/Real Estate)\",\"Law\",\"Social Enterprise/Charity\",\"Social Enterprise/Charity\",\"Law\",\"Public Service / Govt-linked (Biz Dev)\",\"Finance\",\"Public Service (Labour)\",\"SAF/SPF/SCDF\",\"Public Service (Multiple Stat Boards)\",\"Entrepreneur\",\"Public Service / Govt-linked (Biz Dev)\",\"Education\",\"SAF/SPF/SCDF\",\"Public Service (Social/Healthcare)\",\"Public Service (Social/Healthcare)\",\"Specialist - Healthcare\",\"SAF/SPF/SCDF\",\"Public Service (Finance)\",\"Biz Dev\",\"Law\",\"Specialist - Healthcare\",\"Education\",\"Public Service (Social/Healthcare)\",\"Social Enterprise/Charity\",\"Public Service (Multiple Stat Boards)\",\"Biz Dev\",\"Law\"],\"Social & Family Development\":[0,0,0,0,0,0,0,0,0,0,0,0,0,0,0,0,0,1,0,0,0,0,1,0,0,0,0,0,0,0,0,0,0,0,0,0,0,0,0,0,0,0,0,0,0,0,0,0,0,0,0,0,0,1,0,0,0,0,0,0,0,0,0,0,0,0,0,0,0,0,0,0,0,0,0,0,1,0,0,0,0,0,0,0,0,0,0,0,0,0,0,0,0],\"Sustainability and the Environment\":[0,0,1,0,0,0,0,0,0,0,0,0,0,0,0,0,0,0,1,0,0,0,0,0,0,0,0,0,1,0,0,0,0,0,0,0,0,0,0,0,0,0,0,0,0,0,0,0,0,0,0,0,0,0,0,0,0,0,0,0,0,0,0,0,0,0,0,0,0,0,0,0,0,0,0,0,0,0,0,0,0,0,0,0,0,0,0,0,0,0,0,0,0],\"Title\":[\"MP\",\"MP\",\"MP\",\"MP\",\"MP\",\"MP\",\"MP\",\"MP\",\"MP\",\"MP\",\"MP\",\"MP\",\"MP\",\"MP\",\"MP\",\"MP\",\"MP\",\"MP\",\"MP\",\"MP\",\"MP\",\"MP\",\"MP\",\"MP\",\"MP\",\"MP\",\"MP\",\"MP\",\"MP\",\"MP\",\"MP\",\"MP\",\"MP\",\"MP\",\"MP\",\"MP\",\"MP\",\"MP\",\"MP\",\"MP\",\"MP\",\"MP\",\"MP\",\"MP\",\"MP\",\"MP\",\"MP\",\"MP\",\"MP\",\"MP\",\"MP\",\"MP\",\"MP\",\"MP\",\"MP\",\"MP\",\"MP\",\"MP\",\"MP\",\"MP\",\"MP\",\"MP\",\"MP\",\"MP\",\"MP\",\"MP\",\"MP\",\"MP\",\"MP\",\"MP\",\"MP\",\"MP\",\"MP\",\"MP\",\"MP\",\"MP\",\"MP\",\"MP\",\"MP\",\"MP\",\"MP\",\"MP\",\"MP\",\"MP\",\"MP\",\"MP\",\"MP\",\"MP\",\"MP\",\"MP\",\"MP\",\"MP\",\"MP\"],\"Title_1\":[\"Member of Parliament\",\"Minister of State\",\"Senior Minister of State\",\"Member of Parliament\",\"Senior Parliamentary Secretary\",\"Member of Parliament\",\"Member of Parliament\",\"Senior Minister of State\",\"Member of Parliament\",\"Member of Parliament\",\"Member of Parliament\",\"Member of Parliament\",\"Member of Parliament\",\"Member of Parliament\",\"Member of Parliament\",\"Member of Parliament\",\"Member of Parliament\",\"Minister\",\"Minister of State\",\"Member of Parliament\",\"Member of Parliament\",\"Minister\",\"Parliamentary Secretaries\",\"Member of Parliament\",\"Minister\",\"Minister of State\",\"Member of Parliament\",\"Member of Parliament\",\"Member of Parliament\",\"Member of Parliament\",\"Member of Parliament\",\"Senior Minister of State\",\"Senior Minister\",\"Member of Parliament\",\"Minister\",\"Member of Parliament\",\"Senior Minister of State\",\"Member of Parliament\",\"Member of Parliament\",\"Minister\",\"Minister\",\"Senior Minister of State\",\"Minister\",\"Prime Minister\",\"Member of Parliament\",\"Member of Parliament\",\"Member of Parliament\",\"Member of Parliament\",\"Member of Parliament\",\"Member of Parliament\",\"Minister of State\",\"Minister\",\"Member of Parliament\",\"Minister\",\"Member of Parliament\",\"Member of Parliament\",\"Member of Parliament\",\"Member of Parliament\",\"Minister of State\",\"Member of Parliament\",\"Member of Parliament\",\"Minister\",\"Member of Parliament\",\"Minister\",\"Member of Parliament\",\"Member of Parliament\",\"Member of Parliament\",\"Member of Parliament\",\"Member of Parliament\",\"Parliamentary Secretaries\",\"Minister\",\"Member of Parliament\",\"Member of Parliament\",\"Member of Parliament\",\"Senior Minister of State\",\"Member of Parliament\",\"Minister of State\",\"Member of Parliament\",\"Member of Parliament\",\"Minister of State\",\"Minister\",\"Member of Parliament\",\"Senior Minister\",\"Senior Minister\",\"Member of Parliament\",\"Member of Parliament\",\"Minister\",\"Member of Parliament\",\"Member of Parliament\",\"Member of Parliament\",\"Member of Parliament\",\"Senior Minister of State\",\"Member of Parliament\"],\"Title_2\":[\"Member of Parliament\",\"Minister of State\",\"Senior Minister of State\",\"Member of Parliament\",\"Parliamentary Secretaries\",\"Member of Parliament\",\"Member of Parliament\",\"Senior Minister of State\",\"Member of Parliament\",\"Member of Parliament\",\"Member of Parliament\",\"Member of Parliament\",\"Member of Parliament\",\"Member of Parliament\",\"Member of Parliament\",\"Member of Parliament\",\"Member of Parliament\",\"Minister\",\"Minister of State\",\"Member of Parliament\",\"Member of Parliament\",\"Minister\",\"Parliamentary Secretaries\",\"Member of Parliament\",\"Minister\",\"Minister of State\",\"Member of Parliament\",\"Member of Parliament\",\"Member of Parliament\",\"Member of Parliament\",\"Member of Parliament\",\"Senior Minister of State\",\"Senior Minister\",\"Member of Parliament\",\"Minister\",\"Member of Parliament\",\"Senior Minister of State\",\"Member of Parliament\",\"Member of Parliament\",\"Minister\",\"Minister\",\"Senior Minister of State\",\"Minister\",\"Prime Minister\",\"Member of Parliament\",\"Member of Parliament\",\"Member of Parliament\",\"Member of Parliament\",\"Member of Parliament\",\"Member of Parliament\",\"Minister of State\",\"Minister\",\"Member of Parliament\",\"Minister\",\"Member of Parliament\",\"Member of Parliament\",\"Member of Parliament\",\"Member of Parliament\",\"Minister of State\",\"Member of Parliament\",\"Member of Parliament\",\"Minister\",\"Member of Parliament\",\"Minister\",\"Member of Parliament\",\"Member of Parliament\",\"Member of Parliament\",\"Member of Parliament\",\"Member of Parliament\",\"Parliamentary Secretaries\",\"Minister\",\"Member of Parliament\",\"Member of Parliament\",\"Member of Parliament\",\"Senior Minister of State\",\"Member of Parliament\",\"Minister of State\",\"Member of Parliament\",\"Member of Parliament\",\"Minister of State\",\"Minister\",\"Member of Parliament\",\"Senior Minister\",\"Senior Minister\",\"Member of Parliament\",\"Member of Parliament\",\"Minister\",\"Member of Parliament\",\"Member of Parliament\",\"Member of Parliament\",\"Member of Parliament\",\"Senior Minister of State\",\"Member of Parliament\"],\"Title_3\":[\"NaN\",\"NaN\",\"NaN\",\"NaN\",\"NaN\",\"NaN\",\"NaN\",\"NaN\",\"NaN\",\"NaN\",\"NaN\",\"NaN\",\"NaN\",\"NaN\",\"NaN\",\"NaN\",\"NaN\",\"NaN\",\"NaN\",\"NaN\",\"NaN\",\"NaN\",\"NaN\",\"NaN\",\"NaN\",\"NaN\",\"NaN\",\"NaN\",\"NaN\",\"NaN\",\"NaN\",\"NaN\",\"NaN\",\"NaN\",\"Second Minister\",\"NaN\",\"NaN\",\"NaN\",\"NaN\",\"NaN\",\"NaN\",\"NaN\",\"NaN\",\"NaN\",\"NaN\",\"NaN\",\"NaN\",\"NaN\",\"NaN\",\"NaN\",\"NaN\",\"Second Minister\",\"NaN\",\"NaN\",\"NaN\",\"NaN\",\"NaN\",\"NaN\",\"NaN\",\"NaN\",\"NaN\",\"NaN\",\"NaN\",\"NaN\",\"NaN\",\"NaN\",\"NaN\",\"NaN\",\"NaN\",\"NaN\",\"NaN\",\"NaN\",\"NaN\",\"NaN\",\"NaN\",\"NaN\",\"NaN\",\"NaN\",\"NaN\",\"NaN\",\"Second Minister\",\"NaN\",\"NaN\",\"NaN\",\"NaN\",\"NaN\",\"NaN\",\"NaN\",\"NaN\",\"NaN\",\"NaN\",\"NaN\",\"NaN\"],\"Trade and Industry\":[0,1,0,0,0,0,1,0,0,0,0,0,0,0,0,0,0,0,0,0,0,0,0,0,0,0,0,0,0,0,0,0,0,0,0,0,0,0,0,0,0,0,0,0,0,0,0,0,0,0,1,0,0,0,0,0,0,0,0,0,0,0,0,0,0,0,0,0,0,0,1,0,0,0,0,0,0,0,0,0,1,0,0,0,0,0,0,0,0,0,0,0,0],\"Transport\":[0,0,1,0,1,0,0,1,0,0,0,0,0,0,0,0,0,0,0,0,0,0,0,0,0,0,0,0,0,0,0,0,0,0,0,0,0,0,0,0,0,0,0,0,0,0,0,0,0,0,0,0,0,0,0,0,0,0,0,0,0,0,0,1,0,0,0,0,0,0,0,0,0,0,0,0,0,0,0,0,0,0,0,0,0,0,0,0,0,0,0,0,0],\"Type\":[\"GRC\",\"GRC\",\"SMC\",\"GRC\",\"GRC\",\"GRC\",\"GRC\",\"NaN\",\"GRC\",\"GRC\",\"GRC\",\"GRC\",\"GRC\",\"GRC\",\"SMC\",\"GRC\",\"GRC\",\"GRC\",\"GRC\",\"GRC\",\"GRC\",\"GRC\",\"GRC\",\"GRC\",\"GRC\",\"SMC\",\"GRC\",\"GRC\",\"SMC\",\"GRC\",\"GRC\",\"GRC\",\"GRC\",\"SMC\",\"GRC\",\"GRC\",\"GRC\",\"GRC\",\"GRC\",\"GRC\",\"GRC\",\"GRC\",\"GRC\",\"GRC\",\"GRC\",\"SMC\",\"SMC\",\"GRC\",\"GRC\",\"GRC\",\"GRC\",\"GRC\",\"GRC\",\"GRC\",\"SMC\",\"GRC\",\"GRC\",\"GRC\",\"GRC\",\"SMC\",\"GRC\",\"GRC\",\"GRC\",\"GRC\",\"SMC\",\"GRC\",\"GRC\",\"GRC\",\"GRC\",\"GRC\",\"GRC\",\"GRC\",\"GRC\",\"GRC\",\"GRC\",\"SMC\",\"SMC\",\"GRC\",\"GRC\",\"GRC\",\"GRC\",\"GRC\",\"GRC\",\"GRC\",\"SMC\",\"GRC\",\"GRC\",\"GRC\",\"GRC\",\"GRC\",\"SMC\",\"GRC\",\"GRC\"],\"Type.1\":[\"Backbencher\",\"Cabinet\",\"Cabinet\",\"Backbencher\",\"Cabinet\",\"Backbencher\",\"Cabinet\",\"Cabinet\",\"Backbencher\",\"Backbencher\",\"Backbencher\",\"Backbencher\",\"Backbencher\",\"Backbencher\",\"Opposition\",\"Backbencher\",\"Backbencher\",\"Cabinet\",\"Cabinet\",\"Backbencher\",\"Backbencher\",\"Cabinet\",\"Cabinet\",\"Backbencher\",\"Cabinet\",\"Cabinet\",\"Backbencher\",\"Opposition\",\"Cabinet\",\"Backbencher\",\"Opposition\",\"Cabinet\",\"Cabinet\",\"Backbencher\",\"Cabinet\",\"Opposition\",\"Cabinet\",\"Backbencher\",\"Backbencher\",\"Cabinet\",\"Cabinet\",\"Cabinet\",\"Cabinet\",\"Cabinet\",\"Opposition\",\"Backbencher\",\"Backbencher\",\"Backbencher\",\"Opposition\",\"Backbencher\",\"Cabinet\",\"Cabinet\",\"Backbencher\",\"Cabinet\",\"Backbencher\",\"Backbencher\",\"Backbencher\",\"Opposition\",\"Cabinet\",\"Backbencher\",\"Backbencher\",\"Cabinet\",\"Backbencher\",\"Cabinet\",\"Backbencher\",\"Backbencher\",\"Opposition\",\"Backbencher\",\"Opposition\",\"Cabinet\",\"Cabinet\",\"Backbencher\",\"Backbencher\",\"Backbencher\",\"Cabinet\",\"Backbencher\",\"Cabinet\",\"Opposition\",\"Backbencher\",\"Cabinet\",\"Cabinet\",\"Backbencher\",\"Cabinet\",\"Cabinet\",\"Backbencher\",\"Backbencher\",\"Cabinet\",\"Backbencher\",\"Backbencher\",\"Backbencher\",\"Backbencher\",\"Cabinet\",\"Backbencher\"],\"Ward\":[\"Yew Tee\",\"Moulmein-Cairnhill\",\"HONG KAH NORTH SMC\",\"Nanyang\",\"Tampines North\",\"Nee Soon South\",\"Buona Vista\",\"Toa Payoh West-Thomson\",\"Tampines East\",\"Fengshan\",\"Bishan East-Sin Ming\",\"Ulu Pandan\",\"Ang Mo Kio-Hougang\",\"Kampong Glam\",\"HOUGANG SMC\",\"Nee Soon Link\",\"Tampines Changkat\",\"Boon Lay\",\"Pasir Ris Central\",\"Brickland\",\"Zhenghua\",\"Joo Chiat\",\"Queenstown\",\"Ayer Rajah-Gek Poh\",\"Chua Chu Kang\",\"MARYMOUNT SMC\",\"Fernvale\",\"Bedok Reservoir-Punggol\",\"YUHUA SMC\",\"Woodgrove\",\"Buangkok\",\"Whampoa\",\"Bedok\",\"KEBUN BARU SMC\",\"Tanjong Pagar-Tiong Bahru\",\"Anchorvale\",\"Punggol Coast\",\"Changi Simei\",\"Henderson Dawson\",\"Kreta Ayer-Kim Seng\",\"Chong Pang\",\"Tampines Central\",\"Limbang\",\"Teck Ghee\",\"Serangoon\",\"BUKIT PANJANG SMC\",\"MOUNTBATTEN SMC\",\"Canberra\",\"Rivervale\",\"Nee Soon East\",\"Bukit Gombak\",\"Siglap\",\"Woodlands\",\"Tampines West\",\"RADIN MAS SMC\",\"Pasir Ris East\",\"Geylang Serai\",\"Kaki Bukit\",\"Nee Soon Central\",\"BUKIT BATOK SMC\",\"Cheng San-Seletar\",\"Toa Payoh Central\",\"Jalan Kayu\",\"Sembawang Central\",\"PIONEER SMC\",\"Sembawang West\",\"Eunos\",\"Telok Blangah\",\"Compassvale\",\"Bukit Batok East\",\"West Coast\",\"Toa Payoh East\",\"Braddell Heights\",\"Jurong Spring\",\"Bukit Timah\",\"POTONG PASIR SMC\",\"PUNGGOL WEST SMC\",\"Paya Lebar\",\"Kembangan-Chai Chee\",\"Kampong Chai Chee\",\"Marine Parade\",\"Clementi\",\"Pasir Ris West\",\"Taman Jurong\",\"MACPHERSON SMC\",\"Admiralty\",\"Cashew\",\"Kolam Ayer\",\"Jurong Central\",\"Punggol North\",\"YIO CHU KANG SMC\",\"Marsiling\",\"Keat Hong\"],\"X\":{\"__ndarray__\":\"FcEvwGyuj8Bw+pXAlm4zwHLeYMDkbFDAyIJUwD4ZZcBsZU7A5M5PwAluHMCAkJu/OEzRv2QWbMDwZbe/FTsnwON7McCy+ge/KGt6wGQeI8B9a0HArST2vkEogsDD30zA9YLUvw57g8CBbhTAyXC0vxHhhMBtaxnALlsIwPsLD8DMoSjAwXUawN5KFT56jwXA7fCNv/RxX8D0LEnA9sOMwM9Mnr5iEq+/AiNcwPNBRsByorS/0PsJwOUTyb/MdwjA0IMJwKVKIcClqpTAvBCzv5qlOsC4Kma/bLY9wEJrCMDY00fAoreQv0laJb91q4a/OEcJwCOA3b+v+UvA/BxfwMbQOcCm2FHAOAmLvxWwT8DUHRLAIuPLv5cQTr9QIPi/uhkSwM8SS8Bt1lzAwoIUwKUSgcBTXw/A+DQ7wIGShcAWLo3ACEsTwI9ZKsArJxLAQe5hwAnJh7/Ubai/DecAwNP9QsCuZ1DAnvUowLfy/75Mb9+/\",\"dtype\":\"float32\",\"shape\":[93]},\"Y\":{\"__ndarray__\":\"0U0WwLL+NMCYannAk8wcwFShjr8gmoDAXAYPwIZLhL/BOYzATjaMwHLhKcAqPlXAjdIawDOhfMAIqGzADoVLwCAdGsDlZU7AiaEUwGHEUsBNJUfAC8E2wCNYLMCa0mLAvE6uvwjymcCT/ibARZZ4wOHpeMAmEo7AyEmTwH/YyL8JfYS/7P1MwPrqUcD+q3nAlbXQv/vjhMBbYZbAF9qJwHFfNsA7Jt2/j9mPv3jBj79xPIjAa7IrwHc1PsDEDSPAmnp6wFP4TsCy1ULA6cMbv/8FjsAENOa/GI0VwPjza8AOCSbAJN92wFzNFcB94EnAJImSwG6Np7/+DnXAo9+Vv716DcCLNYPA2lBzwDjJf8C/75vAudehwGlUmr9W6C3ADyEVwHxcM8BQKKrAXRoiwGZvn8BLB5fAjosXwOI+C8BCkfy/J0Q4wCUCjb/lrFO/BDlmwDbDU8C9k4+/z0xewLb9R8C5dIXAgkFUwCiki8DZN3bA\",\"dtype\":\"float32\",\"shape\":[93]},\"Years_In_Politics\":[9,0,19,9,14,0,9,5,5,5,5,14,5,14,5,0,9,9,0,0,0,9,0,9,19,0,9,9,14,0,0,19,9,5,19,0,9,14,5,14,32,5,9,36,0,14,14,14,0,5,9,19,0,14,5,0,0,9,14,4,0,19,0,5,9,0,9,0,0,5,23,5,14,0,9,9,5,14,9,0,0,5,28,19,9,9,19,0,0,0,0,14,0],\"color\":[\"rgb(199,21,133)\",\"rgb(128,0,128)\",\"rgb(255,69,0)\",\"rgb(255,69,0)\",\"rgb(255,215,0)\",\"rgb(0,100,0)\",\"rgb(50,205,50)\",\"rgb(255,215,0)\",\"rgb(139,0,0)\",\"rgb(139,0,0)\",\"rgb(255,69,0)\",\"rgb(0,128,128)\",\"rgb(255,228,225)\",\"rgb(0,100,0)\",\"rgb(0,128,128)\",\"rgb(47,79,79)\",\"rgb(199,21,133)\",\"rgb(0,128,128)\",\"rgb(0,0,255)\",\"rgb(47,79,79)\",\"rgb(0,0,0)\",\"rgb(0,128,128)\",\"rgb(50,205,50)\",\"rgb(47,79,79)\",\"rgb(139,0,0)\",\"rgb(50,205,50)\",\"rgb(47,79,79)\",\"rgb(0,0,0)\",\"rgb(255,69,0)\",\"rgb(0,128,128)\",\"rgb(0,128,128)\",\"rgb(199,21,133)\",\"rgb(255, 105, 180)\",\"rgb(255,0,0)\",\"rgb(0,128,128)\",\"rgb(255,228,225)\",\"rgb(255,228,225)\",\"rgb(128,0,128)\",\"rgb(0,0,255)\",\"rgb(199,21,133)\",\"rgb(0,128,128)\",\"rgb(255,228,225)\",\"rgb(255,215,0)\",\"rgb(255,215,0)\",\"rgb(255,0,0)\",\"rgb(47,79,79)\",\"rgb(0,128,128)\",\"rgb(0,255,0)\",\"rgb(47,79,79)\",\"rgb(0,100,0)\",\"rgb(188,143,143)\",\"rgb(255,228,225)\",\"rgb(128,0,128)\",\"rgb(255,69,0)\",\"rgb(50,205,50)\",\"rgb(139,0,0)\",\"rgb(50,205,50)\",\"rgb(0,128,128)\",\"rgb(255,228,225)\",\"rgb(0,128,128)\",\"rgb(0,128,128)\",\"rgb(0,255,0)\",\"rgb(0,0,255)\",\"rgb(199,21,133)\",\"rgb(199,21,133)\",\"rgb(255,69,0)\",\"rgb(0,128,128)\",\"rgb(0,100,0)\",\"rgb(0,100,0)\",\"rgb(0,128,128)\",\"rgb(188,143,143)\",\"rgb(47,79,79)\",\"rgb(199,21,133)\",\"rgb(50,205,50)\",\"rgb(255,215,0)\",\"rgb(0,0,0)\",\"rgb(188,143,143)\",\"rgb(255,228,225)\",\"rgb(50,205,50)\",\"rgb(0,0,255)\",\"rgb(0,0,255)\",\"rgb(0,255,0)\",\"rgb(50,205,50)\",\"rgb(255, 105, 180)\",\"rgb(255,0,0)\",\"rgb(0,128,128)\",\"rgb(0,255,0)\",\"rgb(255,228,225)\",\"rgb(0,0,255)\",\"rgb(0,100,0)\",\"rgb(255,215,0)\",\"rgb(255,0,0)\",\"rgb(0,128,128)\"],\"color1\":[\"rgb(199,21,133)\",\"rgb(199,21,133)\",\"rgb(199,21,133)\",\"rgb(139,0,0)\",\"rgb(139,0,0)\",\"rgb(139,0,0)\",\"rgb(139,0,0)\",\"rgb(139,0,0)\",\"rgb(199,21,133)\",\"rgb(199,21,133)\",\"rgb(199,21,133)\",\"rgb(139,0,0)\",\"rgb(199,21,133)\",\"rgb(199,21,133)\",\"rgb(139,0,0)\",\"rgb(199,21,133)\",\"rgb(139,0,0)\",\"rgb(139,0,0)\",\"rgb(199,21,133)\",\"rgb(199,21,133)\",\"rgb(139,0,0)\",\"rgb(139,0,0)\",\"rgb(199,21,133)\",\"rgb(139,0,0)\",\"rgb(199,21,133)\",\"rgb(139,0,0)\",\"rgb(199,21,133)\",\"rgb(199,21,133)\",\"rgb(139,0,0)\",\"rgb(199,21,133)\",\"rgb(199,21,133)\",\"rgb(139,0,0)\",\"rgb(139,0,0)\",\"rgb(199,21,133)\",\"rgb(139,0,0)\",\"rgb(139,0,0)\",\"rgb(139,0,0)\",\"rgb(139,0,0)\",\"rgb(199,21,133)\",\"rgb(139,0,0)\",\"rgb(139,0,0)\",\"rgb(139,0,0)\",\"rgb(139,0,0)\",\"rgb(139,0,0)\",\"rgb(199,21,133)\",\"rgb(199,21,133)\",\"rgb(199,21,133)\",\"rgb(139,0,0)\",\"rgb(139,0,0)\",\"rgb(199,21,133)\",\"rgb(139,0,0)\",\"rgb(139,0,0)\",\"rgb(139,0,0)\",\"rgb(139,0,0)\",\"rgb(199,21,133)\",\"rgb(139,0,0)\",\"rgb(139,0,0)\",\"rgb(199,21,133)\",\"rgb(199,21,133)\",\"rgb(199,21,133)\",\"rgb(199,21,133)\",\"rgb(139,0,0)\",\"rgb(199,21,133)\",\"rgb(139,0,0)\",\"rgb(199,21,133)\",\"rgb(199,21,133)\",\"rgb(199,21,133)\",\"rgb(199,21,133)\",\"rgb(199,21,133)\",\"rgb(199,21,133)\",\"rgb(139,0,0)\",\"rgb(199,21,133)\",\"rgb(199,21,133)\",\"rgb(199,21,133)\",\"rgb(139,0,0)\",\"rgb(199,21,133)\",\"rgb(139,0,0)\",\"rgb(139,0,0)\",\"rgb(139,0,0)\",\"rgb(139,0,0)\",\"rgb(199,21,133)\",\"rgb(199,21,133)\",\"rgb(139,0,0)\",\"rgb(139,0,0)\",\"rgb(199,21,133)\",\"rgb(139,0,0)\",\"rgb(139,0,0)\",\"rgb(199,21,133)\",\"rgb(199,21,133)\",\"rgb(139,0,0)\",\"rgb(139,0,0)\",\"rgb(139,0,0)\",\"rgb(139,0,0)\"],\"color2\":[\"rgb(199,21,133)\",\"rgb(199,21,133)\",\"rgb(139,0,0)\",\"rgb(199,21,133)\",\"rgb(199,21,133)\",\"rgb(139,0,0)\",\"rgb(199,21,133)\",\"rgb(199,21,133)\",\"rgb(139,0,0)\",\"rgb(139,0,0)\",\"rgb(199,21,133)\",\"rgb(199,21,133)\",\"rgb(199,21,133)\",\"rgb(139,0,0)\",\"rgb(199,21,133)\",\"rgb(199,21,133)\",\"rgb(199,21,133)\",\"rgb(199,21,133)\",\"rgb(199,21,133)\",\"rgb(199,21,133)\",\"rgb(199,21,133)\",\"rgb(199,21,133)\",\"rgb(199,21,133)\",\"rgb(139,0,0)\",\"rgb(199,21,133)\",\"rgb(139,0,0)\",\"rgb(199,21,133)\",\"rgb(199,21,133)\",\"rgb(139,0,0)\",\"rgb(139,0,0)\",\"rgb(139,0,0)\",\"rgb(199,21,133)\",\"rgb(199,21,133)\",\"rgb(199,21,133)\",\"rgb(139,0,0)\",\"rgb(199,21,133)\",\"rgb(199,21,133)\",\"rgb(139,0,0)\",\"rgb(139,0,0)\",\"rgb(139,0,0)\",\"rgb(199,21,133)\",\"rgb(199,21,133)\",\"rgb(199,21,133)\",\"rgb(199,21,133)\",\"rgb(199,21,133)\",\"rgb(199,21,133)\",\"rgb(199,21,133)\",\"rgb(199,21,133)\",\"rgb(199,21,133)\",\"rgb(199,21,133)\",\"rgb(139,0,0)\",\"rgb(199,21,133)\",\"rgb(139,0,0)\",\"rgb(199,21,133)\",\"rgb(199,21,133)\",\"rgb(199,21,133)\",\"rgb(199,21,133)\",\"rgb(199,21,133)\",\"rgb(199,21,133)\",\"rgb(199,21,133)\",\"rgb(139,0,0)\",\"rgb(199,21,133)\",\"rgb(139,0,0)\",\"rgb(199,21,133)\",\"rgb(199,21,133)\",\"rgb(139,0,0)\",\"rgb(199,21,133)\",\"rgb(139,0,0)\",\"rgb(139,0,0)\",\"rgb(139,0,0)\",\"rgb(199,21,133)\",\"rgb(199,21,133)\",\"rgb(199,21,133)\",\"rgb(199,21,133)\",\"rgb(139,0,0)\",\"rgb(199,21,133)\",\"rgb(139,0,0)\",\"rgb(139,0,0)\",\"rgb(199,21,133)\",\"rgb(199,21,133)\",\"rgb(199,21,133)\",\"rgb(199,21,133)\",\"rgb(199,21,133)\",\"rgb(199,21,133)\",\"rgb(139,0,0)\",\"rgb(199,21,133)\",\"rgb(199,21,133)\",\"rgb(199,21,133)\",\"rgb(199,21,133)\",\"rgb(139,0,0)\",\"rgb(199,21,133)\",\"rgb(199,21,133)\",\"rgb(199,21,133)\"],\"color3\":[\"rgb(0,0,255)\",\"rgb(0,0,255)\",\"rgb(0,0,255)\",\"rgb(0,0,255)\",\"rgb(0,0,255)\",\"rgb(0,0,255)\",\"rgb(0,0,255)\",\"rgb(0,0,255)\",\"rgb(0,0,255)\",\"rgb(0,0,255)\",\"rgb(0,0,255)\",\"rgb(0,255,255)\",\"rgb(255,0,0)\",\"rgb(0,0,255)\",\"rgb(0,0,255)\",\"rgb(0,0,255)\",\"rgb(0,0,255)\",\"rgb(0,0,255)\",\"rgb(0,0,255)\",\"rgb(0,0,255)\",\"rgb(0,0,255)\",\"rgb(0,0,255)\",\"rgb(0,0,255)\",\"rgb(0,0,255)\",\"rgb(0,0,255)\",\"rgb(0,0,255)\",\"rgb(0,0,255)\",\"rgb(0,0,255)\",\"rgb(0,0,255)\",\"rgb(0,0,255)\",\"rgb(0,0,255)\",\"rgb(0,0,255)\",\"rgb(0,0,255)\",\"rgb(0,0,255)\",\"rgb(255,0,0)\",\"rgb(0,0,255)\",\"rgb(255,0,0)\",\"rgb(0,0,255)\",\"rgb(0,255,255)\",\"rgb(0,0,255)\",\"rgb(255,0,0)\",\"rgb(0,0,255)\",\"rgb(0,0,255)\",\"rgb(0,0,255)\",\"rgb(0,255,255)\",\"rgb(0,0,255)\",\"rgb(0,0,255)\",\"rgb(0,0,255)\",\"rgb(0,0,255)\",\"rgb(0,0,255)\",\"rgb(0,0,255)\",\"rgb(0,255,0)\",\"rgb(0,255,0)\",\"rgb(0,255,0)\",\"rgb(0,0,255)\",\"rgb(0,255,0)\",\"rgb(0,255,0)\",\"rgb(0,255,0)\",\"rgb(0,255,0)\",\"rgb(255,0,0)\",\"rgb(0,255,0)\",\"rgb(0,0,255)\",\"rgb(0,0,255)\",\"rgb(0,0,255)\",\"rgb(0,0,255)\",\"rgb(0,0,255)\",\"rgb(255,0,0)\",\"rgb(0,0,255)\",\"rgb(0,255,0)\",\"rgb(0,255,0)\",\"rgb(255,0,0)\",\"rgb(0,255,0)\",\"rgb(0,0,255)\",\"rgb(0,0,255)\",\"rgb(0,0,255)\",\"rgb(0,0,255)\",\"rgb(0,0,255)\",\"rgb(0,0,255)\",\"rgb(0,0,255)\",\"rgb(0,0,255)\",\"rgb(0,0,255)\",\"rgb(0,0,255)\",\"rgb(0,0,255)\",\"rgb(255,0,0)\",\"rgb(0,0,255)\",\"rgb(255,0,0)\",\"rgb(255,0,0)\",\"rgb(0,255,0)\",\"rgb(0,0,255)\",\"rgb(0,0,255)\",\"rgb(0,0,255)\",\"rgb(0,255,0)\",\"rgb(0,255,0)\"],\"color4\":[\"rgb(199,21,133)\",\"rgb(199,21,133)\",\"rgb(199,21,133)\",\"rgb(199,21,133)\",\"rgb(199,21,133)\",\"rgb(199,21,133)\",\"rgb(199,21,133)\",\"rgb(199,21,133)\",\"rgb(199,21,133)\",\"rgb(199,21,133)\",\"rgb(199,21,133)\",\"rgb(199,21,133)\",\"rgb(199,21,133)\",\"rgb(199,21,133)\",\"rgb(139,0,0)\",\"rgb(199,21,133)\",\"rgb(199,21,133)\",\"rgb(199,21,133)\",\"rgb(199,21,133)\",\"rgb(199,21,133)\",\"rgb(199,21,133)\",\"rgb(199,21,133)\",\"rgb(199,21,133)\",\"rgb(199,21,133)\",\"rgb(199,21,133)\",\"rgb(199,21,133)\",\"rgb(199,21,133)\",\"rgb(139,0,0)\",\"rgb(199,21,133)\",\"rgb(199,21,133)\",\"rgb(139,0,0)\",\"rgb(199,21,133)\",\"rgb(199,21,133)\",\"rgb(199,21,133)\",\"rgb(199,21,133)\",\"rgb(139,0,0)\",\"rgb(199,21,133)\",\"rgb(199,21,133)\",\"rgb(199,21,133)\",\"rgb(199,21,133)\",\"rgb(199,21,133)\",\"rgb(199,21,133)\",\"rgb(199,21,133)\",\"rgb(199,21,133)\",\"rgb(139,0,0)\",\"rgb(199,21,133)\",\"rgb(199,21,133)\",\"rgb(199,21,133)\",\"rgb(139,0,0)\",\"rgb(199,21,133)\",\"rgb(199,21,133)\",\"rgb(199,21,133)\",\"rgb(199,21,133)\",\"rgb(199,21,133)\",\"rgb(199,21,133)\",\"rgb(199,21,133)\",\"rgb(199,21,133)\",\"rgb(139,0,0)\",\"rgb(199,21,133)\",\"rgb(199,21,133)\",\"rgb(199,21,133)\",\"rgb(199,21,133)\",\"rgb(199,21,133)\",\"rgb(199,21,133)\",\"rgb(199,21,133)\",\"rgb(199,21,133)\",\"rgb(139,0,0)\",\"rgb(199,21,133)\",\"rgb(139,0,0)\",\"rgb(199,21,133)\",\"rgb(199,21,133)\",\"rgb(199,21,133)\",\"rgb(199,21,133)\",\"rgb(199,21,133)\",\"rgb(199,21,133)\",\"rgb(199,21,133)\",\"rgb(199,21,133)\",\"rgb(139,0,0)\",\"rgb(199,21,133)\",\"rgb(199,21,133)\",\"rgb(199,21,133)\",\"rgb(199,21,133)\",\"rgb(199,21,133)\",\"rgb(199,21,133)\",\"rgb(199,21,133)\",\"rgb(199,21,133)\",\"rgb(199,21,133)\",\"rgb(199,21,133)\",\"rgb(199,21,133)\",\"rgb(199,21,133)\",\"rgb(199,21,133)\",\"rgb(199,21,133)\",\"rgb(199,21,133)\"],\"index\":[0,1,2,3,4,5,6,7,8,9,10,11,12,13,14,15,16,17,18,19,20,21,22,23,24,25,26,27,28,29,30,31,32,33,34,35,36,37,38,39,40,41,42,43,44,45,46,47,48,49,50,51,52,53,54,55,56,57,58,59,60,61,62,63,64,65,66,67,68,69,70,71,72,73,74,75,76,77,78,79,80,81,82,83,84,85,86,87,88,89,90,91,92],\"lat\":{\"__ndarray__\":\"loshqgHxWUBZ7wX+rPRZQNBY2J/Y7llAfguddy7tWUB4uDLjQfxZQHN8hro39VlAWe8F/qz0WUAi1k6BP/VZQHi4MuNB/FlAB6FVU0AAWkAi1k6BP/VZQML5OQNs8llABEDjVn/3WUAgaMYP3fZZQJTz1CtG+VlAc3yGujf1WUB4uDLjQfxZQH4LnXcu7VlAITnXAJv7WUCMqJDxFe1ZQML5OQNs8llAP1Xh2cn5WUBZ7wX+rPRZQH4LnXcu7VlAjKiQ8RXtWUDmzZum7/VZQARA41Z/91lApTeMmcn5WUD/DNuaPu9ZQJaLIaoB8VlAhhbGOWn5WUAgaMYP3fZZQAehVVNAAFpArJwVpdn0WUBZ7wX+rPRZQIYWxjlp+VlAITnXAJv7WUAHoVVTQABaQFnvBf6s9FlAIGjGD932WUBzfIa6N/VZQHi4MuNB/FlAloshqgHxWUAEQONWf/dZQKU3jJnJ+VlAaXHEr3nxWUCGB+tXkvhZQKPeIPzH81lAhhbGOWn5WUBzfIa6N/VZQIyokPEV7VlAB6FVU0AAWkCj3iD8x/NZQHi4MuNB/FlAw7CMW330WUAhOdcAm/tZQD9V4dnJ+VlApTeMmcn5WUBzfIa6N/VZQMCioOjR71lABEDjVn/3WUAi1k6BP/VZQARA41Z/91lAo94g/MfzWUAdWXLo2uxZQKPeIPzH81lApTeMmcn5WUB+C513Lu1ZQIYWxjlp+VlA50aMLLPvWUB+C513Lu1ZQCLWToE/9VlAP1Xh2cn5WUDnRowss+9ZQML5OQNs8llA5dQd/e33WUCkcXYoV/lZQKU3jJnJ+VlAP1Xh2cn5WUAHoVVTQABaQD9V4dnJ+VlA50aMLLPvWUAhOdcAm/tZQOdGjCyz71lAEOC8V7X4WUCj3iD8x/NZQML5OQNs8llAIGjGD932WUDnRowss+9ZQCE51wCb+1lAlTwWPK71WUCWiyGqAfFZQIyokPEV7VlA\",\"dtype\":\"float64\",\"shape\":[93]},\"lat_ward\":{\"__ndarray__\":\"jZITnPPvWUAvbt28LPVZQMr4PfTX7llAeg6KzbjrWUBtAwwhJPxZQEMnRIGv9FlAnaiFDvvyWUCe5BaJvvRZQMIIwBiA/FlA9Pgs8lH8WUAthCnqJPZZQLE/IgBq8llA+as3Ha34WUB7IaMJtvZZQEIvvsxE+VlAwzFuXvf1WUAWSSehG/1ZQAQofb1d7VlAM1qtwM38WUBA9N8Sxu9ZQCPLuxZ88llAGP3TTPX6WUAjXNKNgfNZQCbYy3Ex61lAUtj0RCrwWUB+1ypF8PVZQAqPI+Yp+FlALyfHW1v6WUDv0CBLPu9ZQOklBugo8llAc2r0tln5WUCaoZpJDvdZQGRVBeMa/FlANLrcqdj0WUD3viFuY/VZQJbHcPXn+FlArZGACGL6WUCbJ5JD9/xZQDM9gIa89FlAoj2rLHb2WUAU+OIBQvRZQEmWVXrW+1lAjboosZnwWUA5ta+CZfZZQOXFegS691lAYpZnfXnxWUAjUbaokvhZQAom6t009FlAe1ACpvv5WUAJjGP4afZZQAkVjYiT8FlAf0CQfM4AWkCy1TH5cfJZQMNJfzn1+1lA/7egVXz0WUDyZFqsnv1ZQN0lFLsh+VlAOLo4sFn7WUDQrySAhPVZQJlChd/R71lAkWufjc32WUCU+uV7NfZZQAFfTZq191lAar3bogz1WUD5lD6n2uxZQJRydYKA81lA9CHTxSb6WUCFQkY7jvFZQE7rjKB4+VlAX8DiBX3wWUDkhc5anfBZQLIhlj3d9llAap7d6L33WUCfl32YBu5ZQFxmftiM8llAvG/l4e33WUC0hZzeUPlZQDiZJYTA+FlAOlXBwHP6WUA7Twev0vtZQJJ1aNUO+llAGhoCWe7wWUDz1RWgnPtZQKTEehWh7llASNy0orX4WUCA+GVFP/NZQBjsGvA48VlAIL1xwMb3WUAXZHF4mO5ZQI6j8kxs+llAPoq01a31WUCBV0XIevFZQGAKyGa87FlA\",\"dtype\":\"float64\",\"shape\":[93]},\"lon_ward\":{\"__ndarray__\":\"iRkG7tm89j+9I/IQhgP1P56QP4EGzvU/QGmzlgyC9T/fMwqqsN/1P1LtdV+zifY//2s0kCAG9T9Fvz4+kIr1P7CMXzUotPU/UaRZSpxM9T/L9jbOGKL1Pw0QsAUmKPU/yL/dptn+9T/ro9nX9eb0P1dn2RHI5PU/rfRvtgKZ9j90DaXFH5z1P3MuSahKgfU/e36ToBX29T8hEBD7OgD2PyQm9lFwJfY/fhSZKh0B9T8qfrAQ46r0P3Zl5rm4cPQ/EHZQNasd9j9LKyvTgLn1P1DVJezeTvY/lCzSQRm69T+wcw2WkW71P+Zv2hZ9xPY/sTGGB38j9j94rcGRTR71P7mTa+P5D/U/0RQYiVEb9j9E++DdnWj0P3frNE56T/Y/QlqYtO+L9j9onfhO03P1PyzhbW7sw/Q/Z3SUDyh69D+XEv0h0tr2P+XIDzSpv/U/cl5T3ayV9j9tpBj+xdr1P03sBwleyfU/pi9RiLUH9j+VxzioZsT0P/mfa1IsQPc/ybGxVj859j8n/Lm3GQr3P7g7rnKOxvU/9kPFLqgN9j/6wZi5sSP3P/+oYG+xmPU/DRfRi3lq9D/iggzGu/f1P1FO2vdLQPU/wffa0CtS9T95uknrQcz2P7ZIYgajj/U/G6GJsZsV9j9l6s7ktFb1P8SpzCAwfvY/C5pSroo89z/hXxjhZmn1P3FYrb+pUPc/FNj0ymRf9T+08kLH2aDzP+kCbzRTSvY/OlRcZ7Zk9T+LCiY/dOf0P1ZX3moQYvU/DnT9wVeT9T92Q5EimJX1P1NbI5xnXvU/f/sepCda9T+rlqC/AHf2PxvR6HmZsvU/uibiWto09T8Z01ETBFD1P8Y7EeXY6PQ/VQEISYgM9T9Gx3FosCr2PwYwQfFFWPU/+LiVvBEv9T9D83vtRPD2P5BOcqRo5vU/y9XHhccS9T8V45czdpn1P6qD14OXV/Y/DNmw9Rwl9j/h/kadhAT3P2EZh7WjWvY/\",\"dtype\":\"float64\",\"shape\":[93]},\"long\":{\"__ndarray__\":\"B4mguYfF9j/V4mmos9P0P1PG09fZzfU/mIcYfMCf9D/46J2IQsD1P/IypIijx/Y/1eJpqLPT9D8hA2k6S4j1P/jonYhCwPU/hCppWeXp9T8hA2k6S4j1P4RqrO+C2vU/cNzeHdxS9j+Z72Zsoc30PzB0ybf35PU/8jKkiKPH9j/46J2IQsD1P5iHGHzAn/Q/O48RMzc89j+PMJhEPE72P4RqrO+C2vU/H0LWAsUr9T/V4mmos9P0P5iHGHzAn/Q/jzCYRDxO9j9E6/2IVrn1P3Dc3h3cUvY/OthkMyiw9T+17lKxZ271PweJoLmHxfY/YVSa4Bk+9j+Z72Zsoc30P4QqaVnl6fU/mZR0sv8a9j/V4mmos9P0P2FUmuAZPvY/O48RMzc89j+EKmlZ5en1P9Xiaaiz0/Q/me9mbKHN9D/yMqSIo8f2P/jonYhCwPU/B4mguYfF9j9w3N4d3FL2PzrYZDMosPU/ZL5jvIIH9j/1oy7CbMT0Pw6iVGy4OPc/YVSa4Bk+9j/yMqSIo8f2P48wmEQ8TvY/hCppWeXp9T8OolRsuDj3P/jonYhCwPU/d7LSmmhq9D87jxEzNzz2Px9C1gLFK/U/OthkMyiw9T/yMqSIo8f2PzNcAsibj/U/cNzeHdxS9j8hA2k6S4j1P3Dc3h3cUvY/DqJUbLg49z+ELkg7RWn1Pw6iVGy4OPc/OthkMyiw9T+Yhxh8wJ/0P2FUmuAZPvY//R8GnJZc9T+Yhxh8wJ/0PyEDaTpLiPU/H0LWAsUr9T/9Hwacllz1P4RqrO+C2vU/X0KJ0UFa9T89t72Pd3b2PzrYZDMosPU/H0LWAsUr9T+EKmlZ5en1Px9C1gLFK/U//R8GnJZc9T87jxEzNzz2P/0fBpyWXPU/f3FJxy8v9T8OolRsuDj3P4RqrO+C2vU/me9mbKHN9D/9Hwacllz1PzuPETM3PPY/XN3jGMkk9j8HiaC5h8X2P48wmEQ8TvY/\",\"dtype\":\"float64\",\"shape\":[93]},\"newName\":[\"Alex_Yam\",\"Alvin_Tan\",\"Amy_Khor\",\"Ang_Wei_Neng\",\"Baey_Yam_Keng\",\"Carrie_Tan\",\"Chan_Chun_Sing\",\"Chee_Hong_Tat\",\"Cheng_Li_Hui\",\"Cheryl_Chan\",\"Chong_Kee_Hiong\",\"Christopher_de_Souza\",\"Darryl_David\",\"Denise_Phua\",\"Dennis_Tan\",\"Derrick_Goh\",\"Desmond_Choo\",\"Desmond_Lee\",\"Desmond_Tan\",\"Don_Wee\",\"Edward_Chia\",\"Edwin_Tong\",\"Eric_Chua\",\"Foo_Mee_Har\",\"Gan_Kim_Yong\",\"Gan_Siow_Huang\",\"Gan_Thiam_Poh\",\"Gerald_Giam\",\"Grace_Fu\",\"Hany_Soh\",\"He_Ting_Ru\",\"Heng_Chee_How\",\"Heng_Swee_Keat\",\"Henry_Kwek\",\"Indranee_Rajah\",\"Jamus_Lim\",\"Janil_Puthucheary\",\"Jessica_Tan\",\"Joan_Pereira\",\"Josephine_Teo\",\"K._Shanmugam\",\"Koh_Poh_Koon\",\"Lawrence_Wong\",\"Lee_Hsien_Loong\",\"Leon_Perera\",\"Liang_Eng_Hwa\",\"Lim_Biow_Chuan\",\"Lim_Wee_Kiak\",\"Louis_Chua\",\"Louis_Ng\",\"Low_Yen_Ling\",\"Maliki_Osman\",\"Mariam_Jaafar\",\"Masagos_Zulkifli\",\"Melvin_Yong\",\"Mohamed_Sharael_Taha\",\"Mohd_Fahmi_Aliman\",\"Muhamad_Faisal_Manap\",\"Muhammad_Faishal_Ibrahim\",\"Murali_Pillai\",\"Nadia_Ahmad_Samdin\",\"Ng_Eng_Hen\",\"Ng_Ling_Ling\",\"Ong_Ye_Kung\",\"Patrick_Tay\",\"Poh_Li_San\",\"Pritam_Singh\",\"Rachel_Ong\",\"Raeesah_Khan\",\"Rahayu_Mahzam\",\"S._Iswaran\",\"Saktiandi_Supaat\",\"Seah_Kian_Peng\",\"Shawn_Huang\",\"Sim_Ann\",\"Sitoh_Yih_Pin\",\"Sun_Xueling\",\"Sylvia_Lim\",\"Tan_Chuan-Jin\",\"Tan_Kiat_How\",\"Tan_See_Leng\",\"Tan_Wu_Meng\",\"Teo_Chee_Hean\",\"Tharman_Shanmugaratnam\",\"Tin_Pei_Ling\",\"Vikram_Nair\",\"Vivian_Balakrishnan\",\"Wan_Rizal\",\"Xie_Yao_Quan\",\"Yeo_Wan_Ling\",\"Yip_Hon_Weng\",\"Zaqy_Mohamad\",\"Zhulkarnain_Abdul_Rahim\"]},\"selected\":{\"id\":\"1052\",\"type\":\"Selection\"},\"selection_policy\":{\"id\":\"1053\",\"type\":\"UnionRenderers\"}},\"id\":\"1002\",\"type\":\"ColumnDataSource\"},{\"attributes\":{},\"id\":\"1013\",\"type\":\"BasicTicker\"},{\"attributes\":{},\"id\":\"1026\",\"type\":\"ResetTool\"},{\"attributes\":{},\"id\":\"1027\",\"type\":\"HelpTool\"},{\"attributes\":{\"axis_label\":\"T-SNE 1\",\"formatter\":{\"id\":\"1051\",\"type\":\"BasicTickFormatter\"},\"plot\":{\"id\":\"1003\",\"subtype\":\"Figure\",\"type\":\"Plot\"},\"ticker\":{\"id\":\"1013\",\"type\":\"BasicTicker\"}},\"id\":\"1012\",\"type\":\"LinearAxis\"},{\"attributes\":{},\"id\":\"1025\",\"type\":\"SaveTool\"},{\"attributes\":{\"fill_alpha\":{\"value\":0.1},\"fill_color\":{\"value\":\"#1f77b4\"},\"line_alpha\":{\"value\":0.1},\"line_color\":{\"value\":\"#1f77b4\"},\"size\":{\"units\":\"screen\",\"value\":10},\"x\":{\"field\":\"X\"},\"y\":{\"field\":\"Y\"}},\"id\":\"1039\",\"type\":\"Scatter\"},{\"attributes\":{\"bottom_units\":\"screen\",\"fill_alpha\":{\"value\":0.5},\"fill_color\":{\"value\":\"lightgrey\"},\"left_units\":\"screen\",\"level\":\"overlay\",\"line_alpha\":{\"value\":1.0},\"line_color\":{\"value\":\"black\"},\"line_dash\":[4,4],\"line_width\":{\"value\":2},\"plot\":null,\"render_mode\":\"css\",\"right_units\":\"screen\",\"top_units\":\"screen\"},\"id\":\"1030\",\"type\":\"BoxAnnotation\"},{\"attributes\":{},\"id\":\"1053\",\"type\":\"UnionRenderers\"},{\"attributes\":{},\"id\":\"1051\",\"type\":\"BasicTickFormatter\"},{\"attributes\":{},\"id\":\"1010\",\"type\":\"LinearScale\"},{\"attributes\":{},\"id\":\"1008\",\"type\":\"LinearScale\"},{\"attributes\":{},\"id\":\"1052\",\"type\":\"Selection\"},{\"attributes\":{\"callback\":null},\"id\":\"1006\",\"type\":\"DataRange1d\"},{\"attributes\":{\"source\":{\"id\":\"1002\",\"type\":\"ColumnDataSource\"}},\"id\":\"1041\",\"type\":\"CDSView\"},{\"attributes\":{\"plot\":null,\"text\":\"\"},\"id\":\"1046\",\"type\":\"Title\"},{\"attributes\":{\"dimension\":1,\"plot\":{\"id\":\"1003\",\"subtype\":\"Figure\",\"type\":\"Plot\"},\"ticker\":{\"id\":\"1018\",\"type\":\"BasicTicker\"}},\"id\":\"1021\",\"type\":\"Grid\"},{\"attributes\":{\"callback\":null},\"id\":\"1004\",\"type\":\"DataRange1d\"},{\"attributes\":{\"data_source\":{\"id\":\"1002\",\"type\":\"ColumnDataSource\"},\"glyph\":{\"id\":\"1038\",\"type\":\"Scatter\"},\"hover_glyph\":null,\"muted_glyph\":null,\"nonselection_glyph\":{\"id\":\"1039\",\"type\":\"Scatter\"},\"selection_glyph\":null,\"view\":{\"id\":\"1041\",\"type\":\"CDSView\"}},\"id\":\"1040\",\"type\":\"GlyphRenderer\"},{\"attributes\":{},\"id\":\"1018\",\"type\":\"BasicTicker\"},{\"attributes\":{\"callback\":null,\"tooltips\":[[\"Name\",\"@Name\"]]},\"id\":\"1044\",\"type\":\"HoverTool\"},{\"attributes\":{\"active_drag\":\"auto\",\"active_inspect\":\"auto\",\"active_multi\":null,\"active_scroll\":\"auto\",\"active_tap\":\"auto\",\"tools\":[{\"id\":\"1022\",\"type\":\"PanTool\"},{\"id\":\"1023\",\"type\":\"WheelZoomTool\"},{\"id\":\"1024\",\"type\":\"BoxZoomTool\"},{\"id\":\"1025\",\"type\":\"SaveTool\"},{\"id\":\"1026\",\"type\":\"ResetTool\"},{\"id\":\"1027\",\"type\":\"HelpTool\"},{\"id\":\"1044\",\"type\":\"HoverTool\"}]},\"id\":\"1028\",\"type\":\"Toolbar\"},{\"attributes\":{\"overlay\":{\"id\":\"1030\",\"type\":\"BoxAnnotation\"}},\"id\":\"1024\",\"type\":\"BoxZoomTool\"},{\"attributes\":{\"axis_label\":\"T-SNE 2\",\"formatter\":{\"id\":\"1049\",\"type\":\"BasicTickFormatter\"},\"plot\":{\"id\":\"1003\",\"subtype\":\"Figure\",\"type\":\"Plot\"},\"ticker\":{\"id\":\"1018\",\"type\":\"BasicTicker\"}},\"id\":\"1017\",\"type\":\"LinearAxis\"}],\"root_ids\":[\"1003\"]},\"title\":\"Bokeh Application\",\"version\":\"1.0.2\"}};\n",
       "  var render_items = [{\"docid\":\"afd0e772-ade1-41be-9365-ff0de09d0829\",\"roots\":{\"1003\":\"156f838e-77fc-45a3-a96e-b235b1be1349\"}}];\n",
       "  root.Bokeh.embed.embed_items_notebook(docs_json, render_items);\n",
       "\n",
       "  }\n",
       "  if (root.Bokeh !== undefined) {\n",
       "    embed_document(root);\n",
       "  } else {\n",
       "    var attempts = 0;\n",
       "    var timer = setInterval(function(root) {\n",
       "      if (root.Bokeh !== undefined) {\n",
       "        embed_document(root);\n",
       "        clearInterval(timer);\n",
       "      }\n",
       "      attempts++;\n",
       "      if (attempts > 100) {\n",
       "        console.log(\"Bokeh: ERROR: Unable to run BokehJS code because BokehJS library is missing\");\n",
       "        clearInterval(timer);\n",
       "      }\n",
       "    }, 10, root)\n",
       "  }\n",
       "})(window);"
      ],
      "application/vnd.bokehjs_exec.v0+json": ""
     },
     "metadata": {
      "application/vnd.bokehjs_exec.v0+json": {
       "id": "1003"
      }
     },
     "output_type": "display_data"
    }
   ],
   "source": [
    "# Plot the map\n",
    "show(plot)"
   ]
  },
  {
   "cell_type": "code",
   "execution_count": 25,
   "metadata": {},
   "outputs": [
    {
     "data": {
      "text/html": [
       "<div>\n",
       "<style scoped>\n",
       "    .dataframe tbody tr th:only-of-type {\n",
       "        vertical-align: middle;\n",
       "    }\n",
       "\n",
       "    .dataframe tbody tr th {\n",
       "        vertical-align: top;\n",
       "    }\n",
       "\n",
       "    .dataframe thead th {\n",
       "        text-align: right;\n",
       "    }\n",
       "</style>\n",
       "<table border=\"1\" class=\"dataframe\">\n",
       "  <thead>\n",
       "    <tr style=\"text-align: right;\">\n",
       "      <th></th>\n",
       "      <th>Division</th>\n",
       "      <th>Type</th>\n",
       "      <th>Name</th>\n",
       "      <th>lat</th>\n",
       "      <th>long</th>\n",
       "      <th>Ward</th>\n",
       "      <th>lat_ward</th>\n",
       "      <th>lon_ward</th>\n",
       "      <th>newName</th>\n",
       "      <th>Party</th>\n",
       "      <th>...</th>\n",
       "      <th>National Development</th>\n",
       "      <th>Home Affairs</th>\n",
       "      <th>Age_group</th>\n",
       "      <th>X</th>\n",
       "      <th>Y</th>\n",
       "      <th>color</th>\n",
       "      <th>color1</th>\n",
       "      <th>color2</th>\n",
       "      <th>color4</th>\n",
       "      <th>color3</th>\n",
       "    </tr>\n",
       "  </thead>\n",
       "  <tbody>\n",
       "    <tr>\n",
       "      <th>37</th>\n",
       "      <td>EAST COAST</td>\n",
       "      <td>GRC</td>\n",
       "      <td>Jessica Tan</td>\n",
       "      <td>104.003926</td>\n",
       "      <td>1.369603</td>\n",
       "      <td>Changi Simei</td>\n",
       "      <td>103.952592</td>\n",
       "      <td>1.340778</td>\n",
       "      <td>Jessica_Tan</td>\n",
       "      <td>People's Action Party</td>\n",
       "      <td>...</td>\n",
       "      <td>0</td>\n",
       "      <td>0</td>\n",
       "      <td>50 - 55</td>\n",
       "      <td>-3.49133</td>\n",
       "      <td>-4.15283</td>\n",
       "      <td>rgb(128,0,128)</td>\n",
       "      <td>rgb(139,0,0)</td>\n",
       "      <td>rgb(139,0,0)</td>\n",
       "      <td>rgb(199,21,133)</td>\n",
       "      <td>rgb(0,0,255)</td>\n",
       "    </tr>\n",
       "  </tbody>\n",
       "</table>\n",
       "<p>1 rows × 52 columns</p>\n",
       "</div>"
      ],
      "text/plain": [
       "      Division Type         Name         lat      long          Ward  \\\n",
       "37  EAST COAST  GRC  Jessica Tan  104.003926  1.369603  Changi Simei   \n",
       "\n",
       "      lat_ward  lon_ward      newName                  Party  ...  \\\n",
       "37  103.952592  1.340778  Jessica_Tan  People's Action Party  ...   \n",
       "\n",
       "    National Development  Home Affairs Age_group        X        Y  \\\n",
       "37                     0             0   50 - 55 -3.49133 -4.15283   \n",
       "\n",
       "             color        color1        color2           color4        color3  \n",
       "37  rgb(128,0,128)  rgb(139,0,0)  rgb(139,0,0)  rgb(199,21,133)  rgb(0,0,255)  \n",
       "\n",
       "[1 rows x 52 columns]"
      ]
     },
     "metadata": {},
     "output_type": "display_data"
    },
    {
     "data": {
      "text/html": [
       "<div>\n",
       "<style scoped>\n",
       "    .dataframe tbody tr th:only-of-type {\n",
       "        vertical-align: middle;\n",
       "    }\n",
       "\n",
       "    .dataframe tbody tr th {\n",
       "        vertical-align: top;\n",
       "    }\n",
       "\n",
       "    .dataframe thead th {\n",
       "        text-align: right;\n",
       "    }\n",
       "</style>\n",
       "<table border=\"1\" class=\"dataframe\">\n",
       "  <thead>\n",
       "    <tr style=\"text-align: right;\">\n",
       "      <th></th>\n",
       "      <th>Division</th>\n",
       "      <th>Type</th>\n",
       "      <th>Name</th>\n",
       "      <th>lat</th>\n",
       "      <th>long</th>\n",
       "      <th>Ward</th>\n",
       "      <th>lat_ward</th>\n",
       "      <th>lon_ward</th>\n",
       "      <th>newName</th>\n",
       "      <th>Party</th>\n",
       "      <th>...</th>\n",
       "      <th>National Development</th>\n",
       "      <th>Home Affairs</th>\n",
       "      <th>Age_group</th>\n",
       "      <th>X</th>\n",
       "      <th>Y</th>\n",
       "      <th>color</th>\n",
       "      <th>color1</th>\n",
       "      <th>color2</th>\n",
       "      <th>color4</th>\n",
       "      <th>color3</th>\n",
       "    </tr>\n",
       "  </thead>\n",
       "  <tbody>\n",
       "    <tr>\n",
       "      <th>77</th>\n",
       "      <td>ALJUNIED</td>\n",
       "      <td>GRC</td>\n",
       "      <td>Sylvia Lim</td>\n",
       "      <td>103.90293</td>\n",
       "      <td>1.355507</td>\n",
       "      <td>Paya Lebar</td>\n",
       "      <td>103.88675</td>\n",
       "      <td>1.356103</td>\n",
       "      <td>Sylvia_Lim</td>\n",
       "      <td>Workers' Party</td>\n",
       "      <td>...</td>\n",
       "      <td>0</td>\n",
       "      <td>0</td>\n",
       "      <td>50 - 55</td>\n",
       "      <td>-2.240193</td>\n",
       "      <td>-4.71964</td>\n",
       "      <td>rgb(255,228,225)</td>\n",
       "      <td>rgb(139,0,0)</td>\n",
       "      <td>rgb(139,0,0)</td>\n",
       "      <td>rgb(139,0,0)</td>\n",
       "      <td>rgb(0,0,255)</td>\n",
       "    </tr>\n",
       "  </tbody>\n",
       "</table>\n",
       "<p>1 rows × 52 columns</p>\n",
       "</div>"
      ],
      "text/plain": [
       "    Division Type        Name        lat      long        Ward   lat_ward  \\\n",
       "77  ALJUNIED  GRC  Sylvia Lim  103.90293  1.355507  Paya Lebar  103.88675   \n",
       "\n",
       "    lon_ward     newName           Party  ...  National Development  \\\n",
       "77  1.356103  Sylvia_Lim  Workers' Party  ...                     0   \n",
       "\n",
       "    Home Affairs Age_group         X        Y             color        color1  \\\n",
       "77             0   50 - 55 -2.240193 -4.71964  rgb(255,228,225)  rgb(139,0,0)   \n",
       "\n",
       "          color2        color4        color3  \n",
       "77  rgb(139,0,0)  rgb(139,0,0)  rgb(0,0,255)  \n",
       "\n",
       "[1 rows x 52 columns]"
      ]
     },
     "metadata": {},
     "output_type": "display_data"
    }
   ],
   "source": [
    "# Print the ingredients of two similar cosmetics\n",
    "p1 = constituencies[constituencies['Name'] == \"Jessica Tan\"]\n",
    "p2 = constituencies[constituencies['Name'] == \"Sylvia Lim\"]\n",
    "\n",
    "# Display each item's data and ingredients\n",
    "display(p1)\n",
    "display(p2)"
   ]
  },
  {
   "cell_type": "code",
   "execution_count": 26,
   "metadata": {},
   "outputs": [
    {
     "data": {
      "text/plain": [
       "82    60 - 65\n",
       "Name: Age_group, dtype: object"
      ]
     },
     "execution_count": 26,
     "metadata": {},
     "output_type": "execute_result"
    }
   ],
   "source": [
    "constituencies[constituencies['Name'] == \"Teo Chee Hean\"]['Age_group']"
   ]
  },
  {
   "cell_type": "code",
   "execution_count": 65,
   "metadata": {},
   "outputs": [],
   "source": [
    "list_1 = ['Age_group', 'Ethnicity', 'Gender', 'First_Occupation', 'Previous_Occupation', 'Years_In_Politics']\n",
    "X_subset1 = constituencies[list_1]\n",
    "\n",
    "enc = OneHotEncoder(handle_unknown='ignore')\n",
    "X_enc1 = enc.fit_transform(X_subset1).toarray()\n",
    "enc_cols1 = enc.get_feature_names(X_subset1.columns)\n",
    "df_X1 = pd.DataFrame(X_enc1, columns=enc_cols1)\n",
    "\n",
    "prev_cols = ['Previous_Occupation_Biz Dev', 'Previous_Occupation_Education', 'Previous_Occupation_Entrepreneur', \\\n",
    "'Previous_Occupation_Finance', 'Previous_Occupation_IT/Engineering', 'Previous_Occupation_Infrastructure (Transport/Telecomms/Real Estate)', \\\n",
    "'Previous_Occupation_Law', 'Previous_Occupation_Public Service (Finance)', 'Previous_Occupation_Public Service (Labour)', \\\n",
    "'Previous_Occupation_Public Service (Multiple Stat Boards)', 'Previous_Occupation_Public Service (Multiple Stat Boards) ', \\\n",
    "'Previous_Occupation_Public Service (Social/Healthcare)', 'Previous_Occupation_Public Service (Social/Healthcare) ', \\\n",
    "'Previous_Occupation_Public Service / Govt-linked (Biz Dev)', 'Previous_Occupation_SAF/SPF/SCDF',\\\n",
    "'Previous_Occupation_Social Enterprise/Charity', 'Previous_Occupation_Specialist - Healthcare']\n",
    "\n",
    "#for i in prev_cols:\n",
    "    #df_X1[i + '_1'] = df_X1[i]\n",
    "    \n",
    "#X_enc1 = df_X1.to_numpy()\n",
    "\n",
    "tsne_features1 = TSNE(random_state=RS,  perplexity=50.0, n_iter=5000, learning_rate=10).fit_transform(X_enc1)\n",
    "\n",
    "# Make X, Y columns \n",
    "constituencies['X1'] = tsne_features1[:, 0]\n",
    "constituencies['Y1'] = tsne_features1[:, 1]"
   ]
  },
  {
   "cell_type": "code",
   "execution_count": 66,
   "metadata": {},
   "outputs": [
    {
     "data": {
      "text/html": [
       "<div style=\"display: table;\"><div style=\"display: table-row;\"><div style=\"display: table-cell;\"><b title=\"bokeh.models.renderers.GlyphRenderer\">GlyphRenderer</b>(</div><div style=\"display: table-cell;\">id&nbsp;=&nbsp;'1263', <span id=\"1266\" style=\"cursor: pointer;\">&hellip;)</span></div></div><div class=\"1265\" style=\"display: none;\"><div style=\"display: table-cell;\"></div><div style=\"display: table-cell;\">data_source&nbsp;=&nbsp;ColumnDataSource(id='1225', ...),</div></div><div class=\"1265\" style=\"display: none;\"><div style=\"display: table-cell;\"></div><div style=\"display: table-cell;\">glyph&nbsp;=&nbsp;Circle(id='1261', ...),</div></div><div class=\"1265\" style=\"display: none;\"><div style=\"display: table-cell;\"></div><div style=\"display: table-cell;\">hover_glyph&nbsp;=&nbsp;None,</div></div><div class=\"1265\" style=\"display: none;\"><div style=\"display: table-cell;\"></div><div style=\"display: table-cell;\">js_event_callbacks&nbsp;=&nbsp;{},</div></div><div class=\"1265\" style=\"display: none;\"><div style=\"display: table-cell;\"></div><div style=\"display: table-cell;\">js_property_callbacks&nbsp;=&nbsp;{},</div></div><div class=\"1265\" style=\"display: none;\"><div style=\"display: table-cell;\"></div><div style=\"display: table-cell;\">level&nbsp;=&nbsp;'glyph',</div></div><div class=\"1265\" style=\"display: none;\"><div style=\"display: table-cell;\"></div><div style=\"display: table-cell;\">muted&nbsp;=&nbsp;False,</div></div><div class=\"1265\" style=\"display: none;\"><div style=\"display: table-cell;\"></div><div style=\"display: table-cell;\">muted_glyph&nbsp;=&nbsp;None,</div></div><div class=\"1265\" style=\"display: none;\"><div style=\"display: table-cell;\"></div><div style=\"display: table-cell;\">name&nbsp;=&nbsp;None,</div></div><div class=\"1265\" style=\"display: none;\"><div style=\"display: table-cell;\"></div><div style=\"display: table-cell;\">nonselection_glyph&nbsp;=&nbsp;Circle(id='1262', ...),</div></div><div class=\"1265\" style=\"display: none;\"><div style=\"display: table-cell;\"></div><div style=\"display: table-cell;\">selection_glyph&nbsp;=&nbsp;None,</div></div><div class=\"1265\" style=\"display: none;\"><div style=\"display: table-cell;\"></div><div style=\"display: table-cell;\">subscribed_events&nbsp;=&nbsp;[],</div></div><div class=\"1265\" style=\"display: none;\"><div style=\"display: table-cell;\"></div><div style=\"display: table-cell;\">tags&nbsp;=&nbsp;[],</div></div><div class=\"1265\" style=\"display: none;\"><div style=\"display: table-cell;\"></div><div style=\"display: table-cell;\">view&nbsp;=&nbsp;CDSView(id='1264', ...),</div></div><div class=\"1265\" style=\"display: none;\"><div style=\"display: table-cell;\"></div><div style=\"display: table-cell;\">visible&nbsp;=&nbsp;True,</div></div><div class=\"1265\" style=\"display: none;\"><div style=\"display: table-cell;\"></div><div style=\"display: table-cell;\">x_range_name&nbsp;=&nbsp;'default',</div></div><div class=\"1265\" style=\"display: none;\"><div style=\"display: table-cell;\"></div><div style=\"display: table-cell;\">y_range_name&nbsp;=&nbsp;'default')</div></div></div>\n",
       "<script>\n",
       "(function() {\n",
       "  var expanded = false;\n",
       "  var ellipsis = document.getElementById(\"1266\");\n",
       "  ellipsis.addEventListener(\"click\", function() {\n",
       "    var rows = document.getElementsByClassName(\"1265\");\n",
       "    for (var i = 0; i < rows.length; i++) {\n",
       "      var el = rows[i];\n",
       "      el.style.display = expanded ? \"none\" : \"table-row\";\n",
       "    }\n",
       "    ellipsis.innerHTML = expanded ? \"&hellip;)\" : \"&lsaquo;&lsaquo;&lsaquo;\";\n",
       "    expanded = !expanded;\n",
       "  });\n",
       "})();\n",
       "</script>\n"
      ],
      "text/plain": [
       "GlyphRenderer(id='1263', ...)"
      ]
     },
     "execution_count": 66,
     "metadata": {},
     "output_type": "execute_result"
    }
   ],
   "source": [
    "# Make a source and a scatter plot  \n",
    "source = ColumnDataSource(constituencies)\n",
    "\n",
    "plot = figure(x_axis_label = 'T-SNE 1', \n",
    "              y_axis_label = 'T-SNE 2', \n",
    "              width = 500, height = 400)\n",
    "\n",
    "plot.circle(x = \"X1\", \n",
    "    y = \"Y1\", \n",
    "    source = source, \n",
    "    size = 10, color = 'color', alpha = .5)"
   ]
  },
  {
   "cell_type": "code",
   "execution_count": 67,
   "metadata": {},
   "outputs": [],
   "source": [
    "# Create a HoverTool object\n",
    "hover = HoverTool(tooltips = [('Name', '@Name')])\n",
    "plot.add_tools(hover)"
   ]
  },
  {
   "cell_type": "code",
   "execution_count": 68,
   "metadata": {},
   "outputs": [
    {
     "data": {
      "text/html": [
       "\n",
       "\n",
       "\n",
       "\n",
       "\n",
       "\n",
       "  <div class=\"bk-root\" id=\"9489731a-3407-45e7-a606-44b6856719fc\"></div>\n"
      ]
     },
     "metadata": {},
     "output_type": "display_data"
    },
    {
     "data": {
      "application/javascript": [
       "(function(root) {\n",
       "  function embed_document(root) {\n",
       "    \n",
       "  var docs_json = {\"d5b0b1d6-7739-4110-b3aa-3dfc94069ddb\":{\"roots\":{\"references\":[{\"attributes\":{\"below\":[{\"id\":\"1235\",\"type\":\"LinearAxis\"}],\"left\":[{\"id\":\"1240\",\"type\":\"LinearAxis\"}],\"plot_height\":400,\"plot_width\":500,\"renderers\":[{\"id\":\"1235\",\"type\":\"LinearAxis\"},{\"id\":\"1239\",\"type\":\"Grid\"},{\"id\":\"1240\",\"type\":\"LinearAxis\"},{\"id\":\"1244\",\"type\":\"Grid\"},{\"id\":\"1253\",\"type\":\"BoxAnnotation\"},{\"id\":\"1263\",\"type\":\"GlyphRenderer\"}],\"title\":{\"id\":\"1287\",\"type\":\"Title\"},\"toolbar\":{\"id\":\"1251\",\"type\":\"Toolbar\"},\"x_range\":{\"id\":\"1227\",\"type\":\"DataRange1d\"},\"x_scale\":{\"id\":\"1231\",\"type\":\"LinearScale\"},\"y_range\":{\"id\":\"1229\",\"type\":\"DataRange1d\"},\"y_scale\":{\"id\":\"1233\",\"type\":\"LinearScale\"}},\"id\":\"1226\",\"subtype\":\"Figure\",\"type\":\"Plot\"},{\"attributes\":{},\"id\":\"1248\",\"type\":\"SaveTool\"},{\"attributes\":{},\"id\":\"1250\",\"type\":\"HelpTool\"},{\"attributes\":{\"dimension\":1,\"plot\":{\"id\":\"1226\",\"subtype\":\"Figure\",\"type\":\"Plot\"},\"ticker\":{\"id\":\"1241\",\"type\":\"BasicTicker\"}},\"id\":\"1244\",\"type\":\"Grid\"},{\"attributes\":{},\"id\":\"1236\",\"type\":\"BasicTicker\"},{\"attributes\":{},\"id\":\"1246\",\"type\":\"WheelZoomTool\"},{\"attributes\":{\"plot\":null,\"text\":\"\"},\"id\":\"1287\",\"type\":\"Title\"},{\"attributes\":{},\"id\":\"1241\",\"type\":\"BasicTicker\"},{\"attributes\":{\"axis_label\":\"T-SNE 1\",\"formatter\":{\"id\":\"1292\",\"type\":\"BasicTickFormatter\"},\"plot\":{\"id\":\"1226\",\"subtype\":\"Figure\",\"type\":\"Plot\"},\"ticker\":{\"id\":\"1236\",\"type\":\"BasicTicker\"}},\"id\":\"1235\",\"type\":\"LinearAxis\"},{\"attributes\":{\"fill_alpha\":{\"value\":0.1},\"fill_color\":{\"value\":\"#1f77b4\"},\"line_alpha\":{\"value\":0.1},\"line_color\":{\"value\":\"#1f77b4\"},\"size\":{\"units\":\"screen\",\"value\":10},\"x\":{\"field\":\"X1\"},\"y\":{\"field\":\"Y1\"}},\"id\":\"1262\",\"type\":\"Circle\"},{\"attributes\":{},\"id\":\"1249\",\"type\":\"ResetTool\"},{\"attributes\":{\"fill_alpha\":{\"value\":0.5},\"fill_color\":{\"field\":\"color\"},\"line_alpha\":{\"value\":0.5},\"line_color\":{\"field\":\"color\"},\"size\":{\"units\":\"screen\",\"value\":10},\"x\":{\"field\":\"X1\"},\"y\":{\"field\":\"Y1\"}},\"id\":\"1261\",\"type\":\"Circle\"},{\"attributes\":{\"data_source\":{\"id\":\"1225\",\"type\":\"ColumnDataSource\"},\"glyph\":{\"id\":\"1261\",\"type\":\"Circle\"},\"hover_glyph\":null,\"muted_glyph\":null,\"nonselection_glyph\":{\"id\":\"1262\",\"type\":\"Circle\"},\"selection_glyph\":null,\"view\":{\"id\":\"1264\",\"type\":\"CDSView\"}},\"id\":\"1263\",\"type\":\"GlyphRenderer\"},{\"attributes\":{\"callback\":null},\"id\":\"1227\",\"type\":\"DataRange1d\"},{\"attributes\":{},\"id\":\"1293\",\"type\":\"Selection\"},{\"attributes\":{\"callback\":null,\"data\":{\"Age\":[39,40,62,53,49,38,50,46,44,43,54,44,49,60,49,52,42,44,50,43,36,51,41,54,61,45,56,42,56,33,37,59,59,44,57,44,47,54,53,52,61,48,47,68,49,56,57,51,33,41,46,55,43,57,48,39,47,45,52,52,30,61,48,50,48,44,44,47,26,40,58,46,58,38,45,56,41,55,51,43,55,45,65,63,36,42,59,41,35,44,43,45,39],\"Age_group\":[\"35 - 40\",\"35 - 40\",\"60 - 65\",\"50 - 55\",\"45 - 50\",\"35 - 40\",\"45 - 50\",\"45 - 50\",\"40 - 45\",\"40 - 45\",\"50 - 55\",\"40 - 45\",\"45 - 50\",\"55 - 60\",\"45 - 50\",\"50 - 55\",\"40 - 45\",\"40 - 45\",\"45 - 50\",\"40 - 45\",\"35 - 40\",\"50 - 55\",\"40 - 45\",\"50 - 55\",\"60 - 65\",\"40 - 45\",\"55 - 60\",\"40 - 45\",\"55 - 60\",\"Less than 35\",\"35 - 40\",\"55 - 60\",\"55 - 60\",\"40 - 45\",\"55 - 60\",\"40 - 45\",\"45 - 50\",\"50 - 55\",\"50 - 55\",\"50 - 55\",\"60 - 65\",\"45 - 50\",\"45 - 50\",\"More than 65\",\"45 - 50\",\"55 - 60\",\"55 - 60\",\"50 - 55\",\"Less than 35\",\"40 - 45\",\"45 - 50\",\"50 - 55\",\"40 - 45\",\"55 - 60\",\"45 - 50\",\"35 - 40\",\"45 - 50\",\"40 - 45\",\"50 - 55\",\"50 - 55\",\"Less than 35\",\"60 - 65\",\"45 - 50\",\"45 - 50\",\"45 - 50\",\"40 - 45\",\"40 - 45\",\"45 - 50\",\"Less than 35\",\"35 - 40\",\"55 - 60\",\"45 - 50\",\"55 - 60\",\"35 - 40\",\"40 - 45\",\"55 - 60\",\"40 - 45\",\"50 - 55\",\"50 - 55\",\"40 - 45\",\"50 - 55\",\"40 - 45\",\"60 - 65\",\"60 - 65\",\"35 - 40\",\"40 - 45\",\"55 - 60\",\"40 - 45\",\"Less than 35\",\"40 - 45\",\"40 - 45\",\"40 - 45\",\"35 - 40\"],\"Communications & Information\":[0,0,0,0,0,0,0,0,0,0,0,0,0,0,0,0,0,0,0,0,0,0,0,0,0,0,0,0,0,0,0,0,0,0,0,0,1,0,0,0,0,0,0,0,0,0,0,0,0,0,0,0,0,0,0,0,0,0,0,0,0,0,0,0,0,0,0,0,0,0,1,0,0,0,1,0,0,0,0,0,0,0,0,0,0,0,0,0,0,0,0,0,0],\"Culture, Community and Youth\":[0,1,0,0,0,0,0,0,0,0,0,0,0,0,0,0,0,0,0,0,0,1,1,0,0,0,0,0,0,0,0,0,0,0,0,0,0,0,0,0,0,0,0,0,0,0,0,0,0,0,1,0,0,0,0,0,0,0,0,0,0,0,0,0,0,0,0,0,0,0,0,0,0,0,0,0,0,0,0,0,0,0,0,0,0,0,0,0,0,0,0,0,0],\"Defence\":[0,0,0,0,0,0,0,0,0,0,0,0,0,0,0,0,0,0,0,0,0,0,0,0,0,0,0,0,0,0,0,1,0,0,0,0,0,0,0,0,0,0,0,0,0,0,0,0,0,0,0,0,0,0,0,0,0,0,0,0,0,1,0,0,0,0,0,0,0,0,0,0,0,0,0,0,0,0,0,0,0,0,0,0,0,0,0,0,0,0,0,1,0],\"Division\":[\"MARSILING-YEW TEE\",\"TANJONG PAGAR\",\"HONG KAH NORTH\",\"WEST COAST\",\"TAMPINES\",\"NEE SOON\",\"TANJONG PAGAR\",\"BISHAN-TOA PAYOH\",\"TAMPINES\",\"EAST COAST\",\"BISHAN-TOA PAYOH\",\"HOLLAND-BUKIT TIMAH\",\"ANG MO KIO\",\"JALAN BESAR\",\"HOUGANG\",\"NEE SOON\",\"TAMPINES\",\"WEST COAST\",\"PASIR RIS-PUNGGOL\",\"CHUA CHU KANG\",\"HOLLAND-BUKIT TIMAH\",\"MARINE PARADE\",\"TANJONG PAGAR\",\"WEST COAST\",\"CHUA CHU KANG\",\"MARYMOUNT\",\"ANG MO KIO\",\"ALJUNIED\",\"YUHUA\",\"MARSILING-YEW TEE\",\"SENGKANG\",\"JALAN BESAR\",\"EAST COAST\",\"KEBUN BARU\",\"TANJONG PAGAR\",\"SENGKANG\",\"PASIR RIS-PUNGGOL\",\"EAST COAST\",\"TANJONG PAGAR\",\"JALAN BESAR\",\"NEE SOON\",\"TAMPINES\",\"MARSILING-YEW TEE\",\"ANG MO KIO\",\"ALJUNIED\",\"BUKIT PANJANG\",\"MOUNTBATTEN\",\"SEMBAWANG\",\"SENGKANG\",\"NEE SOON\",\"CHUA CHU KANG\",\"EAST COAST\",\"SEMBAWANG\",\"TAMPINES\",\"RADIN MAS\",\"PASIR RIS-PUNGGOL\",\"MARINE PARADE\",\"ALJUNIED\",\"NEE SOON\",\"BUKIT BATOK\",\"ANG MO KIO\",\"BISHAN-TOA PAYOH\",\"ANG MO KIO\",\"SEMBAWANG\",\"PIONEER\",\"SEMBAWANG\",\"ALJUNIED\",\"WEST COAST\",\"SENGKANG\",\"JURONG\",\"WEST COAST\",\"BISHAN-TOA PAYOH\",\"MARINE PARADE\",\"JURONG\",\"HOLLAND-BUKIT TIMAH\",\"POTONG PASIR\",\"PUNGGOL WEST\",\"ALJUNIED\",\"MARINE PARADE\",\"EAST COAST\",\"MARINE PARADE\",\"JURONG\",\"PASIR RIS-PUNGGOL\",\"JURONG\",\"MACPHERSON\",\"SEMBAWANG\",\"HOLLAND-BUKIT TIMAH\",\"JALAN BESAR\",\"JURONG\",\"PASIR RIS-PUNGGOL\",\"YIO CHU KANG\",\"MARSILING-YEW TEE\",\"CHUA CHU KANG\"],\"Education\":[0,0,0,0,0,0,0,0,0,0,0,0,0,0,0,0,0,0,0,0,0,0,0,0,0,1,0,0,0,0,0,0,0,0,0,0,0,0,0,0,0,0,1,0,0,0,0,0,0,0,0,1,0,0,0,0,0,0,0,0,0,0,0,0,0,0,0,0,0,0,0,0,0,0,0,0,1,0,0,0,0,0,0,0,0,0,0,0,0,0,0,0,0],\"Ethnicity\":[\"Chinese\",\"Chinese\",\"Chinese\",\"Chinese\",\"Chinese\",\"Chinese\",\"Chinese\",\"Chinese\",\"Chinese\",\"Chinese\",\"Chinese\",\"Eurasian\",\"Indian\",\"Chinese\",\"Chinese\",\"Chinese\",\"Chinese\",\"Chinese\",\"Chinese\",\"Chinese\",\"Chinese\",\"Chinese\",\"Chinese\",\"Chinese\",\"Chinese\",\"Chinese\",\"Chinese\",\"Chinese\",\"Chinese\",\"Chinese\",\"Chinese\",\"Chinese\",\"Chinese\",\"Chinese\",\"Indian\",\"Chinese\",\"Indian\",\"Chinese\",\"Eurasian\",\"Chinese\",\"Indian\",\"Chinese\",\"Chinese\",\"Chinese\",\"Eurasian\",\"Chinese\",\"Chinese\",\"Chinese\",\"Chinese\",\"Chinese\",\"Chinese\",\"Malay\",\"Malay\",\"Malay\",\"Chinese\",\"Malay\",\"Malay\",\"Malay\",\"Malay\",\"Indian\",\"Malay\",\"Chinese\",\"Chinese\",\"Chinese\",\"Chinese\",\"Chinese\",\"Indian\",\"Chinese\",\"Malay\",\"Malay\",\"Indian\",\"Malay\",\"Chinese\",\"Chinese\",\"Chinese\",\"Chinese\",\"Chinese\",\"Chinese\",\"Chinese\",\"Chinese\",\"Chinese\",\"Chinese\",\"Chinese\",\"Indian\",\"Chinese\",\"Indian\",\"Indian\",\"Malay\",\"Chinese\",\"Chinese\",\"Chinese\",\"Malay\",\"Malay\"],\"Finance\":[0,0,0,0,0,0,0,0,0,0,0,0,0,0,0,0,0,0,0,0,0,0,0,0,0,0,0,0,0,0,0,0,1,0,1,0,0,0,0,0,0,0,1,0,0,0,0,0,0,0,0,0,0,0,0,0,0,0,0,0,0,0,0,0,0,0,0,0,0,0,0,0,0,0,0,0,0,0,0,0,0,0,0,0,0,0,0,0,0,0,0,0,0],\"First_Occupation\":[\"Public Service (Labour)\",\"Other(HR/Management)\",\"Education\",\"SAF/SPF/SCDF\",\"Public Service (Multiple Stat Boards)\",\"Other(HR/Management)\",\"SAF/SPF/SCDF\",\"Public Service (Multiple Stat Boards)\",\"IT/Engineering\",\"IT/Engineering\",\"Infrastructure (Transport/Telecomms/Real Estate)\",\"Law\",\"Other(HR/Management)\",\"Entrepreneur\",\"Law\",\"Finance\",\"SAF/SPF/SCDF\",\"Law\",\"SAF/SPF/SCDF\",\"Finance\",\"Entrepreneur\",\"Law\",\"SAF/SPF/SCDF\",\"Finance\",\"IT/Engineering\",\"SAF/SPF/SCDF\",\"Finance\",\"IT/Engineering\",\"Infrastructure (Transport/Telecomms/Real Estate)\",\"Law\",\"Law\",\"SAF/SPF/SCDF\",\"SAF/SPF/SCDF\",\"Biz Dev\",\"Law\",\"Finance\",\"Specialist - Healthcare\",\"Other(HR/Management)\",\"Public Service (Social/Healthcare)\",\"Public Service / Govt-linked (Biz Dev)\",\"Law\",\"Specialist - Healthcare\",\"Public Service (Multiple Stat Boards)\",\"Public Service (Multiple Stat Boards)\",\"Biz Dev\",\"Finance\",\"Law\",\"Specialist - Healthcare\",\"Finance\",\"Social Enterprise/Charity\",\"Biz Dev\",\"Education\",\"Other(HR/Management)\",\"Infrastructure (Transport/Telecomms/Real Estate)\",\"SAF/SPF/SCDF\",\"IT/Engineering\",\"SAF/SPF/SCDF\",\"Law\",\"Education\",\"Law\",\"Law\",\"Specialist - Healthcare\",\"Finance\",\"Public Service (Multiple Stat Boards)\",\"SAF/SPF/SCDF\",\"SAF/SPF/SCDF\",\"SAF/SPF/SCDF\",\"Social Enterprise/Charity\",\"Social Enterprise/Charity\",\"Law\",\"Public Service / Govt-linked (Biz Dev)\",\"Finance\",\"Public Service (Labour)\",\"SAF/SPF/SCDF\",\"Public Service (Multiple Stat Boards)\",\"Finance\",\"Public Service / Govt-linked (Biz Dev)\",\"Law\",\"SAF/SPF/SCDF\",\"Public Service (Social/Healthcare)\",\"Entrepreneur\",\"Specialist - Healthcare\",\"SAF/SPF/SCDF\",\"Public Service (Finance)\",\"Biz Dev\",\"Law\",\"Specialist - Healthcare\",\"Education\",\"Biz Dev\",\"Public Service / Govt-linked (Biz Dev)\",\"Education\",\"Biz Dev\",\"Law\"],\"Foreign Affairs\":[0,0,0,0,0,0,0,1,0,0,0,0,0,0,0,0,0,0,0,0,0,0,0,0,0,0,0,0,0,0,0,0,0,0,0,0,0,0,0,0,0,0,0,0,0,0,0,0,0,0,0,1,0,0,0,0,0,0,0,0,0,0,0,0,0,0,0,0,0,0,0,0,0,0,0,0,0,0,0,0,0,0,0,0,0,0,1,0,0,0,0,0,0],\"Gender\":[\"Male\",\"Male\",\"Female\",\"Male\",\"Male\",\"Female\",\"Male\",\"Male\",\"Female\",\"Female\",\"Male\",\"Male\",\"Male\",\"Female\",\"Male\",\"Male\",\"Male\",\"Male\",\"Male\",\"Male\",\"Male\",\"Male\",\"Male\",\"Female\",\"Male\",\"Female\",\"Male\",\"Male\",\"Female\",\"Female\",\"Female\",\"Male\",\"Male\",\"Male\",\"Female\",\"Male\",\"Male\",\"Female\",\"Female\",\"Female\",\"Male\",\"Male\",\"Male\",\"Male\",\"Male\",\"Male\",\"Male\",\"Male\",\"Male\",\"Male\",\"Female\",\"Male\",\"Female\",\"Male\",\"Male\",\"Male\",\"Male\",\"Male\",\"Male\",\"Male\",\"Female\",\"Male\",\"Female\",\"Male\",\"Male\",\"Female\",\"Male\",\"Female\",\"Female\",\"Female\",\"Male\",\"Male\",\"Male\",\"Male\",\"Female\",\"Male\",\"Female\",\"Female\",\"Male\",\"Male\",\"Male\",\"Male\",\"Male\",\"Male\",\"Female\",\"Male\",\"Male\",\"Male\",\"Male\",\"Female\",\"Male\",\"Male\",\"Male\"],\"Grassroots_Experience\":[\"Yes\",\"Yes\",\"Yes\",\"No\",\"No\",\"No\",\"No\",\"No\",\"Yes\",\"Yes\",\"Yes\",\"No\",\"Yes\",\"Yes\",\"No\",\"Yes\",\"No\",\"No\",\"Yes\",\"Yes\",\"No\",\"No\",\"Yes\",\"No\",\"Yes\",\"No\",\"Yes\",\"Yes\",\"No\",\"Yes\",\"Yes\",\"No\",\"No\",\"Yes\",\"No\",\"No\",\"No\",\"No\",\"Yes\",\"No\",\"No\",\"No\",\"No\",\"No\",\"Yes\",\"Yes\",\"Yes\",\"No\",\"No\",\"Yes\",\"No\",\"No\",\"No\",\"No\",\"Yes\",\"No\",\"No\",\"Yes\",\"Yes\",\"Yes\",\"Yes\",\"No\",\"Yes\",\"No\",\"Yes\",\"Yes\",\"Yes\",\"Yes\",\"Yes\",\"Yes\",\"No\",\"Yes\",\"Yes\",\"Yes\",\"No\",\"Yes\",\"No\",\"No\",\"No\",\"No\",\"Yes\",\"Yes\",\"No\",\"No\",\"Yes\",\"No\",\"No\",\"Yes\",\"Yes\",\"No\",\"No\",\"No\",\"No\"],\"Health\":[0,0,0,0,0,0,0,0,0,0,0,0,0,0,0,0,0,0,0,0,0,0,0,0,1,0,0,0,0,0,0,0,0,0,0,0,1,0,0,0,0,1,0,0,0,0,0,0,0,0,0,0,0,1,0,0,0,0,0,0,0,0,0,0,0,0,0,0,0,1,0,0,0,0,0,0,0,0,0,0,0,0,0,0,0,0,0,0,0,0,0,0,0],\"Home Affairs\":[0,0,0,0,0,0,0,0,0,0,0,0,0,0,0,0,0,0,1,0,0,0,0,0,0,0,0,0,0,0,0,0,0,0,0,0,0,0,0,1,1,0,0,0,0,0,0,0,0,0,0,0,0,0,0,0,0,0,1,0,0,0,0,0,0,0,0,0,0,0,0,0,0,0,0,0,0,0,0,0,0,0,0,0,0,0,0,0,0,0,0,0,0],\"Law\":[0,0,0,0,0,0,0,0,0,0,0,0,0,0,0,0,0,0,0,0,0,1,0,0,0,0,0,0,0,0,0,0,0,0,0,0,0,0,0,0,1,0,0,0,0,0,0,0,0,0,0,0,0,0,0,0,0,0,0,0,0,0,0,0,0,0,0,0,0,0,0,0,0,0,0,0,0,0,0,0,0,0,0,0,0,0,0,0,0,0,0,0,0],\"Manpower\":[0,0,0,0,0,0,0,0,0,0,0,0,0,0,0,0,0,0,0,0,0,0,0,0,0,1,0,0,0,0,0,0,0,0,0,0,0,0,0,1,0,0,0,0,0,0,0,0,0,0,0,0,0,0,0,0,0,0,0,0,0,0,0,0,0,0,0,0,0,0,0,0,0,0,0,0,0,0,0,0,1,0,0,0,0,0,0,0,0,0,0,1,0],\"Ministry_1\":[\"NaN\",\"Culture, Community and Youth\",\"Sustainability and the Environment\",\"NaN\",\"Transport\",\"NaN\",\"Trade and Industry\",\"Foreign Affairs\",\"NaN\",\"NaN\",\"NaN\",\"NaN\",\"NaN\",\"NaN\",\"NaN\",\"NaN\",\"NaN\",\"Social & Family Development\",\"Sustainability and the Environment\",\"NaN\",\"NaN\",\"Culture, Community and Youth\",\"Culture, Community and Youth\",\"NaN\",\"Health\",\"Education\",\"NaN\",\"NaN\",\"Sustainability and the Environment\",\"NaN\",\"NaN\",\"Defence\",\"PMO\",\"NaN\",\"PMO\",\"NaN\",\"Communications & Information\",\"NaN\",\"NaN\",\"Manpower\",\"Law\",\"Health\",\"Education\",\"PMO\",\"NaN\",\"NaN\",\"NaN\",\"NaN\",\"NaN\",\"NaN\",\"Culture, Community and Youth\",\"PMO\",\"NaN\",\"Social & Family Development\",\"NaN\",\"NaN\",\"NaN\",\"NaN\",\"Home Affairs\",\"NaN\",\"NaN\",\"Defence\",\"NaN\",\"Transport\",\"NaN\",\"NaN\",\"NaN\",\"NaN\",\"NaN\",\"Health\",\"Communications & Information\",\"NaN\",\"NaN\",\"NaN\",\"Communications & Information\",\"NaN\",\"Education\",\"NaN\",\"NaN\",\"PMO\",\"PMO\",\"NaN\",\"PMO\",\"PMO\",\"NaN\",\"NaN\",\"Foreign Affairs\",\"NaN\",\"NaN\",\"NaN\",\"NaN\",\"Manpower\",\"NaN\"],\"Ministry_2\":[\"NaN\",\"Trade and Industry\",\"Transport\",\"NaN\",\"NaN\",\"NaN\",\"NaN\",\"Transport\",\"NaN\",\"NaN\",\"NaN\",\"NaN\",\"NaN\",\"NaN\",\"NaN\",\"NaN\",\"NaN\",\"National Development\",\"Home Affairs\",\"NaN\",\"NaN\",\"Law\",\"Social & Family Development\",\"NaN\",\"NaN\",\"Manpower\",\"NaN\",\"NaN\",\"NaN\",\"NaN\",\"NaN\",\"NaN\",\"Finance\",\"NaN\",\"National Development\",\"NaN\",\"Health\",\"NaN\",\"NaN\",\"Home Affairs\",\"Home Affairs\",\"NaN\",\"Finance\",\"NaN\",\"NaN\",\"NaN\",\"NaN\",\"NaN\",\"NaN\",\"NaN\",\"Trade and Industry\",\"Education\",\"NaN\",\"Health\",\"NaN\",\"NaN\",\"NaN\",\"NaN\",\"National Development\",\"NaN\",\"NaN\",\"NaN\",\"NaN\",\"NaN\",\"NaN\",\"NaN\",\"NaN\",\"NaN\",\"NaN\",\"NaN\",\"Trade and Industry\",\"NaN\",\"NaN\",\"NaN\",\"National Development\",\"NaN\",\"Social & Family Development\",\"NaN\",\"NaN\",\"National Development\",\"Manpower\",\"NaN\",\"NaN\",\"NaN\",\"NaN\",\"NaN\",\"NaN\",\"NaN\",\"NaN\",\"NaN\",\"NaN\",\"Defence\",\"NaN\"],\"Ministry_3\":[\"NaN\",\"NaN\",\"NaN\",\"NaN\",\"NaN\",\"NaN\",\"NaN\",\"NaN\",\"NaN\",\"NaN\",\"NaN\",\"NaN\",\"NaN\",\"NaN\",\"NaN\",\"NaN\",\"NaN\",\"NaN\",\"NaN\",\"NaN\",\"NaN\",\"NaN\",\"NaN\",\"NaN\",\"NaN\",\"NaN\",\"NaN\",\"NaN\",\"NaN\",\"NaN\",\"NaN\",\"NaN\",\"NaN\",\"NaN\",\"Finance\",\"NaN\",\"NaN\",\"NaN\",\"NaN\",\"NaN\",\"NaN\",\"NaN\",\"NaN\",\"NaN\",\"NaN\",\"NaN\",\"NaN\",\"NaN\",\"NaN\",\"NaN\",\"NaN\",\"Foreign Affairs\",\"NaN\",\"NaN\",\"NaN\",\"NaN\",\"NaN\",\"NaN\",\"NaN\",\"NaN\",\"NaN\",\"NaN\",\"NaN\",\"NaN\",\"NaN\",\"NaN\",\"NaN\",\"NaN\",\"NaN\",\"NaN\",\"NaN\",\"NaN\",\"NaN\",\"NaN\",\"NaN\",\"NaN\",\"NaN\",\"NaN\",\"NaN\",\"NaN\",\"Trade and Industry\",\"NaN\",\"NaN\",\"NaN\",\"NaN\",\"NaN\",\"NaN\",\"NaN\",\"NaN\",\"NaN\",\"NaN\",\"NaN\",\"NaN\"],\"Name\":[\"Alex Yam\",\"Alvin Tan\",\"Amy Khor\",\"Ang Wei Neng\",\"Baey Yam Keng\",\"Carrie Tan\",\"Chan Chun Sing\",\"Chee Hong Tat\",\"Cheng Li Hui\",\"Cheryl Chan\",\"Chong Kee Hiong\",\"Christopher de Souza\",\"Darryl David\",\"Denise Phua\",\"Dennis Tan\",\"Derrick Goh\",\"Desmond Choo\",\"Desmond Lee\",\"Desmond Tan\",\"Don Wee\",\"Edward Chia\",\"Edwin Tong\",\"Eric Chua\",\"Foo Mee Har\",\"Gan Kim Yong\",\"Gan Siow Huang\",\"Gan Thiam Poh\",\"Gerald Giam\",\"Grace Fu\",\"Hany Soh\",\"He Ting Ru\",\"Heng Chee How\",\"Heng Swee Keat\",\"Henry Kwek\",\"Indranee Rajah\",\"Jamus Lim\",\"Janil Puthucheary\",\"Jessica Tan\",\"Joan Pereira\",\"Josephine Teo\",\"K. Shanmugam\",\"Koh Poh Koon\",\"Lawrence Wong\",\"Lee Hsien Loong\",\"Leon Perera\",\"Liang Eng Hwa\",\"Lim Biow Chuan\",\"Lim Wee Kiak\",\"Louis Chua\",\"Louis Ng\",\"Low Yen Ling\",\"Maliki Osman\",\"Mariam Jaafar\",\"Masagos Zulkifli\",\"Melvin Yong\",\"Mohamed Sharael Taha\",\"Mohd Fahmi Aliman\",\"Muhamad Faisal Manap\",\"Muhammad Faishal Ibrahim\",\"Murali Pillai\",\"Nadia Ahmad Samdin\",\"Ng Eng Hen\",\"Ng Ling Ling\",\"Ong Ye Kung\",\"Patrick Tay\",\"Poh Li San\",\"Pritam Singh\",\"Rachel Ong\",\"Raeesah Khan\",\"Rahayu Mahzam\",\"S. Iswaran\",\"Saktiandi Supaat\",\"Seah Kian Peng\",\"Shawn Huang\",\"Sim Ann\",\"Sitoh Yih Pin\",\"Sun Xueling\",\"Sylvia Lim\",\"Tan Chuan-Jin\",\"Tan Kiat How\",\"Tan See Leng\",\"Tan Wu Meng\",\"Teo Chee Hean\",\"Tharman Shanmugaratnam\",\"Tin Pei Ling\",\"Vikram Nair\",\"Vivian Balakrishnan\",\"Wan Rizal\",\"Xie Yao Quan\",\"Yeo Wan Ling\",\"Yip Hon Weng\",\"Zaqy Mohamad\",\"Zhulkarnain Abdul Rahim\"],\"National Development\":[0,0,0,0,0,0,0,0,0,0,0,0,0,0,0,0,0,1,0,0,0,0,0,0,0,0,0,0,0,0,0,0,0,0,1,0,0,0,0,0,0,0,0,0,0,0,0,0,0,0,0,0,0,0,0,0,0,0,1,0,0,0,0,0,0,0,0,0,0,0,0,0,0,0,1,0,0,0,0,1,0,0,0,0,0,0,0,0,0,0,0,0,0],\"PMO\":[0,0,0,0,0,0,0,0,0,0,0,0,0,0,0,0,0,0,0,0,0,0,0,0,0,0,0,0,0,0,0,0,1,0,1,0,0,0,0,0,0,0,0,1,0,0,0,0,0,0,0,1,0,0,0,0,0,0,0,0,0,0,0,0,0,0,0,0,0,0,0,0,0,0,0,0,0,0,0,1,1,0,1,1,0,0,0,0,0,0,0,0,0],\"Parliament\":[14,14,14,14,14,14,14,14,14,14,14,14,14,14,14,14,14,14,14,14,14,14,14,14,14,14,14,14,14,14,14,14,14,14,14,14,14,14,14,14,14,14,14,14,14,14,14,14,14,14,14,14,14,14,14,14,14,14,14,14,14,14,14,14,14,14,14,14,14,14,14,14,14,14,14,14,14,14,14,14,14,14,14,14,14,14,14,14,14,14,14,14,14],\"Party\":[\"People's Action Party\",\"People's Action Party\",\"People's Action Party\",\"People's Action Party\",\"People's Action Party\",\"People's Action Party\",\"People's Action Party\",\"People's Action Party\",\"People's Action Party\",\"People's Action Party\",\"People's Action Party\",\"People's Action Party\",\"People's Action Party\",\"People's Action Party\",\"Workers' Party\",\"People's Action Party\",\"People's Action Party\",\"People's Action Party\",\"People's Action Party\",\"People's Action Party\",\"People's Action Party\",\"People's Action Party\",\"People's Action Party\",\"People's Action Party\",\"People's Action Party\",\"People's Action Party\",\"People's Action Party\",\"Workers' Party\",\"People's Action Party\",\"People's Action Party\",\"Workers' Party\",\"People's Action Party\",\"People's Action Party\",\"People's Action Party\",\"People's Action Party\",\"Workers' Party\",\"People's Action Party\",\"People's Action Party\",\"People's Action Party\",\"People's Action Party\",\"People's Action Party\",\"People's Action Party\",\"People's Action Party\",\"People's Action Party\",\"Workers' Party\",\"People's Action Party\",\"People's Action Party\",\"People's Action Party\",\"Workers' Party\",\"People's Action Party\",\"People's Action Party\",\"People's Action Party\",\"People's Action Party\",\"People's Action Party\",\"People's Action Party\",\"People's Action Party\",\"People's Action Party\",\"Workers' Party\",\"People's Action Party\",\"People's Action Party\",\"People's Action Party\",\"People's Action Party\",\"People's Action Party\",\"People's Action Party\",\"People's Action Party\",\"People's Action Party\",\"Workers' Party\",\"People's Action Party\",\"Workers' Party\",\"People's Action Party\",\"People's Action Party\",\"People's Action Party\",\"People's Action Party\",\"People's Action Party\",\"People's Action Party\",\"People's Action Party\",\"People's Action Party\",\"Workers' Party\",\"People's Action Party\",\"People's Action Party\",\"People's Action Party\",\"People's Action Party\",\"People's Action Party\",\"People's Action Party\",\"People's Action Party\",\"People's Action Party\",\"People's Action Party\",\"People's Action Party\",\"People's Action Party\",\"People's Action Party\",\"People's Action Party\",\"People's Action Party\",\"People's Action Party\"],\"Previous/Current_Role\":[\"Senior Management\",\"Senior Management\",\"Senior Management\",\"CEO\",\"Senior Management\",\"CEO\",\"Brigadier-General.\",\"Senior Management\",\"CEO\",\"Senior Management\",\"CEO\",\"Partner\",\"Senior Management\",\"CEO\",\"Partner\",\"Senior Management\",\"Senior Management\",\"Senior Management\",\"Brigadier-General.\",\"Senior Management\",\"CEO\",\"Partner\",\"Colonel\",\"Senior Management\",\"CEO\",\"Brigadier-General.\",\"Senior Management\",\"CTO\",\"Senior Management\",\"Director\",\"Senior Management\",\"Senior Management\",\"Director\",\"Director\",\"Director\",\"Economist\",\"Paediatrician\",\"Senior Management\",\"Senior Management\",\"Senior Management\",\"Partner, Senior Counsel\",\"Colorectal Surgeon\",\"Senior Management\",\"Senior Management\",\"CEO\",\"Senior Management\",\"Partner\",\"Opthalmologist\",\"Equity Research Analyst\",\"Founder\",\"Senior Management\",\"Assistant Professor\",\"Senior Management\",\"CEO\",\"Assistant Commissioner of Police\",\"Senior Management\",\"Colonel\",\"NaN\",\"Assistant Professor\",\"Partner\",\"Partner\",\"Colorectal Surgeon\",\"Senior Management\",\"Senior Management\",\"Senior Management\",\"Senior Management\",\"NaN\",\"CEO\",\"CEO\",\"Partner\",\"Senior Management\",\"Senior Management\",\"CEO\",\"Lieutenant-Colonel\",\"Senior Management\",\"Founder\",\"Senior Management\",\"Professor\",\"Brigadier-General.\",\"CEO\",\"CEO\",\"Oncologist\",\"Chief of Navy\",\"Director\",\"Senior Associate\",\"Partner\",\"Opthalmologist\",\"Senior Lecturer\",\"Senior Management\",\"CEO\",\"Senior Management\",\"Senior Management\",\"Partner\"],\"Previous_Employer\":[\"NTUC\",\"LinkedIn\",\"Knight Frank\",\"SBS Transit\",\"NaN\",\"Daughters of Tomorrow\",\"SAF\",\"NaN\",\"Hai Leck Holdings\",\"Linde plc (Gas & Engineering).\",\"Suntec Real Estate Investment Trust\",\"Lee & Lee\",\"Temasek Polytechnic\",\"Autism Resource Centre\",\"DennisMathiew\",\"DBS\",\"NTUC\",\"NTUC\",\"SAF\",\"DBS\",\"Timbr\",\"Allen & Gledhill LLP\",\"SCDF\",\"Standard Chartered\",\"NatSteel\",\"SAF\",\"DBS\",\"-\",\"PSA Corporation\",\"MSC Law Corporation\",\"-\",\"NTUC\",\"Monetary Authority of Singapore\",\"Foodtraco Supplies\",\"Drew & Napier\",\"Thirdrock\",\"KK Women's and Children's Hospital\",\"Microsoft\",\"Temasek Cares\",\"NTUC\",\"Allen & Gledhill LLP,  Supreme Court\",\"Mount Elizabeth Medical Centre, Singapore General Hospital\",\"NaN\",\"NaN\",\"Spire Research and Consulting Group\",\"DBS\",\"Derrick Wong & Lim BC LLP\",\"Eagle Eye Centre\",\"-\",\"ACRES\",\"EDB\",\"National University of Singapore\",\"Boston Consulting Group\",\"SingTel Global Offices\",\"SPF\",\"Singapore Aero Engine Services (Rolls-Royce Centre of Excellence in the Asia-Pacific)\",\"SAF\",\"-\",\"National University of Singapore\",\"Rajah & Tann Singapore LLP\",\"TSMP Law Corporation\",\"Mount Elizabeth Hospital\",\"Ministry of Health\",\"NTUC\",\"NTUC\",\"Changi Airport Group\",\"Donaldson & Burkinshaw,\",\"ROHEI\",\"Reyna Movement\",\"Heng, Leong & Srinivasan\",\"Temasek Holdings\",\"Maybank\",\"NTUC Enterprise\",\"SAF\",\"International Enterprise Singapore\",\"Nexia TS Public Accounting\",\"Temasek International,\",\"Temasek Polytechnic\",\"SAF\",\"IMDA\",\"Healthway Medical Group\",\"Singapore General Hospital\",\"SAF\",\"Monetary Authority of Singapore\",\"Ernst & Young\",\"Rajah & Tann\",\"National University Hospital\",\"Republic Polytechnic\",\"Alexandra Hospital\",\"Caregiver Asia\",\"Ministry of Health\",\"Solutions Avanade\",\"Dentons Rodyk and Davidson\"],\"Previous_Occupation\":[\"Public Service (Labour)\",\"Other(HR/Management)\",\"Infrastructure (Transport/Telecomms/Real Estate)\",\"Infrastructure (Transport/Telecomms/Real Estate)\",\"Public Service (Multiple Stat Boards)\",\"Social Enterprise/Charity\",\"SAF/SPF/SCDF\",\"Public Service (Multiple Stat Boards)\",\"IT/Engineering\",\"IT/Engineering\",\"Infrastructure (Transport/Telecomms/Real Estate)\",\"Law\",\"Education\",\"Social Enterprise/Charity\",\"Law\",\"Finance\",\"Public Service (Labour)\",\"Law\",\"Public Service (Social/Healthcare)\",\"Finance\",\"Entrepreneur\",\"Law\",\"SAF/SPF/SCDF\",\"Finance\",\"IT/Engineering\",\"SAF/SPF/SCDF\",\"Finance\",\"Entrepreneur\",\"Infrastructure (Transport/Telecomms/Real Estate)\",\"Law\",\"Law\",\"Public Service (Labour)\",\"Public Service (Finance)\",\"Biz Dev\",\"Law\",\"Education\",\"Education\",\"Other(HR/Management)\",\"Public Service (Social/Healthcare)\",\"Public Service (Labour)\",\"Law\",\"Education\",\"Public Service (Multiple Stat Boards)\",\"Public Service (Multiple Stat Boards)\",\"Biz Dev\",\"Finance\",\"Law\",\"Specialist - Healthcare\",\"Finance\",\"Social Enterprise/Charity\",\"Public Service / Govt-linked (Biz Dev)\",\"Education\",\"Other(HR/Management)\",\"Infrastructure (Transport/Telecomms/Real Estate)\",\"SAF/SPF/SCDF\",\"IT/Engineering\",\"SAF/SPF/SCDF\",\"Law\",\"Education\",\"Law\",\"Law\",\"Specialist - Healthcare\",\"Public Service (Social/Healthcare)\",\"Public Service (Labour)\",\"Public Service (Labour)\",\"Infrastructure (Transport/Telecomms/Real Estate)\",\"Law\",\"Social Enterprise/Charity\",\"Social Enterprise/Charity\",\"Law\",\"Public Service / Govt-linked (Biz Dev)\",\"Finance\",\"Public Service (Labour)\",\"SAF/SPF/SCDF\",\"Public Service (Multiple Stat Boards)\",\"Entrepreneur\",\"Public Service / Govt-linked (Biz Dev)\",\"Education\",\"SAF/SPF/SCDF\",\"Public Service (Social/Healthcare)\",\"Public Service (Social/Healthcare)\",\"Specialist - Healthcare\",\"SAF/SPF/SCDF\",\"Public Service (Finance)\",\"Biz Dev\",\"Law\",\"Specialist - Healthcare\",\"Education\",\"Public Service (Social/Healthcare)\",\"Social Enterprise/Charity\",\"Public Service (Multiple Stat Boards)\",\"Biz Dev\",\"Law\"],\"Social & Family Development\":[0,0,0,0,0,0,0,0,0,0,0,0,0,0,0,0,0,1,0,0,0,0,1,0,0,0,0,0,0,0,0,0,0,0,0,0,0,0,0,0,0,0,0,0,0,0,0,0,0,0,0,0,0,1,0,0,0,0,0,0,0,0,0,0,0,0,0,0,0,0,0,0,0,0,0,0,1,0,0,0,0,0,0,0,0,0,0,0,0,0,0,0,0],\"Sustainability and the Environment\":[0,0,1,0,0,0,0,0,0,0,0,0,0,0,0,0,0,0,1,0,0,0,0,0,0,0,0,0,1,0,0,0,0,0,0,0,0,0,0,0,0,0,0,0,0,0,0,0,0,0,0,0,0,0,0,0,0,0,0,0,0,0,0,0,0,0,0,0,0,0,0,0,0,0,0,0,0,0,0,0,0,0,0,0,0,0,0,0,0,0,0,0,0],\"Title\":[\"MP\",\"MP\",\"MP\",\"MP\",\"MP\",\"MP\",\"MP\",\"MP\",\"MP\",\"MP\",\"MP\",\"MP\",\"MP\",\"MP\",\"MP\",\"MP\",\"MP\",\"MP\",\"MP\",\"MP\",\"MP\",\"MP\",\"MP\",\"MP\",\"MP\",\"MP\",\"MP\",\"MP\",\"MP\",\"MP\",\"MP\",\"MP\",\"MP\",\"MP\",\"MP\",\"MP\",\"MP\",\"MP\",\"MP\",\"MP\",\"MP\",\"MP\",\"MP\",\"MP\",\"MP\",\"MP\",\"MP\",\"MP\",\"MP\",\"MP\",\"MP\",\"MP\",\"MP\",\"MP\",\"MP\",\"MP\",\"MP\",\"MP\",\"MP\",\"MP\",\"MP\",\"MP\",\"MP\",\"MP\",\"MP\",\"MP\",\"MP\",\"MP\",\"MP\",\"MP\",\"MP\",\"MP\",\"MP\",\"MP\",\"MP\",\"MP\",\"MP\",\"MP\",\"MP\",\"MP\",\"MP\",\"MP\",\"MP\",\"MP\",\"MP\",\"MP\",\"MP\",\"MP\",\"MP\",\"MP\",\"MP\",\"MP\",\"MP\"],\"Title_1\":[\"Member of Parliament\",\"Minister of State\",\"Senior Minister of State\",\"Member of Parliament\",\"Senior Parliamentary Secretary\",\"Member of Parliament\",\"Member of Parliament\",\"Senior Minister of State\",\"Member of Parliament\",\"Member of Parliament\",\"Member of Parliament\",\"Member of Parliament\",\"Member of Parliament\",\"Member of Parliament\",\"Member of Parliament\",\"Member of Parliament\",\"Member of Parliament\",\"Minister\",\"Minister of State\",\"Member of Parliament\",\"Member of Parliament\",\"Minister\",\"Parliamentary Secretaries\",\"Member of Parliament\",\"Minister\",\"Minister of State\",\"Member of Parliament\",\"Member of Parliament\",\"Member of Parliament\",\"Member of Parliament\",\"Member of Parliament\",\"Senior Minister of State\",\"Senior Minister\",\"Member of Parliament\",\"Minister\",\"Member of Parliament\",\"Senior Minister of State\",\"Member of Parliament\",\"Member of Parliament\",\"Minister\",\"Minister\",\"Senior Minister of State\",\"Minister\",\"Prime Minister\",\"Member of Parliament\",\"Member of Parliament\",\"Member of Parliament\",\"Member of Parliament\",\"Member of Parliament\",\"Member of Parliament\",\"Minister of State\",\"Minister\",\"Member of Parliament\",\"Minister\",\"Member of Parliament\",\"Member of Parliament\",\"Member of Parliament\",\"Member of Parliament\",\"Minister of State\",\"Member of Parliament\",\"Member of Parliament\",\"Minister\",\"Member of Parliament\",\"Minister\",\"Member of Parliament\",\"Member of Parliament\",\"Member of Parliament\",\"Member of Parliament\",\"Member of Parliament\",\"Parliamentary Secretaries\",\"Minister\",\"Member of Parliament\",\"Member of Parliament\",\"Member of Parliament\",\"Senior Minister of State\",\"Member of Parliament\",\"Minister of State\",\"Member of Parliament\",\"Member of Parliament\",\"Minister of State\",\"Minister\",\"Member of Parliament\",\"Senior Minister\",\"Senior Minister\",\"Member of Parliament\",\"Member of Parliament\",\"Minister\",\"Member of Parliament\",\"Member of Parliament\",\"Member of Parliament\",\"Member of Parliament\",\"Senior Minister of State\",\"Member of Parliament\"],\"Title_2\":[\"Member of Parliament\",\"Minister of State\",\"Senior Minister of State\",\"Member of Parliament\",\"Parliamentary Secretaries\",\"Member of Parliament\",\"Member of Parliament\",\"Senior Minister of State\",\"Member of Parliament\",\"Member of Parliament\",\"Member of Parliament\",\"Member of Parliament\",\"Member of Parliament\",\"Member of Parliament\",\"Member of Parliament\",\"Member of Parliament\",\"Member of Parliament\",\"Minister\",\"Minister of State\",\"Member of Parliament\",\"Member of Parliament\",\"Minister\",\"Parliamentary Secretaries\",\"Member of Parliament\",\"Minister\",\"Minister of State\",\"Member of Parliament\",\"Member of Parliament\",\"Member of Parliament\",\"Member of Parliament\",\"Member of Parliament\",\"Senior Minister of State\",\"Senior Minister\",\"Member of Parliament\",\"Minister\",\"Member of Parliament\",\"Senior Minister of State\",\"Member of Parliament\",\"Member of Parliament\",\"Minister\",\"Minister\",\"Senior Minister of State\",\"Minister\",\"Prime Minister\",\"Member of Parliament\",\"Member of Parliament\",\"Member of Parliament\",\"Member of Parliament\",\"Member of Parliament\",\"Member of Parliament\",\"Minister of State\",\"Minister\",\"Member of Parliament\",\"Minister\",\"Member of Parliament\",\"Member of Parliament\",\"Member of Parliament\",\"Member of Parliament\",\"Minister of State\",\"Member of Parliament\",\"Member of Parliament\",\"Minister\",\"Member of Parliament\",\"Minister\",\"Member of Parliament\",\"Member of Parliament\",\"Member of Parliament\",\"Member of Parliament\",\"Member of Parliament\",\"Parliamentary Secretaries\",\"Minister\",\"Member of Parliament\",\"Member of Parliament\",\"Member of Parliament\",\"Senior Minister of State\",\"Member of Parliament\",\"Minister of State\",\"Member of Parliament\",\"Member of Parliament\",\"Minister of State\",\"Minister\",\"Member of Parliament\",\"Senior Minister\",\"Senior Minister\",\"Member of Parliament\",\"Member of Parliament\",\"Minister\",\"Member of Parliament\",\"Member of Parliament\",\"Member of Parliament\",\"Member of Parliament\",\"Senior Minister of State\",\"Member of Parliament\"],\"Title_3\":[\"NaN\",\"NaN\",\"NaN\",\"NaN\",\"NaN\",\"NaN\",\"NaN\",\"NaN\",\"NaN\",\"NaN\",\"NaN\",\"NaN\",\"NaN\",\"NaN\",\"NaN\",\"NaN\",\"NaN\",\"NaN\",\"NaN\",\"NaN\",\"NaN\",\"NaN\",\"NaN\",\"NaN\",\"NaN\",\"NaN\",\"NaN\",\"NaN\",\"NaN\",\"NaN\",\"NaN\",\"NaN\",\"NaN\",\"NaN\",\"Second Minister\",\"NaN\",\"NaN\",\"NaN\",\"NaN\",\"NaN\",\"NaN\",\"NaN\",\"NaN\",\"NaN\",\"NaN\",\"NaN\",\"NaN\",\"NaN\",\"NaN\",\"NaN\",\"NaN\",\"Second Minister\",\"NaN\",\"NaN\",\"NaN\",\"NaN\",\"NaN\",\"NaN\",\"NaN\",\"NaN\",\"NaN\",\"NaN\",\"NaN\",\"NaN\",\"NaN\",\"NaN\",\"NaN\",\"NaN\",\"NaN\",\"NaN\",\"NaN\",\"NaN\",\"NaN\",\"NaN\",\"NaN\",\"NaN\",\"NaN\",\"NaN\",\"NaN\",\"NaN\",\"Second Minister\",\"NaN\",\"NaN\",\"NaN\",\"NaN\",\"NaN\",\"NaN\",\"NaN\",\"NaN\",\"NaN\",\"NaN\",\"NaN\",\"NaN\"],\"Trade and Industry\":[0,1,0,0,0,0,1,0,0,0,0,0,0,0,0,0,0,0,0,0,0,0,0,0,0,0,0,0,0,0,0,0,0,0,0,0,0,0,0,0,0,0,0,0,0,0,0,0,0,0,1,0,0,0,0,0,0,0,0,0,0,0,0,0,0,0,0,0,0,0,1,0,0,0,0,0,0,0,0,0,1,0,0,0,0,0,0,0,0,0,0,0,0],\"Transport\":[0,0,1,0,1,0,0,1,0,0,0,0,0,0,0,0,0,0,0,0,0,0,0,0,0,0,0,0,0,0,0,0,0,0,0,0,0,0,0,0,0,0,0,0,0,0,0,0,0,0,0,0,0,0,0,0,0,0,0,0,0,0,0,1,0,0,0,0,0,0,0,0,0,0,0,0,0,0,0,0,0,0,0,0,0,0,0,0,0,0,0,0,0],\"Type\":[\"GRC\",\"GRC\",\"SMC\",\"GRC\",\"GRC\",\"GRC\",\"GRC\",\"NaN\",\"GRC\",\"GRC\",\"GRC\",\"GRC\",\"GRC\",\"GRC\",\"SMC\",\"GRC\",\"GRC\",\"GRC\",\"GRC\",\"GRC\",\"GRC\",\"GRC\",\"GRC\",\"GRC\",\"GRC\",\"SMC\",\"GRC\",\"GRC\",\"SMC\",\"GRC\",\"GRC\",\"GRC\",\"GRC\",\"SMC\",\"GRC\",\"GRC\",\"GRC\",\"GRC\",\"GRC\",\"GRC\",\"GRC\",\"GRC\",\"GRC\",\"GRC\",\"GRC\",\"SMC\",\"SMC\",\"GRC\",\"GRC\",\"GRC\",\"GRC\",\"GRC\",\"GRC\",\"GRC\",\"SMC\",\"GRC\",\"GRC\",\"GRC\",\"GRC\",\"SMC\",\"GRC\",\"GRC\",\"GRC\",\"GRC\",\"SMC\",\"GRC\",\"GRC\",\"GRC\",\"GRC\",\"GRC\",\"GRC\",\"GRC\",\"GRC\",\"GRC\",\"GRC\",\"SMC\",\"SMC\",\"GRC\",\"GRC\",\"GRC\",\"GRC\",\"GRC\",\"GRC\",\"GRC\",\"SMC\",\"GRC\",\"GRC\",\"GRC\",\"GRC\",\"GRC\",\"SMC\",\"GRC\",\"GRC\"],\"Type.1\":[\"Backbencher\",\"Cabinet\",\"Cabinet\",\"Backbencher\",\"Cabinet\",\"Backbencher\",\"Cabinet\",\"Cabinet\",\"Backbencher\",\"Backbencher\",\"Backbencher\",\"Backbencher\",\"Backbencher\",\"Backbencher\",\"Opposition\",\"Backbencher\",\"Backbencher\",\"Cabinet\",\"Cabinet\",\"Backbencher\",\"Backbencher\",\"Cabinet\",\"Cabinet\",\"Backbencher\",\"Cabinet\",\"Cabinet\",\"Backbencher\",\"Opposition\",\"Cabinet\",\"Backbencher\",\"Opposition\",\"Cabinet\",\"Cabinet\",\"Backbencher\",\"Cabinet\",\"Opposition\",\"Cabinet\",\"Backbencher\",\"Backbencher\",\"Cabinet\",\"Cabinet\",\"Cabinet\",\"Cabinet\",\"Cabinet\",\"Opposition\",\"Backbencher\",\"Backbencher\",\"Backbencher\",\"Opposition\",\"Backbencher\",\"Cabinet\",\"Cabinet\",\"Backbencher\",\"Cabinet\",\"Backbencher\",\"Backbencher\",\"Backbencher\",\"Opposition\",\"Cabinet\",\"Backbencher\",\"Backbencher\",\"Cabinet\",\"Backbencher\",\"Cabinet\",\"Backbencher\",\"Backbencher\",\"Opposition\",\"Backbencher\",\"Opposition\",\"Cabinet\",\"Cabinet\",\"Backbencher\",\"Backbencher\",\"Backbencher\",\"Cabinet\",\"Backbencher\",\"Cabinet\",\"Opposition\",\"Backbencher\",\"Cabinet\",\"Cabinet\",\"Backbencher\",\"Cabinet\",\"Cabinet\",\"Backbencher\",\"Backbencher\",\"Cabinet\",\"Backbencher\",\"Backbencher\",\"Backbencher\",\"Backbencher\",\"Cabinet\",\"Backbencher\"],\"Ward\":[\"Yew Tee\",\"Moulmein-Cairnhill\",\"HONG KAH NORTH SMC\",\"Nanyang\",\"Tampines North\",\"Nee Soon South\",\"Buona Vista\",\"Toa Payoh West-Thomson\",\"Tampines East\",\"Fengshan\",\"Bishan East-Sin Ming\",\"Ulu Pandan\",\"Ang Mo Kio-Hougang\",\"Kampong Glam\",\"HOUGANG SMC\",\"Nee Soon Link\",\"Tampines Changkat\",\"Boon Lay\",\"Pasir Ris Central\",\"Brickland\",\"Zhenghua\",\"Joo Chiat\",\"Queenstown\",\"Ayer Rajah-Gek Poh\",\"Chua Chu Kang\",\"MARYMOUNT SMC\",\"Fernvale\",\"Bedok Reservoir-Punggol\",\"YUHUA SMC\",\"Woodgrove\",\"Buangkok\",\"Whampoa\",\"Bedok\",\"KEBUN BARU SMC\",\"Tanjong Pagar-Tiong Bahru\",\"Anchorvale\",\"Punggol Coast\",\"Changi Simei\",\"Henderson Dawson\",\"Kreta Ayer-Kim Seng\",\"Chong Pang\",\"Tampines Central\",\"Limbang\",\"Teck Ghee\",\"Serangoon\",\"BUKIT PANJANG SMC\",\"MOUNTBATTEN SMC\",\"Canberra\",\"Rivervale\",\"Nee Soon East\",\"Bukit Gombak\",\"Siglap\",\"Woodlands\",\"Tampines West\",\"RADIN MAS SMC\",\"Pasir Ris East\",\"Geylang Serai\",\"Kaki Bukit\",\"Nee Soon Central\",\"BUKIT BATOK SMC\",\"Cheng San-Seletar\",\"Toa Payoh Central\",\"Jalan Kayu\",\"Sembawang Central\",\"PIONEER SMC\",\"Sembawang West\",\"Eunos\",\"Telok Blangah\",\"Compassvale\",\"Bukit Batok East\",\"West Coast\",\"Toa Payoh East\",\"Braddell Heights\",\"Jurong Spring\",\"Bukit Timah\",\"POTONG PASIR SMC\",\"PUNGGOL WEST SMC\",\"Paya Lebar\",\"Kembangan-Chai Chee\",\"Kampong Chai Chee\",\"Marine Parade\",\"Clementi\",\"Pasir Ris West\",\"Taman Jurong\",\"MACPHERSON SMC\",\"Admiralty\",\"Cashew\",\"Kolam Ayer\",\"Jurong Central\",\"Punggol North\",\"YIO CHU KANG SMC\",\"Marsiling\",\"Keat Hong\"],\"X\":{\"__ndarray__\":\"3HIfPq9Rxr+QtypA2XqQvmFZ5L9rrD8/wVVfvyjgyL8j2yQ9NdskPUghAr4ZJsE/JYhkvw+K1j+I240+2FlavYzcRL7aBJw/EgrevzmNeb5KPGe/X4iYP9W4ub/0DIE/b/J1P05IWb9IlgA/MqAKPvPz2z/SXKE/dYCWPxLW0r14noS+DV/hvu/pAkDNnb++Xrlmv/t+7z+hjgpAV5wPQPik4j+5V4m/77vLv5SmAMAuxNS/lPAzP5oMmT+0bCk/Rj5OvtPNnr5a8w+/ccIgPqfzTD/82AI/XaSGv7l9Br/SILy/PhqsPwR+Tzwk09o/juaxP7HmhD9tpck+yCy8vz7PC7/z95Y9U3CHP1prJz88eYc/fb72P6RKyz/Yw6W/BhJTPzJVk78GOhRAhW3oPmFr175a3vA/BpgTv3X/zL/wutq/A0IhvtgmyL849Js/XmBzPwovsj8aJas/w+IDv/0+fr9DWNo+ul8Rv2mcsL2/EjU/\",\"dtype\":\"float32\",\"shape\":[93]},\"X1\":{\"__ndarray__\":\"WuT1vToKzT9XAtc//gfpvvTMt7+fLTBAf6TfvmMUwL/tWjRA7Vo0QI5pir9SDau+TrYcwFZ21z9apT+/iWx+P04blL5u+Zy+jwjzPgodfj+xcas/hVmEvixh8D5fL7U/ffLuv3L0A0BfMPQ+Ii02vrVLrz9fEsg/kAm/P5eM0L57GH++zx2Jv/Pdyz5TAnw/dBYewMtNCkCcTT5AR2gGQOB1Gb+RmPa/ABOmvy9ivb+or28+HawIP4t1eT1RO86/UPyDPyrCir/e9jBA1ybwv6HZTkDwxQk/1vYqv4LJCT+yZcu9yym/vp4p5r9newa/MYa2P2xY/b+HKRFAuV+8v78yAr/YqwlAYVI4v3glNkCUSldADnyXPyCYMMCaLAjAcPLZPZNj1T7n4Pc/2YiNPlHALUDa4vo/qVujvt6Eiz/pwZI/85C+v7AMm75UkRrAJzkyQG5OBb9zrhzAPlbJvwOqiz8GUydA+2RsP9sKnL+nDRQ/\",\"dtype\":\"float32\",\"shape\":[93]},\"Y\":{\"__ndarray__\":\"hVuFPlGb279vGhi+ySPbPp9WuD/YzAvA62bBPhhSuj90bCXAdGwlwLK9gj7wxf8+lRO3P+wHib+siC0/Hfdxv9cR0j6KaIg/D/edv4bTgr+lnJu/qKyRPy6PVL9ljIS/Wo4KQFQHEsBD2L++mxV7vdT7Vr9PGwPAMXn5vwE3pz80OYs/maqQvjNM2j9g8oq/qtb6P0jGpL/w6f6/g52Hvxzu0T+w+No/gWK0P65Ptz/xZeO+ae7DvtU4Fj6eppO80I6GvztMwr7snT7AnMEnQD0zLMBRrQlAUc6tPuwq2L/tboa+MQ0nPyQxJ0DNfmM/TQMSwKpOC0C6Pfy/53SxP7rnET+d/AfAZt1WPxY3EcDJhSjAIUQawHK3E0CMloE+m5jOPPPBK78iQIW+tChdvo0LO8AE0Ji/OgO7PnJ7wr+xCJ2/xkk7vt4oyD7ekx9A4sXDvzgwUT+HMBJAlxihv+wgmr/qVhLALx6Ov6CR/j/K8Ky/\",\"dtype\":\"float32\",\"shape\":[93]},\"Y1\":{\"__ndarray__\":\"RxiMP5CnF0DyafA8yr7FP3G/GkAKg4M/uQwLQGd8DkB8Vi2+fFYtvk+alz+kMou/czG3P2SPSb5jgLY9FlO4Pzl0qD/uLAa/3NgpQDSawz9tNyNA0JfbvnKgDEBVWik/OAkmPihVkz/xQ04/SA0XPypteL54H6y/Eyanv5uClD9uSas/vRsTP5dH/r+Dus8/sD+gPxmZ7r642nS/RIj4vqFv0L/7V7k/2jkWQA0gLUCJsFtAO94VP+1B0L7K0AU/O3fFP5OgRD9yKuw/Qe2hv6ZMAT9pLbu+yxQUQOU8vL+ZaDtAATmGvxfpoL+UCsy/o7XOv74irD6yI9E/IAb+P5Ox4T8UonA/xLFiv4ZLjz8mBjY/vdnkv7UzJr6WUPo/T/rZPoR7HUBaTkY/uTZHP2dGnz2aOSm/QL3wPzADD0CJ+iJAJRQ9P4DnHkD8i3u+UZ3qP7MRjr+ut6A9+rGUv9gxK0CXuzo/OC3xP38S6b7qRcO/\",\"dtype\":\"float32\",\"shape\":[93]},\"Years_In_Politics\":[9,0,19,9,14,0,9,5,5,5,5,14,5,14,5,0,9,9,0,0,0,9,0,9,19,0,9,9,14,0,0,19,9,5,19,0,9,14,5,14,32,5,9,36,0,14,14,14,0,5,9,19,0,14,5,0,0,9,14,4,0,19,0,5,9,0,9,0,0,5,23,5,14,0,9,9,5,14,9,0,0,5,28,19,9,9,19,0,0,0,0,14,0],\"code\":[\"0000000000000000\",\"0000000101000000\",\"0001100000000000\",\"0000000000000000\",\"0001000000000000\",\"0000000000000000\",\"0000000001000000\",\"0101000000000000\",\"0000000000000000\",\"0000000000000000\",\"0000000000000000\",\"0000000000000000\",\"0000000000000000\",\"0000000000000000\",\"0000000000000000\",\"0000000000000000\",\"0000000000000000\",\"0000010000000010\",\"0000100000000001\",\"0000000000000000\",\"0000000000000000\",\"0000000100000100\",\"0000010100000000\",\"0000000000000000\",\"0010000000000000\",\"0000000010100000\",\"0000000000000000\",\"0000000000000000\",\"0000100000000000\",\"0000000000000000\",\"0000000000000000\",\"1000000000000000\",\"0000000000011000\",\"0000000000000000\",\"0000000000011010\",\"0000000000000000\",\"0010001000000000\",\"0000000000000000\",\"0000000000000000\",\"0000000000100001\",\"0000000000000101\",\"0010000000000000\",\"0000000010010000\",\"0000000000001000\",\"0000000000000000\",\"0000000000000000\",\"0000000000000000\",\"0000000000000000\",\"0000000000000000\",\"0000000000000000\",\"0000000101000000\",\"0100000010001000\",\"0000000000000000\",\"0010010000000000\",\"0000000000000000\",\"0000000000000000\",\"0000000000000000\",\"0000000000000000\",\"0000000000000011\",\"0000000000000000\",\"0000000000000000\",\"1000000000000000\",\"0000000000000000\",\"0001000000000000\",\"0000000000000000\",\"0000000000000000\",\"0000000000000000\",\"0000000000000000\",\"0000000000000000\",\"0010000000000000\",\"0000001001000000\",\"0000000000000000\",\"0000000000000000\",\"0000000000000000\",\"0000001000000010\",\"0000000000000000\",\"0000010010000000\",\"0000000000000000\",\"0000000000000000\",\"0000000000001010\",\"0000000001101000\",\"0000000000000000\",\"0000000000001000\",\"0000000000001000\",\"0000000000000000\",\"0000000000000000\",\"0100000000000000\",\"0000000000000000\",\"0000000000000000\",\"0000000000000000\",\"0000000000000000\",\"1000000000100000\",\"0000000000000000\"],\"color\":[\"rgb(199,21,133)\",\"rgb(128,0,128)\",\"rgb(255,69,0)\",\"rgb(255,69,0)\",\"rgb(255,215,0)\",\"rgb(0,100,0)\",\"rgb(50,205,50)\",\"rgb(255,215,0)\",\"rgb(139,0,0)\",\"rgb(139,0,0)\",\"rgb(255,69,0)\",\"rgb(0,128,128)\",\"rgb(255,228,225)\",\"rgb(0,100,0)\",\"rgb(0,128,128)\",\"rgb(47,79,79)\",\"rgb(199,21,133)\",\"rgb(0,128,128)\",\"rgb(0,0,255)\",\"rgb(47,79,79)\",\"rgb(0,0,0)\",\"rgb(0,128,128)\",\"rgb(50,205,50)\",\"rgb(47,79,79)\",\"rgb(139,0,0)\",\"rgb(50,205,50)\",\"rgb(47,79,79)\",\"rgb(0,0,0)\",\"rgb(255,69,0)\",\"rgb(0,128,128)\",\"rgb(0,128,128)\",\"rgb(199,21,133)\",\"rgb(255, 105, 180)\",\"rgb(255,0,0)\",\"rgb(0,128,128)\",\"rgb(255,228,225)\",\"rgb(255,228,225)\",\"rgb(128,0,128)\",\"rgb(0,0,255)\",\"rgb(199,21,133)\",\"rgb(0,128,128)\",\"rgb(255,228,225)\",\"rgb(255,215,0)\",\"rgb(255,215,0)\",\"rgb(255,0,0)\",\"rgb(47,79,79)\",\"rgb(0,128,128)\",\"rgb(0,255,0)\",\"rgb(47,79,79)\",\"rgb(0,100,0)\",\"rgb(188,143,143)\",\"rgb(255,228,225)\",\"rgb(128,0,128)\",\"rgb(255,69,0)\",\"rgb(50,205,50)\",\"rgb(139,0,0)\",\"rgb(50,205,50)\",\"rgb(0,128,128)\",\"rgb(255,228,225)\",\"rgb(0,128,128)\",\"rgb(0,128,128)\",\"rgb(0,255,0)\",\"rgb(0,0,255)\",\"rgb(199,21,133)\",\"rgb(199,21,133)\",\"rgb(255,69,0)\",\"rgb(0,128,128)\",\"rgb(0,100,0)\",\"rgb(0,100,0)\",\"rgb(0,128,128)\",\"rgb(188,143,143)\",\"rgb(47,79,79)\",\"rgb(199,21,133)\",\"rgb(50,205,50)\",\"rgb(255,215,0)\",\"rgb(0,0,0)\",\"rgb(188,143,143)\",\"rgb(255,228,225)\",\"rgb(50,205,50)\",\"rgb(0,0,255)\",\"rgb(0,0,255)\",\"rgb(0,255,0)\",\"rgb(50,205,50)\",\"rgb(255, 105, 180)\",\"rgb(255,0,0)\",\"rgb(0,128,128)\",\"rgb(0,255,0)\",\"rgb(255,228,225)\",\"rgb(0,0,255)\",\"rgb(0,100,0)\",\"rgb(255,215,0)\",\"rgb(255,0,0)\",\"rgb(0,128,128)\"],\"color1\":[\"rgb(199,21,133)\",\"rgb(199,21,133)\",\"rgb(199,21,133)\",\"rgb(139,0,0)\",\"rgb(139,0,0)\",\"rgb(139,0,0)\",\"rgb(139,0,0)\",\"rgb(139,0,0)\",\"rgb(199,21,133)\",\"rgb(199,21,133)\",\"rgb(199,21,133)\",\"rgb(139,0,0)\",\"rgb(199,21,133)\",\"rgb(199,21,133)\",\"rgb(139,0,0)\",\"rgb(199,21,133)\",\"rgb(139,0,0)\",\"rgb(139,0,0)\",\"rgb(199,21,133)\",\"rgb(199,21,133)\",\"rgb(139,0,0)\",\"rgb(139,0,0)\",\"rgb(199,21,133)\",\"rgb(139,0,0)\",\"rgb(199,21,133)\",\"rgb(139,0,0)\",\"rgb(199,21,133)\",\"rgb(199,21,133)\",\"rgb(139,0,0)\",\"rgb(199,21,133)\",\"rgb(199,21,133)\",\"rgb(139,0,0)\",\"rgb(139,0,0)\",\"rgb(199,21,133)\",\"rgb(139,0,0)\",\"rgb(139,0,0)\",\"rgb(139,0,0)\",\"rgb(139,0,0)\",\"rgb(199,21,133)\",\"rgb(139,0,0)\",\"rgb(139,0,0)\",\"rgb(139,0,0)\",\"rgb(139,0,0)\",\"rgb(139,0,0)\",\"rgb(199,21,133)\",\"rgb(199,21,133)\",\"rgb(199,21,133)\",\"rgb(139,0,0)\",\"rgb(139,0,0)\",\"rgb(199,21,133)\",\"rgb(139,0,0)\",\"rgb(139,0,0)\",\"rgb(139,0,0)\",\"rgb(139,0,0)\",\"rgb(199,21,133)\",\"rgb(139,0,0)\",\"rgb(139,0,0)\",\"rgb(199,21,133)\",\"rgb(199,21,133)\",\"rgb(199,21,133)\",\"rgb(199,21,133)\",\"rgb(139,0,0)\",\"rgb(199,21,133)\",\"rgb(139,0,0)\",\"rgb(199,21,133)\",\"rgb(199,21,133)\",\"rgb(199,21,133)\",\"rgb(199,21,133)\",\"rgb(199,21,133)\",\"rgb(199,21,133)\",\"rgb(139,0,0)\",\"rgb(199,21,133)\",\"rgb(199,21,133)\",\"rgb(199,21,133)\",\"rgb(139,0,0)\",\"rgb(199,21,133)\",\"rgb(139,0,0)\",\"rgb(139,0,0)\",\"rgb(139,0,0)\",\"rgb(139,0,0)\",\"rgb(199,21,133)\",\"rgb(199,21,133)\",\"rgb(139,0,0)\",\"rgb(139,0,0)\",\"rgb(199,21,133)\",\"rgb(139,0,0)\",\"rgb(139,0,0)\",\"rgb(199,21,133)\",\"rgb(199,21,133)\",\"rgb(139,0,0)\",\"rgb(139,0,0)\",\"rgb(139,0,0)\",\"rgb(139,0,0)\"],\"color2\":[\"rgb(199,21,133)\",\"rgb(199,21,133)\",\"rgb(139,0,0)\",\"rgb(199,21,133)\",\"rgb(199,21,133)\",\"rgb(139,0,0)\",\"rgb(199,21,133)\",\"rgb(199,21,133)\",\"rgb(139,0,0)\",\"rgb(139,0,0)\",\"rgb(199,21,133)\",\"rgb(199,21,133)\",\"rgb(199,21,133)\",\"rgb(139,0,0)\",\"rgb(199,21,133)\",\"rgb(199,21,133)\",\"rgb(199,21,133)\",\"rgb(199,21,133)\",\"rgb(199,21,133)\",\"rgb(199,21,133)\",\"rgb(199,21,133)\",\"rgb(199,21,133)\",\"rgb(199,21,133)\",\"rgb(139,0,0)\",\"rgb(199,21,133)\",\"rgb(139,0,0)\",\"rgb(199,21,133)\",\"rgb(199,21,133)\",\"rgb(139,0,0)\",\"rgb(139,0,0)\",\"rgb(139,0,0)\",\"rgb(199,21,133)\",\"rgb(199,21,133)\",\"rgb(199,21,133)\",\"rgb(139,0,0)\",\"rgb(199,21,133)\",\"rgb(199,21,133)\",\"rgb(139,0,0)\",\"rgb(139,0,0)\",\"rgb(139,0,0)\",\"rgb(199,21,133)\",\"rgb(199,21,133)\",\"rgb(199,21,133)\",\"rgb(199,21,133)\",\"rgb(199,21,133)\",\"rgb(199,21,133)\",\"rgb(199,21,133)\",\"rgb(199,21,133)\",\"rgb(199,21,133)\",\"rgb(199,21,133)\",\"rgb(139,0,0)\",\"rgb(199,21,133)\",\"rgb(139,0,0)\",\"rgb(199,21,133)\",\"rgb(199,21,133)\",\"rgb(199,21,133)\",\"rgb(199,21,133)\",\"rgb(199,21,133)\",\"rgb(199,21,133)\",\"rgb(199,21,133)\",\"rgb(139,0,0)\",\"rgb(199,21,133)\",\"rgb(139,0,0)\",\"rgb(199,21,133)\",\"rgb(199,21,133)\",\"rgb(139,0,0)\",\"rgb(199,21,133)\",\"rgb(139,0,0)\",\"rgb(139,0,0)\",\"rgb(139,0,0)\",\"rgb(199,21,133)\",\"rgb(199,21,133)\",\"rgb(199,21,133)\",\"rgb(199,21,133)\",\"rgb(139,0,0)\",\"rgb(199,21,133)\",\"rgb(139,0,0)\",\"rgb(139,0,0)\",\"rgb(199,21,133)\",\"rgb(199,21,133)\",\"rgb(199,21,133)\",\"rgb(199,21,133)\",\"rgb(199,21,133)\",\"rgb(199,21,133)\",\"rgb(139,0,0)\",\"rgb(199,21,133)\",\"rgb(199,21,133)\",\"rgb(199,21,133)\",\"rgb(199,21,133)\",\"rgb(139,0,0)\",\"rgb(199,21,133)\",\"rgb(199,21,133)\",\"rgb(199,21,133)\"],\"color3\":[\"rgb(0,0,255)\",\"rgb(0,0,255)\",\"rgb(0,0,255)\",\"rgb(0,0,255)\",\"rgb(0,0,255)\",\"rgb(0,0,255)\",\"rgb(0,0,255)\",\"rgb(0,0,255)\",\"rgb(0,0,255)\",\"rgb(0,0,255)\",\"rgb(0,0,255)\",\"rgb(0,255,255)\",\"rgb(255,0,0)\",\"rgb(0,0,255)\",\"rgb(0,0,255)\",\"rgb(0,0,255)\",\"rgb(0,0,255)\",\"rgb(0,0,255)\",\"rgb(0,0,255)\",\"rgb(0,0,255)\",\"rgb(0,0,255)\",\"rgb(0,0,255)\",\"rgb(0,0,255)\",\"rgb(0,0,255)\",\"rgb(0,0,255)\",\"rgb(0,0,255)\",\"rgb(0,0,255)\",\"rgb(0,0,255)\",\"rgb(0,0,255)\",\"rgb(0,0,255)\",\"rgb(0,0,255)\",\"rgb(0,0,255)\",\"rgb(0,0,255)\",\"rgb(0,0,255)\",\"rgb(255,0,0)\",\"rgb(0,0,255)\",\"rgb(255,0,0)\",\"rgb(0,0,255)\",\"rgb(0,255,255)\",\"rgb(0,0,255)\",\"rgb(255,0,0)\",\"rgb(0,0,255)\",\"rgb(0,0,255)\",\"rgb(0,0,255)\",\"rgb(0,255,255)\",\"rgb(0,0,255)\",\"rgb(0,0,255)\",\"rgb(0,0,255)\",\"rgb(0,0,255)\",\"rgb(0,0,255)\",\"rgb(0,0,255)\",\"rgb(0,255,0)\",\"rgb(0,255,0)\",\"rgb(0,255,0)\",\"rgb(0,0,255)\",\"rgb(0,255,0)\",\"rgb(0,255,0)\",\"rgb(0,255,0)\",\"rgb(0,255,0)\",\"rgb(255,0,0)\",\"rgb(0,255,0)\",\"rgb(0,0,255)\",\"rgb(0,0,255)\",\"rgb(0,0,255)\",\"rgb(0,0,255)\",\"rgb(0,0,255)\",\"rgb(255,0,0)\",\"rgb(0,0,255)\",\"rgb(0,255,0)\",\"rgb(0,255,0)\",\"rgb(255,0,0)\",\"rgb(0,255,0)\",\"rgb(0,0,255)\",\"rgb(0,0,255)\",\"rgb(0,0,255)\",\"rgb(0,0,255)\",\"rgb(0,0,255)\",\"rgb(0,0,255)\",\"rgb(0,0,255)\",\"rgb(0,0,255)\",\"rgb(0,0,255)\",\"rgb(0,0,255)\",\"rgb(0,0,255)\",\"rgb(255,0,0)\",\"rgb(0,0,255)\",\"rgb(255,0,0)\",\"rgb(255,0,0)\",\"rgb(0,255,0)\",\"rgb(0,0,255)\",\"rgb(0,0,255)\",\"rgb(0,0,255)\",\"rgb(0,255,0)\",\"rgb(0,255,0)\"],\"color4\":[\"rgb(199,21,133)\",\"rgb(199,21,133)\",\"rgb(199,21,133)\",\"rgb(199,21,133)\",\"rgb(199,21,133)\",\"rgb(199,21,133)\",\"rgb(199,21,133)\",\"rgb(199,21,133)\",\"rgb(199,21,133)\",\"rgb(199,21,133)\",\"rgb(199,21,133)\",\"rgb(199,21,133)\",\"rgb(199,21,133)\",\"rgb(199,21,133)\",\"rgb(139,0,0)\",\"rgb(199,21,133)\",\"rgb(199,21,133)\",\"rgb(199,21,133)\",\"rgb(199,21,133)\",\"rgb(199,21,133)\",\"rgb(199,21,133)\",\"rgb(199,21,133)\",\"rgb(199,21,133)\",\"rgb(199,21,133)\",\"rgb(199,21,133)\",\"rgb(199,21,133)\",\"rgb(199,21,133)\",\"rgb(139,0,0)\",\"rgb(199,21,133)\",\"rgb(199,21,133)\",\"rgb(139,0,0)\",\"rgb(199,21,133)\",\"rgb(199,21,133)\",\"rgb(199,21,133)\",\"rgb(199,21,133)\",\"rgb(139,0,0)\",\"rgb(199,21,133)\",\"rgb(199,21,133)\",\"rgb(199,21,133)\",\"rgb(199,21,133)\",\"rgb(199,21,133)\",\"rgb(199,21,133)\",\"rgb(199,21,133)\",\"rgb(199,21,133)\",\"rgb(139,0,0)\",\"rgb(199,21,133)\",\"rgb(199,21,133)\",\"rgb(199,21,133)\",\"rgb(139,0,0)\",\"rgb(199,21,133)\",\"rgb(199,21,133)\",\"rgb(199,21,133)\",\"rgb(199,21,133)\",\"rgb(199,21,133)\",\"rgb(199,21,133)\",\"rgb(199,21,133)\",\"rgb(199,21,133)\",\"rgb(139,0,0)\",\"rgb(199,21,133)\",\"rgb(199,21,133)\",\"rgb(199,21,133)\",\"rgb(199,21,133)\",\"rgb(199,21,133)\",\"rgb(199,21,133)\",\"rgb(199,21,133)\",\"rgb(199,21,133)\",\"rgb(139,0,0)\",\"rgb(199,21,133)\",\"rgb(139,0,0)\",\"rgb(199,21,133)\",\"rgb(199,21,133)\",\"rgb(199,21,133)\",\"rgb(199,21,133)\",\"rgb(199,21,133)\",\"rgb(199,21,133)\",\"rgb(199,21,133)\",\"rgb(199,21,133)\",\"rgb(139,0,0)\",\"rgb(199,21,133)\",\"rgb(199,21,133)\",\"rgb(199,21,133)\",\"rgb(199,21,133)\",\"rgb(199,21,133)\",\"rgb(199,21,133)\",\"rgb(199,21,133)\",\"rgb(199,21,133)\",\"rgb(199,21,133)\",\"rgb(199,21,133)\",\"rgb(199,21,133)\",\"rgb(199,21,133)\",\"rgb(199,21,133)\",\"rgb(199,21,133)\",\"rgb(199,21,133)\"],\"index\":[0,1,2,3,4,5,6,7,8,9,10,11,12,13,14,15,16,17,18,19,20,21,22,23,24,25,26,27,28,29,30,31,32,33,34,35,36,37,38,39,40,41,42,43,44,45,46,47,48,49,50,51,52,53,54,55,56,57,58,59,60,61,62,63,64,65,66,67,68,69,70,71,72,73,74,75,76,77,78,79,80,81,82,83,84,85,86,87,88,89,90,91,92],\"lat\":{\"__ndarray__\":\"loshqgHxWUBZ7wX+rPRZQNBY2J/Y7llAfguddy7tWUB4uDLjQfxZQHN8hro39VlAWe8F/qz0WUAi1k6BP/VZQHi4MuNB/FlAB6FVU0AAWkAi1k6BP/VZQML5OQNs8llABEDjVn/3WUAgaMYP3fZZQJTz1CtG+VlAc3yGujf1WUB4uDLjQfxZQH4LnXcu7VlAITnXAJv7WUCMqJDxFe1ZQML5OQNs8llAP1Xh2cn5WUBZ7wX+rPRZQH4LnXcu7VlAjKiQ8RXtWUDmzZum7/VZQARA41Z/91lApTeMmcn5WUD/DNuaPu9ZQJaLIaoB8VlAhhbGOWn5WUAgaMYP3fZZQAehVVNAAFpArJwVpdn0WUBZ7wX+rPRZQIYWxjlp+VlAITnXAJv7WUAHoVVTQABaQFnvBf6s9FlAIGjGD932WUBzfIa6N/VZQHi4MuNB/FlAloshqgHxWUAEQONWf/dZQKU3jJnJ+VlAaXHEr3nxWUCGB+tXkvhZQKPeIPzH81lAhhbGOWn5WUBzfIa6N/VZQIyokPEV7VlAB6FVU0AAWkCj3iD8x/NZQHi4MuNB/FlAw7CMW330WUAhOdcAm/tZQD9V4dnJ+VlApTeMmcn5WUBzfIa6N/VZQMCioOjR71lABEDjVn/3WUAi1k6BP/VZQARA41Z/91lAo94g/MfzWUAdWXLo2uxZQKPeIPzH81lApTeMmcn5WUB+C513Lu1ZQIYWxjlp+VlA50aMLLPvWUB+C513Lu1ZQCLWToE/9VlAP1Xh2cn5WUDnRowss+9ZQML5OQNs8llA5dQd/e33WUCkcXYoV/lZQKU3jJnJ+VlAP1Xh2cn5WUAHoVVTQABaQD9V4dnJ+VlA50aMLLPvWUAhOdcAm/tZQOdGjCyz71lAEOC8V7X4WUCj3iD8x/NZQML5OQNs8llAIGjGD932WUDnRowss+9ZQCE51wCb+1lAlTwWPK71WUCWiyGqAfFZQIyokPEV7VlA\",\"dtype\":\"float64\",\"shape\":[93]},\"lat_ward\":{\"__ndarray__\":\"jZITnPPvWUAvbt28LPVZQMr4PfTX7llAeg6KzbjrWUBtAwwhJPxZQEMnRIGv9FlAnaiFDvvyWUCe5BaJvvRZQMIIwBiA/FlA9Pgs8lH8WUAthCnqJPZZQLE/IgBq8llA+as3Ha34WUB7IaMJtvZZQEIvvsxE+VlAwzFuXvf1WUAWSSehG/1ZQAQofb1d7VlAM1qtwM38WUBA9N8Sxu9ZQCPLuxZ88llAGP3TTPX6WUAjXNKNgfNZQCbYy3Ex61lAUtj0RCrwWUB+1ypF8PVZQAqPI+Yp+FlALyfHW1v6WUDv0CBLPu9ZQOklBugo8llAc2r0tln5WUCaoZpJDvdZQGRVBeMa/FlANLrcqdj0WUD3viFuY/VZQJbHcPXn+FlArZGACGL6WUCbJ5JD9/xZQDM9gIa89FlAoj2rLHb2WUAU+OIBQvRZQEmWVXrW+1lAjboosZnwWUA5ta+CZfZZQOXFegS691lAYpZnfXnxWUAjUbaokvhZQAom6t009FlAe1ACpvv5WUAJjGP4afZZQAkVjYiT8FlAf0CQfM4AWkCy1TH5cfJZQMNJfzn1+1lA/7egVXz0WUDyZFqsnv1ZQN0lFLsh+VlAOLo4sFn7WUDQrySAhPVZQJlChd/R71lAkWufjc32WUCU+uV7NfZZQAFfTZq191lAar3bogz1WUD5lD6n2uxZQJRydYKA81lA9CHTxSb6WUCFQkY7jvFZQE7rjKB4+VlAX8DiBX3wWUDkhc5anfBZQLIhlj3d9llAap7d6L33WUCfl32YBu5ZQFxmftiM8llAvG/l4e33WUC0hZzeUPlZQDiZJYTA+FlAOlXBwHP6WUA7Twev0vtZQJJ1aNUO+llAGhoCWe7wWUDz1RWgnPtZQKTEehWh7llASNy0orX4WUCA+GVFP/NZQBjsGvA48VlAIL1xwMb3WUAXZHF4mO5ZQI6j8kxs+llAPoq01a31WUCBV0XIevFZQGAKyGa87FlA\",\"dtype\":\"float64\",\"shape\":[93]},\"lon_ward\":{\"__ndarray__\":\"iRkG7tm89j+9I/IQhgP1P56QP4EGzvU/QGmzlgyC9T/fMwqqsN/1P1LtdV+zifY//2s0kCAG9T9Fvz4+kIr1P7CMXzUotPU/UaRZSpxM9T/L9jbOGKL1Pw0QsAUmKPU/yL/dptn+9T/ro9nX9eb0P1dn2RHI5PU/rfRvtgKZ9j90DaXFH5z1P3MuSahKgfU/e36ToBX29T8hEBD7OgD2PyQm9lFwJfY/fhSZKh0B9T8qfrAQ46r0P3Zl5rm4cPQ/EHZQNasd9j9LKyvTgLn1P1DVJezeTvY/lCzSQRm69T+wcw2WkW71P+Zv2hZ9xPY/sTGGB38j9j94rcGRTR71P7mTa+P5D/U/0RQYiVEb9j9E++DdnWj0P3frNE56T/Y/QlqYtO+L9j9onfhO03P1PyzhbW7sw/Q/Z3SUDyh69D+XEv0h0tr2P+XIDzSpv/U/cl5T3ayV9j9tpBj+xdr1P03sBwleyfU/pi9RiLUH9j+VxzioZsT0P/mfa1IsQPc/ybGxVj859j8n/Lm3GQr3P7g7rnKOxvU/9kPFLqgN9j/6wZi5sSP3P/+oYG+xmPU/DRfRi3lq9D/iggzGu/f1P1FO2vdLQPU/wffa0CtS9T95uknrQcz2P7ZIYgajj/U/G6GJsZsV9j9l6s7ktFb1P8SpzCAwfvY/C5pSroo89z/hXxjhZmn1P3FYrb+pUPc/FNj0ymRf9T+08kLH2aDzP+kCbzRTSvY/OlRcZ7Zk9T+LCiY/dOf0P1ZX3moQYvU/DnT9wVeT9T92Q5EimJX1P1NbI5xnXvU/f/sepCda9T+rlqC/AHf2PxvR6HmZsvU/uibiWto09T8Z01ETBFD1P8Y7EeXY6PQ/VQEISYgM9T9Gx3FosCr2PwYwQfFFWPU/+LiVvBEv9T9D83vtRPD2P5BOcqRo5vU/y9XHhccS9T8V45czdpn1P6qD14OXV/Y/DNmw9Rwl9j/h/kadhAT3P2EZh7WjWvY/\",\"dtype\":\"float64\",\"shape\":[93]},\"long\":{\"__ndarray__\":\"B4mguYfF9j/V4mmos9P0P1PG09fZzfU/mIcYfMCf9D/46J2IQsD1P/IypIijx/Y/1eJpqLPT9D8hA2k6S4j1P/jonYhCwPU/hCppWeXp9T8hA2k6S4j1P4RqrO+C2vU/cNzeHdxS9j+Z72Zsoc30PzB0ybf35PU/8jKkiKPH9j/46J2IQsD1P5iHGHzAn/Q/O48RMzc89j+PMJhEPE72P4RqrO+C2vU/H0LWAsUr9T/V4mmos9P0P5iHGHzAn/Q/jzCYRDxO9j9E6/2IVrn1P3Dc3h3cUvY/OthkMyiw9T+17lKxZ271PweJoLmHxfY/YVSa4Bk+9j+Z72Zsoc30P4QqaVnl6fU/mZR0sv8a9j/V4mmos9P0P2FUmuAZPvY/O48RMzc89j+EKmlZ5en1P9Xiaaiz0/Q/me9mbKHN9D/yMqSIo8f2P/jonYhCwPU/B4mguYfF9j9w3N4d3FL2PzrYZDMosPU/ZL5jvIIH9j/1oy7CbMT0Pw6iVGy4OPc/YVSa4Bk+9j/yMqSIo8f2P48wmEQ8TvY/hCppWeXp9T8OolRsuDj3P/jonYhCwPU/d7LSmmhq9D87jxEzNzz2Px9C1gLFK/U/OthkMyiw9T/yMqSIo8f2PzNcAsibj/U/cNzeHdxS9j8hA2k6S4j1P3Dc3h3cUvY/DqJUbLg49z+ELkg7RWn1Pw6iVGy4OPc/OthkMyiw9T+Yhxh8wJ/0P2FUmuAZPvY//R8GnJZc9T+Yhxh8wJ/0PyEDaTpLiPU/H0LWAsUr9T/9Hwacllz1P4RqrO+C2vU/X0KJ0UFa9T89t72Pd3b2PzrYZDMosPU/H0LWAsUr9T+EKmlZ5en1Px9C1gLFK/U//R8GnJZc9T87jxEzNzz2P/0fBpyWXPU/f3FJxy8v9T8OolRsuDj3P4RqrO+C2vU/me9mbKHN9D/9Hwacllz1PzuPETM3PPY/XN3jGMkk9j8HiaC5h8X2P48wmEQ8TvY/\",\"dtype\":\"float64\",\"shape\":[93]},\"newName\":[\"Alex_Yam\",\"Alvin_Tan\",\"Amy_Khor\",\"Ang_Wei_Neng\",\"Baey_Yam_Keng\",\"Carrie_Tan\",\"Chan_Chun_Sing\",\"Chee_Hong_Tat\",\"Cheng_Li_Hui\",\"Cheryl_Chan\",\"Chong_Kee_Hiong\",\"Christopher_de_Souza\",\"Darryl_David\",\"Denise_Phua\",\"Dennis_Tan\",\"Derrick_Goh\",\"Desmond_Choo\",\"Desmond_Lee\",\"Desmond_Tan\",\"Don_Wee\",\"Edward_Chia\",\"Edwin_Tong\",\"Eric_Chua\",\"Foo_Mee_Har\",\"Gan_Kim_Yong\",\"Gan_Siow_Huang\",\"Gan_Thiam_Poh\",\"Gerald_Giam\",\"Grace_Fu\",\"Hany_Soh\",\"He_Ting_Ru\",\"Heng_Chee_How\",\"Heng_Swee_Keat\",\"Henry_Kwek\",\"Indranee_Rajah\",\"Jamus_Lim\",\"Janil_Puthucheary\",\"Jessica_Tan\",\"Joan_Pereira\",\"Josephine_Teo\",\"K._Shanmugam\",\"Koh_Poh_Koon\",\"Lawrence_Wong\",\"Lee_Hsien_Loong\",\"Leon_Perera\",\"Liang_Eng_Hwa\",\"Lim_Biow_Chuan\",\"Lim_Wee_Kiak\",\"Louis_Chua\",\"Louis_Ng\",\"Low_Yen_Ling\",\"Maliki_Osman\",\"Mariam_Jaafar\",\"Masagos_Zulkifli\",\"Melvin_Yong\",\"Mohamed_Sharael_Taha\",\"Mohd_Fahmi_Aliman\",\"Muhamad_Faisal_Manap\",\"Muhammad_Faishal_Ibrahim\",\"Murali_Pillai\",\"Nadia_Ahmad_Samdin\",\"Ng_Eng_Hen\",\"Ng_Ling_Ling\",\"Ong_Ye_Kung\",\"Patrick_Tay\",\"Poh_Li_San\",\"Pritam_Singh\",\"Rachel_Ong\",\"Raeesah_Khan\",\"Rahayu_Mahzam\",\"S._Iswaran\",\"Saktiandi_Supaat\",\"Seah_Kian_Peng\",\"Shawn_Huang\",\"Sim_Ann\",\"Sitoh_Yih_Pin\",\"Sun_Xueling\",\"Sylvia_Lim\",\"Tan_Chuan-Jin\",\"Tan_Kiat_How\",\"Tan_See_Leng\",\"Tan_Wu_Meng\",\"Teo_Chee_Hean\",\"Tharman_Shanmugaratnam\",\"Tin_Pei_Ling\",\"Vikram_Nair\",\"Vivian_Balakrishnan\",\"Wan_Rizal\",\"Xie_Yao_Quan\",\"Yeo_Wan_Ling\",\"Yip_Hon_Weng\",\"Zaqy_Mohamad\",\"Zhulkarnain_Abdul_Rahim\"]},\"selected\":{\"id\":\"1293\",\"type\":\"Selection\"},\"selection_policy\":{\"id\":\"1294\",\"type\":\"UnionRenderers\"}},\"id\":\"1225\",\"type\":\"ColumnDataSource\"},{\"attributes\":{\"callback\":null,\"tooltips\":[[\"Name\",\"@Name\"]]},\"id\":\"1267\",\"type\":\"HoverTool\"},{\"attributes\":{\"axis_label\":\"T-SNE 2\",\"formatter\":{\"id\":\"1290\",\"type\":\"BasicTickFormatter\"},\"plot\":{\"id\":\"1226\",\"subtype\":\"Figure\",\"type\":\"Plot\"},\"ticker\":{\"id\":\"1241\",\"type\":\"BasicTicker\"}},\"id\":\"1240\",\"type\":\"LinearAxis\"},{\"attributes\":{\"callback\":null},\"id\":\"1229\",\"type\":\"DataRange1d\"},{\"attributes\":{},\"id\":\"1292\",\"type\":\"BasicTickFormatter\"},{\"attributes\":{\"bottom_units\":\"screen\",\"fill_alpha\":{\"value\":0.5},\"fill_color\":{\"value\":\"lightgrey\"},\"left_units\":\"screen\",\"level\":\"overlay\",\"line_alpha\":{\"value\":1.0},\"line_color\":{\"value\":\"black\"},\"line_dash\":[4,4],\"line_width\":{\"value\":2},\"plot\":null,\"render_mode\":\"css\",\"right_units\":\"screen\",\"top_units\":\"screen\"},\"id\":\"1253\",\"type\":\"BoxAnnotation\"},{\"attributes\":{\"overlay\":{\"id\":\"1253\",\"type\":\"BoxAnnotation\"}},\"id\":\"1247\",\"type\":\"BoxZoomTool\"},{\"attributes\":{},\"id\":\"1294\",\"type\":\"UnionRenderers\"},{\"attributes\":{\"source\":{\"id\":\"1225\",\"type\":\"ColumnDataSource\"}},\"id\":\"1264\",\"type\":\"CDSView\"},{\"attributes\":{},\"id\":\"1290\",\"type\":\"BasicTickFormatter\"},{\"attributes\":{},\"id\":\"1231\",\"type\":\"LinearScale\"},{\"attributes\":{},\"id\":\"1233\",\"type\":\"LinearScale\"},{\"attributes\":{\"active_drag\":\"auto\",\"active_inspect\":\"auto\",\"active_multi\":null,\"active_scroll\":\"auto\",\"active_tap\":\"auto\",\"tools\":[{\"id\":\"1245\",\"type\":\"PanTool\"},{\"id\":\"1246\",\"type\":\"WheelZoomTool\"},{\"id\":\"1247\",\"type\":\"BoxZoomTool\"},{\"id\":\"1248\",\"type\":\"SaveTool\"},{\"id\":\"1249\",\"type\":\"ResetTool\"},{\"id\":\"1250\",\"type\":\"HelpTool\"},{\"id\":\"1267\",\"type\":\"HoverTool\"}]},\"id\":\"1251\",\"type\":\"Toolbar\"},{\"attributes\":{\"plot\":{\"id\":\"1226\",\"subtype\":\"Figure\",\"type\":\"Plot\"},\"ticker\":{\"id\":\"1236\",\"type\":\"BasicTicker\"}},\"id\":\"1239\",\"type\":\"Grid\"},{\"attributes\":{},\"id\":\"1245\",\"type\":\"PanTool\"}],\"root_ids\":[\"1226\"]},\"title\":\"Bokeh Application\",\"version\":\"1.0.2\"}};\n",
       "  var render_items = [{\"docid\":\"d5b0b1d6-7739-4110-b3aa-3dfc94069ddb\",\"roots\":{\"1226\":\"9489731a-3407-45e7-a606-44b6856719fc\"}}];\n",
       "  root.Bokeh.embed.embed_items_notebook(docs_json, render_items);\n",
       "\n",
       "  }\n",
       "  if (root.Bokeh !== undefined) {\n",
       "    embed_document(root);\n",
       "  } else {\n",
       "    var attempts = 0;\n",
       "    var timer = setInterval(function(root) {\n",
       "      if (root.Bokeh !== undefined) {\n",
       "        embed_document(root);\n",
       "        clearInterval(timer);\n",
       "      }\n",
       "      attempts++;\n",
       "      if (attempts > 100) {\n",
       "        console.log(\"Bokeh: ERROR: Unable to run BokehJS code because BokehJS library is missing\");\n",
       "        clearInterval(timer);\n",
       "      }\n",
       "    }, 10, root)\n",
       "  }\n",
       "})(window);"
      ],
      "application/vnd.bokehjs_exec.v0+json": ""
     },
     "metadata": {
      "application/vnd.bokehjs_exec.v0+json": {
       "id": "1226"
      }
     },
     "output_type": "display_data"
    }
   ],
   "source": [
    "# Plot the map\n",
    "show(plot)"
   ]
  },
  {
   "cell_type": "code",
   "execution_count": 31,
   "metadata": {
    "scrolled": true
   },
   "outputs": [
    {
     "data": {
      "text/html": [
       "<div>\n",
       "<style scoped>\n",
       "    .dataframe tbody tr th:only-of-type {\n",
       "        vertical-align: middle;\n",
       "    }\n",
       "\n",
       "    .dataframe tbody tr th {\n",
       "        vertical-align: top;\n",
       "    }\n",
       "\n",
       "    .dataframe thead th {\n",
       "        text-align: right;\n",
       "    }\n",
       "</style>\n",
       "<table border=\"1\" class=\"dataframe\">\n",
       "  <thead>\n",
       "    <tr style=\"text-align: right;\">\n",
       "      <th></th>\n",
       "      <th>Age_group</th>\n",
       "      <th>Ethnicity</th>\n",
       "      <th>Gender</th>\n",
       "      <th>First_Occupation</th>\n",
       "      <th>Previous_Occupation</th>\n",
       "      <th>Years_In_Politics</th>\n",
       "    </tr>\n",
       "  </thead>\n",
       "  <tbody>\n",
       "    <tr>\n",
       "      <th>8</th>\n",
       "      <td>40 - 45</td>\n",
       "      <td>Chinese</td>\n",
       "      <td>Female</td>\n",
       "      <td>IT/Engineering</td>\n",
       "      <td>IT/Engineering</td>\n",
       "      <td>5</td>\n",
       "    </tr>\n",
       "  </tbody>\n",
       "</table>\n",
       "</div>"
      ],
      "text/plain": [
       "  Age_group Ethnicity  Gender First_Occupation Previous_Occupation  \\\n",
       "8   40 - 45   Chinese  Female   IT/Engineering      IT/Engineering   \n",
       "\n",
       "   Years_In_Politics  \n",
       "8                  5  "
      ]
     },
     "metadata": {},
     "output_type": "display_data"
    },
    {
     "data": {
      "text/html": [
       "<div>\n",
       "<style scoped>\n",
       "    .dataframe tbody tr th:only-of-type {\n",
       "        vertical-align: middle;\n",
       "    }\n",
       "\n",
       "    .dataframe tbody tr th {\n",
       "        vertical-align: top;\n",
       "    }\n",
       "\n",
       "    .dataframe thead th {\n",
       "        text-align: right;\n",
       "    }\n",
       "</style>\n",
       "<table border=\"1\" class=\"dataframe\">\n",
       "  <thead>\n",
       "    <tr style=\"text-align: right;\">\n",
       "      <th></th>\n",
       "      <th>Age_group</th>\n",
       "      <th>Ethnicity</th>\n",
       "      <th>Gender</th>\n",
       "      <th>First_Occupation</th>\n",
       "      <th>Previous_Occupation</th>\n",
       "      <th>Years_In_Politics</th>\n",
       "    </tr>\n",
       "  </thead>\n",
       "  <tbody>\n",
       "    <tr>\n",
       "      <th>9</th>\n",
       "      <td>40 - 45</td>\n",
       "      <td>Chinese</td>\n",
       "      <td>Female</td>\n",
       "      <td>IT/Engineering</td>\n",
       "      <td>IT/Engineering</td>\n",
       "      <td>5</td>\n",
       "    </tr>\n",
       "  </tbody>\n",
       "</table>\n",
       "</div>"
      ],
      "text/plain": [
       "  Age_group Ethnicity  Gender First_Occupation Previous_Occupation  \\\n",
       "9   40 - 45   Chinese  Female   IT/Engineering      IT/Engineering   \n",
       "\n",
       "   Years_In_Politics  \n",
       "9                  5  "
      ]
     },
     "metadata": {},
     "output_type": "display_data"
    }
   ],
   "source": [
    "# Print the ingredients of two similar MPs\n",
    "p1 = constituencies[constituencies['Name'] == \"Cheng Li Hui\"][list_1]\n",
    "p2 = constituencies[constituencies['Name'] == \"Cheryl Chan\"][list_1]\n",
    "\n",
    "# Display each item's data and ingredients\n",
    "display(p1)\n",
    "display(p2)"
   ]
  },
  {
   "cell_type": "code",
   "execution_count": 53,
   "metadata": {},
   "outputs": [],
   "source": [
    "constituencies.to_csv('/Users/dianaow/Documents/singapore_stories/parliament/data/mps_constituencies.csv')"
   ]
  },
  {
   "cell_type": "code",
   "execution_count": 33,
   "metadata": {},
   "outputs": [
    {
     "data": {
      "text/plain": [
       "array(['Public Service (Labour)', 'Other(HR/Management)',\n",
       "       'Infrastructure (Transport/Telecomms/Real Estate)',\n",
       "       'Public Service (Multiple Stat Boards)',\n",
       "       'Social Enterprise/Charity', 'SAF/SPF/SCDF', 'IT/Engineering',\n",
       "       'Law', 'Education', 'Finance',\n",
       "       'Public Service (Social/Healthcare)', 'Entrepreneur',\n",
       "       'Public Service (Finance)', 'Biz Dev', 'Specialist - Healthcare',\n",
       "       'Public Service / Govt-linked (Biz Dev)'], dtype=object)"
      ]
     },
     "execution_count": 33,
     "metadata": {},
     "output_type": "execute_result"
    }
   ],
   "source": [
    "constituencies['Previous_Occupation'].unique()"
   ]
  },
  {
   "cell_type": "code",
   "execution_count": 34,
   "metadata": {},
   "outputs": [],
   "source": [
    "df = pd.read_csv(\"./data/Singapore Members of Parliament - Members_Parliament_Long.csv\")"
   ]
  },
  {
   "cell_type": "code",
   "execution_count": 35,
   "metadata": {},
   "outputs": [
    {
     "data": {
      "text/html": [
       "<div>\n",
       "<style scoped>\n",
       "    .dataframe tbody tr th:only-of-type {\n",
       "        vertical-align: middle;\n",
       "    }\n",
       "\n",
       "    .dataframe tbody tr th {\n",
       "        vertical-align: top;\n",
       "    }\n",
       "\n",
       "    .dataframe thead th {\n",
       "        text-align: right;\n",
       "    }\n",
       "</style>\n",
       "<table border=\"1\" class=\"dataframe\">\n",
       "  <thead>\n",
       "    <tr style=\"text-align: right;\">\n",
       "      <th></th>\n",
       "      <th>Name</th>\n",
       "      <th>Party</th>\n",
       "      <th>Ethnicity</th>\n",
       "      <th>Gender</th>\n",
       "      <th>Type</th>\n",
       "      <th>Parliament</th>\n",
       "    </tr>\n",
       "  </thead>\n",
       "  <tbody>\n",
       "    <tr>\n",
       "      <th>0</th>\n",
       "      <td>A. Rahim Ishak</td>\n",
       "      <td>People's Action Party</td>\n",
       "      <td>Malay</td>\n",
       "      <td>Male</td>\n",
       "      <td>MP</td>\n",
       "      <td>1</td>\n",
       "    </tr>\n",
       "    <tr>\n",
       "      <th>1</th>\n",
       "      <td>A.P. Rajah</td>\n",
       "      <td>Independent</td>\n",
       "      <td>Malay</td>\n",
       "      <td>Male</td>\n",
       "      <td>MP</td>\n",
       "      <td>1</td>\n",
       "    </tr>\n",
       "    <tr>\n",
       "      <th>2</th>\n",
       "      <td>Ang Nam Piau</td>\n",
       "      <td>People's Action Party</td>\n",
       "      <td>Chinese</td>\n",
       "      <td>Male</td>\n",
       "      <td>MP</td>\n",
       "      <td>1</td>\n",
       "    </tr>\n",
       "    <tr>\n",
       "      <th>3</th>\n",
       "      <td>Bani, S.T.</td>\n",
       "      <td>Barisan Sosialis</td>\n",
       "      <td>Indian</td>\n",
       "      <td>Male</td>\n",
       "      <td>MP</td>\n",
       "      <td>1</td>\n",
       "    </tr>\n",
       "    <tr>\n",
       "      <th>4</th>\n",
       "      <td>Barker, E.W.</td>\n",
       "      <td>People's Action Party</td>\n",
       "      <td>Eurasian</td>\n",
       "      <td>Male</td>\n",
       "      <td>MP</td>\n",
       "      <td>1</td>\n",
       "    </tr>\n",
       "  </tbody>\n",
       "</table>\n",
       "</div>"
      ],
      "text/plain": [
       "             Name                  Party Ethnicity Gender Type  Parliament\n",
       "0  A. Rahim Ishak  People's Action Party     Malay   Male   MP           1\n",
       "1      A.P. Rajah            Independent     Malay   Male   MP           1\n",
       "2    Ang Nam Piau  People's Action Party   Chinese   Male   MP           1\n",
       "3      Bani, S.T.       Barisan Sosialis    Indian   Male   MP           1\n",
       "4    Barker, E.W.  People's Action Party  Eurasian   Male   MP           1"
      ]
     },
     "execution_count": 35,
     "metadata": {},
     "output_type": "execute_result"
    }
   ],
   "source": [
    "df.head()"
   ]
  },
  {
   "cell_type": "code",
   "execution_count": 36,
   "metadata": {},
   "outputs": [],
   "source": [
    "df = df[df['Type'] == 'MP']"
   ]
  },
  {
   "cell_type": "code",
   "execution_count": 37,
   "metadata": {
    "scrolled": true
   },
   "outputs": [],
   "source": [
    "df_ethnicity = df.groupby(['Parliament', 'Ethnicity'])['Name'].count().reset_index()\n",
    "df_ethnicity.rename(columns={'Name': 'value'}, inplace=True)\n",
    "df_ethnicity_pt =  pd.pivot_table(df_ethnicity, index='Parliament', columns='Ethnicity', values='value', fill_value=0).reset_index(drop=True)\n",
    "df_ethnicity_pt.to_csv('/Users/dianaow/Documents/singapore_stories/parliament/data/ethnicity_timeline_PT.csv')\n",
    "df_ethnicity.to_csv('/Users/dianaow/Documents/singapore_stories/parliament/data/ethnicity_timeline.csv')"
   ]
  },
  {
   "cell_type": "code",
   "execution_count": 38,
   "metadata": {},
   "outputs": [],
   "source": [
    "df_gender = df.groupby(['Parliament', 'Gender'])['Name'].count().reset_index()\n",
    "df_gender.rename(columns={'Name': 'value'}, inplace=True)\n",
    "df_gender_pt =  pd.pivot_table(df_gender, index='Parliament', columns='Gender', values='value', fill_value=0).reset_index()\n",
    "df_gender_pt.to_csv('/Users/dianaow/Documents/singapore_stories/parliament/data/gender_timeline_PT.csv')\n",
    "df_gender.to_csv('/Users/dianaow/Documents/singapore_stories/parliament/data/gender_timeline.csv')"
   ]
  },
  {
   "cell_type": "code",
   "execution_count": 61,
   "metadata": {
    "scrolled": true
   },
   "outputs": [],
   "source": [
    "df_party = df.groupby(['Parliament', 'Party'])['Name'].count().reset_index()\n",
    "df_party.rename(columns={'Name': 'value'}, inplace=True)\n",
    "df_party_pt =  pd.pivot_table(df_party, index='Parliament', columns='Party', values='value', fill_value=0).reset_index()\n",
    "df_party_pt.to_csv('/Users/dianaow/Documents/singapore_stories/parliament/data/party_timeline_PT.csv')"
   ]
  },
  {
   "cell_type": "code",
   "execution_count": 62,
   "metadata": {},
   "outputs": [],
   "source": [
    "# Define the sorter\n",
    "sorter = [\"People's Action Party\", \"Workers' Party\", 'Barisan Sosialis', 'Independent', \\\n",
    " 'Singapore Democratic Alliance','Singapore Democratic Party']\n",
    "\n",
    "# Create the dictionary that defines the order for sorting\n",
    "sorterIndex = dict(zip(sorter, range(len(sorter))))\n",
    "\n",
    "# Generate a rank column that will be used to sort\n",
    "# the dataframe numerically\n",
    "df_party['Party_Rank'] = df_party['Party'].map(sorterIndex)\n",
    "\n",
    "df_party.sort_values(['Parliament','Party_Rank'], ascending = True, inplace = True)\n",
    "\n",
    "df_party.to_csv('/Users/dianaow/Documents/singapore_stories/parliament/data/party_timeline.csv')"
   ]
  },
  {
   "cell_type": "code",
   "execution_count": 64,
   "metadata": {
    "scrolled": true
   },
   "outputs": [],
   "source": [
    "constituencies['code'] = constituencies['Defence'].astype(str) + constituencies['Foreign Affairs'].astype(str) + \\\n",
    "constituencies['Health'].astype(str) + constituencies['Transport'].astype(str) + \\\n",
    "constituencies['Sustainability and the Environment'].astype(str) + constituencies['Social & Family Development'].astype(str) + \\\n",
    "constituencies['Communications & Information'].astype(str) + constituencies['Culture, Community and Youth'].astype(str) + \\\n",
    "constituencies['Education'].astype(str) + constituencies['Trade and Industry'].astype(str) + \\\n",
    "constituencies['Manpower'].astype(str) + constituencies['Finance'].astype(str) + \\\n",
    "constituencies['PMO'].astype(str) + constituencies['Law'].astype(str) + \\\n",
    "constituencies['National Development'].astype(str) + constituencies['Home Affairs'].astype(str)"
   ]
  },
  {
   "cell_type": "code",
   "execution_count": null,
   "metadata": {},
   "outputs": [],
   "source": []
  },
  {
   "cell_type": "code",
   "execution_count": null,
   "metadata": {},
   "outputs": [],
   "source": []
  }
 ],
 "metadata": {
  "kernelspec": {
   "display_name": "Python 3",
   "language": "python",
   "name": "python3"
  },
  "language_info": {
   "codemirror_mode": {
    "name": "ipython",
    "version": 3
   },
   "file_extension": ".py",
   "mimetype": "text/x-python",
   "name": "python",
   "nbconvert_exporter": "python",
   "pygments_lexer": "ipython3",
   "version": "3.7.1"
  }
 },
 "nbformat": 4,
 "nbformat_minor": 2
}
