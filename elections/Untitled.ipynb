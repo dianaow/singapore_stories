{
 "cells": [
  {
   "cell_type": "code",
   "execution_count": 1,
   "metadata": {},
   "outputs": [],
   "source": [
    "import geopandas as gpd\n",
    "import pandas as pd"
   ]
  },
  {
   "cell_type": "code",
   "execution_count": 2,
   "metadata": {},
   "outputs": [
    {
     "name": "stderr",
     "output_type": "stream",
     "text": [
      "/Users/dianaow/anaconda3/lib/python3.7/site-packages/ipykernel_launcher.py:3: UserWarning: Geometry is in a geographic CRS. Results from 'centroid' are likely incorrect. Use 'GeoSeries.to_crs()' to re-project geometries to a projected CRS before this operation.\n",
      "\n",
      "  This is separate from the ipykernel package so we can avoid doing imports until\n"
     ]
    }
   ],
   "source": [
    "df = gpd.read_file('/Users/dianaow/Documents/singapore_stories/elections/data/electoral-boundary-2020.geojson')\n",
    "#Find the center point\n",
    "df['Center_point'] = df['geometry'].centroid\n",
    "#Extract lat and lon from the centerpoint\n",
    "df[\"lat\"] = df.Center_point.map(lambda p: p.x)\n",
    "df[\"long\"] = df.Center_point.map(lambda p: p.y)"
   ]
  },
  {
   "cell_type": "code",
   "execution_count": 3,
   "metadata": {},
   "outputs": [
    {
     "data": {
      "text/html": [
       "<div>\n",
       "<style scoped>\n",
       "    .dataframe tbody tr th:only-of-type {\n",
       "        vertical-align: middle;\n",
       "    }\n",
       "\n",
       "    .dataframe tbody tr th {\n",
       "        vertical-align: top;\n",
       "    }\n",
       "\n",
       "    .dataframe thead th {\n",
       "        text-align: right;\n",
       "    }\n",
       "</style>\n",
       "<table border=\"1\" class=\"dataframe\">\n",
       "  <thead>\n",
       "    <tr style=\"text-align: right;\">\n",
       "      <th></th>\n",
       "      <th>id</th>\n",
       "      <th>name</th>\n",
       "      <th>styleUrl</th>\n",
       "      <th>styleHash</th>\n",
       "      <th>description</th>\n",
       "      <th>stroke</th>\n",
       "      <th>stroke-opacity</th>\n",
       "      <th>stroke-width</th>\n",
       "      <th>fill</th>\n",
       "      <th>fill-opacity</th>\n",
       "      <th>geometry</th>\n",
       "      <th>Center_point</th>\n",
       "      <th>lat</th>\n",
       "      <th>long</th>\n",
       "    </tr>\n",
       "  </thead>\n",
       "  <tbody>\n",
       "    <tr>\n",
       "      <th>0</th>\n",
       "      <td>ID_00000</td>\n",
       "      <td>RADIN MAS</td>\n",
       "      <td>#PolyStyle00</td>\n",
       "      <td>17825fb3</td>\n",
       "      <td>&lt;html xmlns:fo=\"http://www.w3.org/1999/XSL/For...</td>\n",
       "      <td>#ff0000</td>\n",
       "      <td>1</td>\n",
       "      <td>1.3</td>\n",
       "      <td>#f0f0f0</td>\n",
       "      <td>0</td>\n",
       "      <td>POLYGON Z ((103.82485 1.26600 0.00000, 103.825...</td>\n",
       "      <td>POINT (103.82015 1.27598)</td>\n",
       "      <td>103.820151</td>\n",
       "      <td>1.275979</td>\n",
       "    </tr>\n",
       "    <tr>\n",
       "      <th>1</th>\n",
       "      <td>ID_00001</td>\n",
       "      <td>MOUNTBATTEN</td>\n",
       "      <td>#PolyStyle00</td>\n",
       "      <td>17825fb3</td>\n",
       "      <td>&lt;html xmlns:fo=\"http://www.w3.org/1999/XSL/For...</td>\n",
       "      <td>#ff0000</td>\n",
       "      <td>1</td>\n",
       "      <td>1.3</td>\n",
       "      <td>#f0f0f0</td>\n",
       "      <td>0</td>\n",
       "      <td>GEOMETRYCOLLECTION Z (POLYGON Z ((103.92027 1....</td>\n",
       "      <td>POINT (103.88393 1.29796)</td>\n",
       "      <td>103.883932</td>\n",
       "      <td>1.297955</td>\n",
       "    </tr>\n",
       "    <tr>\n",
       "      <th>2</th>\n",
       "      <td>ID_00002</td>\n",
       "      <td>TANJONG PAGAR</td>\n",
       "      <td>#PolyStyle00</td>\n",
       "      <td>17825fb3</td>\n",
       "      <td>&lt;html xmlns:fo=\"http://www.w3.org/1999/XSL/For...</td>\n",
       "      <td>#ff0000</td>\n",
       "      <td>1</td>\n",
       "      <td>1.3</td>\n",
       "      <td>#f0f0f0</td>\n",
       "      <td>0</td>\n",
       "      <td>POLYGON Z ((103.84580 1.26163 0.00000, 103.846...</td>\n",
       "      <td>POINT (103.82306 1.30169)</td>\n",
       "      <td>103.823059</td>\n",
       "      <td>1.301685</td>\n",
       "    </tr>\n",
       "    <tr>\n",
       "      <th>3</th>\n",
       "      <td>ID_00003</td>\n",
       "      <td>JALAN BESAR</td>\n",
       "      <td>#PolyStyle00</td>\n",
       "      <td>17825fb3</td>\n",
       "      <td>&lt;html xmlns:fo=\"http://www.w3.org/1999/XSL/For...</td>\n",
       "      <td>#ff0000</td>\n",
       "      <td>1</td>\n",
       "      <td>1.3</td>\n",
       "      <td>#f0f0f0</td>\n",
       "      <td>0</td>\n",
       "      <td>GEOMETRYCOLLECTION Z (POLYGON Z ((103.87383 1....</td>\n",
       "      <td>POINT (103.85724 1.30020)</td>\n",
       "      <td>103.857243</td>\n",
       "      <td>1.300203</td>\n",
       "    </tr>\n",
       "    <tr>\n",
       "      <th>4</th>\n",
       "      <td>ID_00004</td>\n",
       "      <td>MACPHERSON</td>\n",
       "      <td>#PolyStyle00</td>\n",
       "      <td>17825fb3</td>\n",
       "      <td>&lt;html xmlns:fo=\"http://www.w3.org/1999/XSL/For...</td>\n",
       "      <td>#ff0000</td>\n",
       "      <td>1</td>\n",
       "      <td>1.3</td>\n",
       "      <td>#f0f0f0</td>\n",
       "      <td>0</td>\n",
       "      <td>POLYGON Z ((103.88182 1.31494 0.00000, 103.882...</td>\n",
       "      <td>POINT (103.88607 1.32402)</td>\n",
       "      <td>103.886068</td>\n",
       "      <td>1.324020</td>\n",
       "    </tr>\n",
       "  </tbody>\n",
       "</table>\n",
       "</div>"
      ],
      "text/plain": [
       "         id           name      styleUrl styleHash  \\\n",
       "0  ID_00000      RADIN MAS  #PolyStyle00  17825fb3   \n",
       "1  ID_00001    MOUNTBATTEN  #PolyStyle00  17825fb3   \n",
       "2  ID_00002  TANJONG PAGAR  #PolyStyle00  17825fb3   \n",
       "3  ID_00003    JALAN BESAR  #PolyStyle00  17825fb3   \n",
       "4  ID_00004     MACPHERSON  #PolyStyle00  17825fb3   \n",
       "\n",
       "                                         description   stroke  stroke-opacity  \\\n",
       "0  <html xmlns:fo=\"http://www.w3.org/1999/XSL/For...  #ff0000               1   \n",
       "1  <html xmlns:fo=\"http://www.w3.org/1999/XSL/For...  #ff0000               1   \n",
       "2  <html xmlns:fo=\"http://www.w3.org/1999/XSL/For...  #ff0000               1   \n",
       "3  <html xmlns:fo=\"http://www.w3.org/1999/XSL/For...  #ff0000               1   \n",
       "4  <html xmlns:fo=\"http://www.w3.org/1999/XSL/For...  #ff0000               1   \n",
       "\n",
       "   stroke-width     fill  fill-opacity  \\\n",
       "0           1.3  #f0f0f0             0   \n",
       "1           1.3  #f0f0f0             0   \n",
       "2           1.3  #f0f0f0             0   \n",
       "3           1.3  #f0f0f0             0   \n",
       "4           1.3  #f0f0f0             0   \n",
       "\n",
       "                                            geometry  \\\n",
       "0  POLYGON Z ((103.82485 1.26600 0.00000, 103.825...   \n",
       "1  GEOMETRYCOLLECTION Z (POLYGON Z ((103.92027 1....   \n",
       "2  POLYGON Z ((103.84580 1.26163 0.00000, 103.846...   \n",
       "3  GEOMETRYCOLLECTION Z (POLYGON Z ((103.87383 1....   \n",
       "4  POLYGON Z ((103.88182 1.31494 0.00000, 103.882...   \n",
       "\n",
       "                Center_point         lat      long  \n",
       "0  POINT (103.82015 1.27598)  103.820151  1.275979  \n",
       "1  POINT (103.88393 1.29796)  103.883932  1.297955  \n",
       "2  POINT (103.82306 1.30169)  103.823059  1.301685  \n",
       "3  POINT (103.85724 1.30020)  103.857243  1.300203  \n",
       "4  POINT (103.88607 1.32402)  103.886068  1.324020  "
      ]
     },
     "execution_count": 3,
     "metadata": {},
     "output_type": "execute_result"
    }
   ],
   "source": [
    "df.head()"
   ]
  },
  {
   "cell_type": "code",
   "execution_count": 56,
   "metadata": {
    "scrolled": true
   },
   "outputs": [],
   "source": [
    "constituencies = pd.read_csv(\"/Users/dianaow/Documents/singapore_stories/elections/data/Singapore Members of Parliament - Consituencies.csv\")"
   ]
  },
  {
   "cell_type": "code",
   "execution_count": 57,
   "metadata": {},
   "outputs": [],
   "source": [
    "designation = pd.read_csv(\"/Users/dianaow/Documents/singapore_stories/elections/data/Singapore Members of Parliament - 14th_Parliament.csv\")"
   ]
  },
  {
   "cell_type": "code",
   "execution_count": 58,
   "metadata": {
    "scrolled": true
   },
   "outputs": [],
   "source": [
    "constituencies['Division'] = constituencies['Division'].str.upper() \n",
    "constituencies = pd.merge(constituencies, df.rename(columns={\"name\": 'Division'})[['Division', 'lat', 'long']], on='Division', how='left') "
   ]
  },
  {
   "cell_type": "code",
   "execution_count": 59,
   "metadata": {},
   "outputs": [
    {
     "data": {
      "text/html": [
       "<div>\n",
       "<style scoped>\n",
       "    .dataframe tbody tr th:only-of-type {\n",
       "        vertical-align: middle;\n",
       "    }\n",
       "\n",
       "    .dataframe tbody tr th {\n",
       "        vertical-align: top;\n",
       "    }\n",
       "\n",
       "    .dataframe thead th {\n",
       "        text-align: right;\n",
       "    }\n",
       "</style>\n",
       "<table border=\"1\" class=\"dataframe\">\n",
       "  <thead>\n",
       "    <tr style=\"text-align: right;\">\n",
       "      <th></th>\n",
       "      <th>Division</th>\n",
       "      <th>Type</th>\n",
       "      <th>Name</th>\n",
       "      <th>lat</th>\n",
       "      <th>long</th>\n",
       "    </tr>\n",
       "  </thead>\n",
       "  <tbody>\n",
       "  </tbody>\n",
       "</table>\n",
       "</div>"
      ],
      "text/plain": [
       "Empty DataFrame\n",
       "Columns: [Division, Type, Name, lat, long]\n",
       "Index: []"
      ]
     },
     "execution_count": 59,
     "metadata": {},
     "output_type": "execute_result"
    }
   ],
   "source": [
    "constituencies[constituencies['lat'].isnull()]"
   ]
  },
  {
   "cell_type": "code",
   "execution_count": 60,
   "metadata": {},
   "outputs": [],
   "source": [
    "constituencies['newName'] = constituencies['Name'].apply(lambda x : x.replace(' ', '_'))"
   ]
  },
  {
   "cell_type": "code",
   "execution_count": 61,
   "metadata": {
    "scrolled": true
   },
   "outputs": [],
   "source": [
    "constituencies = pd.merge(constituencies, designation.rename(columns={'Type': 'Title'}), on='Name', how='left')"
   ]
  },
  {
   "cell_type": "code",
   "execution_count": 62,
   "metadata": {
    "scrolled": true
   },
   "outputs": [],
   "source": [
    "constituencies.to_csv('/Users/dianaow/Documents/singapore_stories/elections/data/mps_constituencies.csv')"
   ]
  },
  {
   "cell_type": "code",
   "execution_count": 63,
   "metadata": {
    "scrolled": true
   },
   "outputs": [
    {
     "data": {
      "text/html": [
       "<div>\n",
       "<style scoped>\n",
       "    .dataframe tbody tr th:only-of-type {\n",
       "        vertical-align: middle;\n",
       "    }\n",
       "\n",
       "    .dataframe tbody tr th {\n",
       "        vertical-align: top;\n",
       "    }\n",
       "\n",
       "    .dataframe thead th {\n",
       "        text-align: right;\n",
       "    }\n",
       "</style>\n",
       "<table border=\"1\" class=\"dataframe\">\n",
       "  <thead>\n",
       "    <tr style=\"text-align: right;\">\n",
       "      <th></th>\n",
       "      <th>Division</th>\n",
       "      <th>Type</th>\n",
       "      <th>Name</th>\n",
       "      <th>lat</th>\n",
       "      <th>long</th>\n",
       "      <th>newName</th>\n",
       "      <th>Party</th>\n",
       "      <th>Ethnicity</th>\n",
       "      <th>Gender</th>\n",
       "      <th>Title</th>\n",
       "      <th>Parliament</th>\n",
       "      <th>Type.1</th>\n",
       "      <th>Ministry_1</th>\n",
       "      <th>Ministry_2</th>\n",
       "      <th>Ministry_3</th>\n",
       "      <th>Title_1</th>\n",
       "      <th>Title_2</th>\n",
       "      <th>Title_3</th>\n",
       "    </tr>\n",
       "  </thead>\n",
       "  <tbody>\n",
       "  </tbody>\n",
       "</table>\n",
       "</div>"
      ],
      "text/plain": [
       "Empty DataFrame\n",
       "Columns: [Division, Type, Name, lat, long, newName, Party, Ethnicity, Gender, Title, Parliament, Type.1, Ministry_1, Ministry_2, Ministry_3, Title_1, Title_2, Title_3]\n",
       "Index: []"
      ]
     },
     "execution_count": 63,
     "metadata": {},
     "output_type": "execute_result"
    }
   ],
   "source": [
    "constituencies[(constituencies['Ministry_1'].isnull()) & (constituencies['Type.1'] == 'Cabinet')]"
   ]
  },
  {
   "cell_type": "code",
   "execution_count": 64,
   "metadata": {},
   "outputs": [
    {
     "data": {
      "text/html": [
       "<div>\n",
       "<style scoped>\n",
       "    .dataframe tbody tr th:only-of-type {\n",
       "        vertical-align: middle;\n",
       "    }\n",
       "\n",
       "    .dataframe tbody tr th {\n",
       "        vertical-align: top;\n",
       "    }\n",
       "\n",
       "    .dataframe thead th {\n",
       "        text-align: right;\n",
       "    }\n",
       "</style>\n",
       "<table border=\"1\" class=\"dataframe\">\n",
       "  <thead>\n",
       "    <tr style=\"text-align: right;\">\n",
       "      <th></th>\n",
       "      <th>Division</th>\n",
       "      <th>Type</th>\n",
       "      <th>Name</th>\n",
       "      <th>lat</th>\n",
       "      <th>long</th>\n",
       "      <th>newName</th>\n",
       "      <th>Party</th>\n",
       "      <th>Ethnicity</th>\n",
       "      <th>Gender</th>\n",
       "      <th>Title</th>\n",
       "      <th>Parliament</th>\n",
       "      <th>Type.1</th>\n",
       "      <th>Ministry_1</th>\n",
       "      <th>Ministry_2</th>\n",
       "      <th>Ministry_3</th>\n",
       "      <th>Title_1</th>\n",
       "      <th>Title_2</th>\n",
       "      <th>Title_3</th>\n",
       "    </tr>\n",
       "  </thead>\n",
       "  <tbody>\n",
       "    <tr>\n",
       "      <th>19</th>\n",
       "      <td>CHUA CHU KANG</td>\n",
       "      <td>GRC</td>\n",
       "      <td>Don Wee</td>\n",
       "      <td>103.704464</td>\n",
       "      <td>1.394100</td>\n",
       "      <td>Don_Wee</td>\n",
       "      <td>NaN</td>\n",
       "      <td>NaN</td>\n",
       "      <td>NaN</td>\n",
       "      <td>NaN</td>\n",
       "      <td>NaN</td>\n",
       "      <td>NaN</td>\n",
       "      <td>NaN</td>\n",
       "      <td>NaN</td>\n",
       "      <td>NaN</td>\n",
       "      <td>NaN</td>\n",
       "      <td>NaN</td>\n",
       "      <td>NaN</td>\n",
       "    </tr>\n",
       "    <tr>\n",
       "      <th>33</th>\n",
       "      <td>KEBUN BARU</td>\n",
       "      <td>SMC</td>\n",
       "      <td>Henry Kwek</td>\n",
       "      <td>103.825784</td>\n",
       "      <td>1.381592</td>\n",
       "      <td>Henry_Kwek</td>\n",
       "      <td>NaN</td>\n",
       "      <td>NaN</td>\n",
       "      <td>NaN</td>\n",
       "      <td>NaN</td>\n",
       "      <td>NaN</td>\n",
       "      <td>NaN</td>\n",
       "      <td>NaN</td>\n",
       "      <td>NaN</td>\n",
       "      <td>NaN</td>\n",
       "      <td>NaN</td>\n",
       "      <td>NaN</td>\n",
       "      <td>NaN</td>\n",
       "    </tr>\n",
       "    <tr>\n",
       "      <th>52</th>\n",
       "      <td>SEMBAWANG</td>\n",
       "      <td>GRC</td>\n",
       "      <td>Mariam Jaafar</td>\n",
       "      <td>103.809081</td>\n",
       "      <td>1.451348</td>\n",
       "      <td>Mariam_Jaafar</td>\n",
       "      <td>NaN</td>\n",
       "      <td>NaN</td>\n",
       "      <td>NaN</td>\n",
       "      <td>NaN</td>\n",
       "      <td>NaN</td>\n",
       "      <td>NaN</td>\n",
       "      <td>NaN</td>\n",
       "      <td>NaN</td>\n",
       "      <td>NaN</td>\n",
       "      <td>NaN</td>\n",
       "      <td>NaN</td>\n",
       "      <td>NaN</td>\n",
       "    </tr>\n",
       "  </tbody>\n",
       "</table>\n",
       "</div>"
      ],
      "text/plain": [
       "         Division Type           Name         lat      long        newName  \\\n",
       "19  CHUA CHU KANG  GRC        Don Wee  103.704464  1.394100        Don_Wee   \n",
       "33     KEBUN BARU  SMC     Henry Kwek  103.825784  1.381592     Henry_Kwek   \n",
       "52      SEMBAWANG  GRC  Mariam Jaafar  103.809081  1.451348  Mariam_Jaafar   \n",
       "\n",
       "   Party Ethnicity Gender Title  Parliament Type.1 Ministry_1 Ministry_2  \\\n",
       "19   NaN       NaN    NaN   NaN         NaN    NaN        NaN        NaN   \n",
       "33   NaN       NaN    NaN   NaN         NaN    NaN        NaN        NaN   \n",
       "52   NaN       NaN    NaN   NaN         NaN    NaN        NaN        NaN   \n",
       "\n",
       "   Ministry_3 Title_1 Title_2 Title_3  \n",
       "19        NaN     NaN     NaN     NaN  \n",
       "33        NaN     NaN     NaN     NaN  \n",
       "52        NaN     NaN     NaN     NaN  "
      ]
     },
     "execution_count": 64,
     "metadata": {},
     "output_type": "execute_result"
    }
   ],
   "source": [
    "constituencies[constituencies['Party'].isnull()]"
   ]
  },
  {
   "cell_type": "code",
   "execution_count": null,
   "metadata": {},
   "outputs": [],
   "source": []
  },
  {
   "cell_type": "code",
   "execution_count": null,
   "metadata": {},
   "outputs": [],
   "source": []
  }
 ],
 "metadata": {
  "kernelspec": {
   "display_name": "Python 3",
   "language": "python",
   "name": "python3"
  },
  "language_info": {
   "codemirror_mode": {
    "name": "ipython",
    "version": 3
   },
   "file_extension": ".py",
   "mimetype": "text/x-python",
   "name": "python",
   "nbconvert_exporter": "python",
   "pygments_lexer": "ipython3",
   "version": "3.7.1"
  }
 },
 "nbformat": 4,
 "nbformat_minor": 2
}
